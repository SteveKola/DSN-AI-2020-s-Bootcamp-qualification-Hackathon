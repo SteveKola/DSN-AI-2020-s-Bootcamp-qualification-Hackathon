{
 "cells": [
  {
   "cell_type": "markdown",
   "metadata": {
    "papermill": {
     "duration": 0.027771,
     "end_time": "2020-10-03T16:32:06.001785",
     "exception": false,
     "start_time": "2020-10-03T16:32:05.974014",
     "status": "completed"
    },
    "tags": []
   },
   "source": [
    "## Setup and Loading Data"
   ]
  },
  {
   "cell_type": "code",
   "execution_count": 1,
   "metadata": {
    "execution": {
     "iopub.execute_input": "2020-10-03T16:32:06.063049Z",
     "iopub.status.busy": "2020-10-03T16:32:06.062199Z",
     "iopub.status.idle": "2020-10-03T16:32:07.098896Z",
     "shell.execute_reply": "2020-10-03T16:32:07.098071Z"
    },
    "papermill": {
     "duration": 1.070219,
     "end_time": "2020-10-03T16:32:07.099027",
     "exception": false,
     "start_time": "2020-10-03T16:32:06.028808",
     "status": "completed"
    },
    "tags": []
   },
   "outputs": [],
   "source": [
    "import numpy as np\n",
    "import pandas as pd\n",
    "\n",
    "import matplotlib.pyplot as plt\n",
    "import seaborn as sns\n",
    "plt.style.use('ggplot')"
   ]
  },
  {
   "cell_type": "code",
   "execution_count": 2,
   "metadata": {
    "execution": {
     "iopub.execute_input": "2020-10-03T16:32:07.167334Z",
     "iopub.status.busy": "2020-10-03T16:32:07.166567Z",
     "iopub.status.idle": "2020-10-03T16:32:07.711724Z",
     "shell.execute_reply": "2020-10-03T16:32:07.711100Z"
    },
    "papermill": {
     "duration": 0.58281,
     "end_time": "2020-10-03T16:32:07.711841",
     "exception": false,
     "start_time": "2020-10-03T16:32:07.129031",
     "status": "completed"
    },
    "tags": []
   },
   "outputs": [
    {
     "data": {
      "text/html": [
       "<div>\n",
       "<style scoped>\n",
       "    .dataframe tbody tr th:only-of-type {\n",
       "        vertical-align: middle;\n",
       "    }\n",
       "\n",
       "    .dataframe tbody tr th {\n",
       "        vertical-align: top;\n",
       "    }\n",
       "\n",
       "    .dataframe thead th {\n",
       "        text-align: right;\n",
       "    }\n",
       "</style>\n",
       "<table border=\"1\" class=\"dataframe\">\n",
       "  <thead>\n",
       "    <tr style=\"text-align: right;\">\n",
       "      <th></th>\n",
       "      <th>form_field1</th>\n",
       "      <th>form_field2</th>\n",
       "      <th>form_field3</th>\n",
       "      <th>form_field4</th>\n",
       "      <th>form_field5</th>\n",
       "      <th>form_field6</th>\n",
       "      <th>form_field7</th>\n",
       "      <th>form_field8</th>\n",
       "      <th>form_field9</th>\n",
       "      <th>form_field10</th>\n",
       "      <th>...</th>\n",
       "      <th>form_field42</th>\n",
       "      <th>form_field43</th>\n",
       "      <th>form_field44</th>\n",
       "      <th>form_field45</th>\n",
       "      <th>form_field46</th>\n",
       "      <th>form_field47</th>\n",
       "      <th>form_field48</th>\n",
       "      <th>form_field49</th>\n",
       "      <th>form_field50</th>\n",
       "      <th>default_status</th>\n",
       "    </tr>\n",
       "    <tr>\n",
       "      <th>Applicant_ID</th>\n",
       "      <th></th>\n",
       "      <th></th>\n",
       "      <th></th>\n",
       "      <th></th>\n",
       "      <th></th>\n",
       "      <th></th>\n",
       "      <th></th>\n",
       "      <th></th>\n",
       "      <th></th>\n",
       "      <th></th>\n",
       "      <th></th>\n",
       "      <th></th>\n",
       "      <th></th>\n",
       "      <th></th>\n",
       "      <th></th>\n",
       "      <th></th>\n",
       "      <th></th>\n",
       "      <th></th>\n",
       "      <th></th>\n",
       "      <th></th>\n",
       "      <th></th>\n",
       "    </tr>\n",
       "  </thead>\n",
       "  <tbody>\n",
       "    <tr>\n",
       "      <th>Apcnt_1000000</th>\n",
       "      <td>3436.0</td>\n",
       "      <td>0.28505</td>\n",
       "      <td>1.6560</td>\n",
       "      <td>0.0</td>\n",
       "      <td>0.0</td>\n",
       "      <td>0.0</td>\n",
       "      <td>10689720.0</td>\n",
       "      <td>252072.0</td>\n",
       "      <td>4272776.0</td>\n",
       "      <td>11333126.0</td>\n",
       "      <td>...</td>\n",
       "      <td>0.392854</td>\n",
       "      <td>2.02</td>\n",
       "      <td>0.711632</td>\n",
       "      <td>0.0</td>\n",
       "      <td>0.0</td>\n",
       "      <td>charge</td>\n",
       "      <td>NaN</td>\n",
       "      <td>1.129518</td>\n",
       "      <td>0.044335</td>\n",
       "      <td>no</td>\n",
       "    </tr>\n",
       "    <tr>\n",
       "      <th>Apcnt_1000004</th>\n",
       "      <td>3456.0</td>\n",
       "      <td>0.67400</td>\n",
       "      <td>0.2342</td>\n",
       "      <td>0.0</td>\n",
       "      <td>0.0</td>\n",
       "      <td>0.0</td>\n",
       "      <td>898979.0</td>\n",
       "      <td>497531.0</td>\n",
       "      <td>9073814.0</td>\n",
       "      <td>2533168.0</td>\n",
       "      <td>...</td>\n",
       "      <td>0.314281</td>\n",
       "      <td>8.08</td>\n",
       "      <td>0.183584</td>\n",
       "      <td>NaN</td>\n",
       "      <td>0.0</td>\n",
       "      <td>charge</td>\n",
       "      <td>349.80573</td>\n",
       "      <td>1.620483</td>\n",
       "      <td>0.322436</td>\n",
       "      <td>no</td>\n",
       "    </tr>\n",
       "  </tbody>\n",
       "</table>\n",
       "<p>2 rows × 51 columns</p>\n",
       "</div>"
      ],
      "text/plain": [
       "               form_field1  form_field2  form_field3  form_field4  \\\n",
       "Applicant_ID                                                        \n",
       "Apcnt_1000000       3436.0      0.28505       1.6560          0.0   \n",
       "Apcnt_1000004       3456.0      0.67400       0.2342          0.0   \n",
       "\n",
       "               form_field5  form_field6  form_field7  form_field8  \\\n",
       "Applicant_ID                                                        \n",
       "Apcnt_1000000          0.0          0.0   10689720.0     252072.0   \n",
       "Apcnt_1000004          0.0          0.0     898979.0     497531.0   \n",
       "\n",
       "               form_field9  form_field10  ...  form_field42  form_field43  \\\n",
       "Applicant_ID                              ...                               \n",
       "Apcnt_1000000    4272776.0    11333126.0  ...      0.392854          2.02   \n",
       "Apcnt_1000004    9073814.0     2533168.0  ...      0.314281          8.08   \n",
       "\n",
       "               form_field44  form_field45  form_field46  form_field47  \\\n",
       "Applicant_ID                                                            \n",
       "Apcnt_1000000      0.711632           0.0           0.0        charge   \n",
       "Apcnt_1000004      0.183584           NaN           0.0        charge   \n",
       "\n",
       "               form_field48  form_field49  form_field50  default_status  \n",
       "Applicant_ID                                                             \n",
       "Apcnt_1000000           NaN      1.129518      0.044335              no  \n",
       "Apcnt_1000004     349.80573      1.620483      0.322436              no  \n",
       "\n",
       "[2 rows x 51 columns]"
      ]
     },
     "execution_count": 2,
     "metadata": {},
     "output_type": "execute_result"
    }
   ],
   "source": [
    "train = pd.read_csv(\"../input/2020aibootacampqualifiers/Train.csv\", index_col=\"Applicant_ID\")\n",
    "\n",
    "train.head(2)"
   ]
  },
  {
   "cell_type": "code",
   "execution_count": 3,
   "metadata": {
    "execution": {
     "iopub.execute_input": "2020-10-03T16:32:07.773517Z",
     "iopub.status.busy": "2020-10-03T16:32:07.772770Z",
     "iopub.status.idle": "2020-10-03T16:32:08.013200Z",
     "shell.execute_reply": "2020-10-03T16:32:08.012483Z"
    },
    "papermill": {
     "duration": 0.273467,
     "end_time": "2020-10-03T16:32:08.013336",
     "exception": false,
     "start_time": "2020-10-03T16:32:07.739869",
     "status": "completed"
    },
    "tags": []
   },
   "outputs": [
    {
     "data": {
      "text/html": [
       "<div>\n",
       "<style scoped>\n",
       "    .dataframe tbody tr th:only-of-type {\n",
       "        vertical-align: middle;\n",
       "    }\n",
       "\n",
       "    .dataframe tbody tr th {\n",
       "        vertical-align: top;\n",
       "    }\n",
       "\n",
       "    .dataframe thead th {\n",
       "        text-align: right;\n",
       "    }\n",
       "</style>\n",
       "<table border=\"1\" class=\"dataframe\">\n",
       "  <thead>\n",
       "    <tr style=\"text-align: right;\">\n",
       "      <th></th>\n",
       "      <th>form_field1</th>\n",
       "      <th>form_field2</th>\n",
       "      <th>form_field3</th>\n",
       "      <th>form_field4</th>\n",
       "      <th>form_field5</th>\n",
       "      <th>form_field6</th>\n",
       "      <th>form_field7</th>\n",
       "      <th>form_field8</th>\n",
       "      <th>form_field9</th>\n",
       "      <th>form_field10</th>\n",
       "      <th>...</th>\n",
       "      <th>form_field41</th>\n",
       "      <th>form_field42</th>\n",
       "      <th>form_field43</th>\n",
       "      <th>form_field44</th>\n",
       "      <th>form_field45</th>\n",
       "      <th>form_field46</th>\n",
       "      <th>form_field47</th>\n",
       "      <th>form_field48</th>\n",
       "      <th>form_field49</th>\n",
       "      <th>form_field50</th>\n",
       "    </tr>\n",
       "    <tr>\n",
       "      <th>Applicant_ID</th>\n",
       "      <th></th>\n",
       "      <th></th>\n",
       "      <th></th>\n",
       "      <th></th>\n",
       "      <th></th>\n",
       "      <th></th>\n",
       "      <th></th>\n",
       "      <th></th>\n",
       "      <th></th>\n",
       "      <th></th>\n",
       "      <th></th>\n",
       "      <th></th>\n",
       "      <th></th>\n",
       "      <th></th>\n",
       "      <th></th>\n",
       "      <th></th>\n",
       "      <th></th>\n",
       "      <th></th>\n",
       "      <th></th>\n",
       "      <th></th>\n",
       "      <th></th>\n",
       "    </tr>\n",
       "  </thead>\n",
       "  <tbody>\n",
       "    <tr>\n",
       "      <th>Apcnt_1000032</th>\n",
       "      <td>3236.0</td>\n",
       "      <td>0.34875</td>\n",
       "      <td>10.2006</td>\n",
       "      <td>0.0000</td>\n",
       "      <td>0.0</td>\n",
       "      <td>418564.0</td>\n",
       "      <td>418564.0</td>\n",
       "      <td>418564.0</td>\n",
       "      <td>540710.0</td>\n",
       "      <td>0.0</td>\n",
       "      <td>...</td>\n",
       "      <td>NaN</td>\n",
       "      <td>0.825000</td>\n",
       "      <td>1.01</td>\n",
       "      <td>0.800000</td>\n",
       "      <td>NaN</td>\n",
       "      <td>0.0</td>\n",
       "      <td>charge</td>\n",
       "      <td>NaN</td>\n",
       "      <td>0.000000</td>\n",
       "      <td>0.011221</td>\n",
       "    </tr>\n",
       "    <tr>\n",
       "      <th>Apcnt_1000048</th>\n",
       "      <td>3284.0</td>\n",
       "      <td>1.27360</td>\n",
       "      <td>2.9606</td>\n",
       "      <td>9.0198</td>\n",
       "      <td>0.0</td>\n",
       "      <td>0.0</td>\n",
       "      <td>9858816.0</td>\n",
       "      <td>49014.0</td>\n",
       "      <td>1510098.0</td>\n",
       "      <td>18308285.0</td>\n",
       "      <td>...</td>\n",
       "      <td>18.8415</td>\n",
       "      <td>0.507694</td>\n",
       "      <td>4.04</td>\n",
       "      <td>0.623248</td>\n",
       "      <td>1.0</td>\n",
       "      <td>0.0</td>\n",
       "      <td>lending</td>\n",
       "      <td>NaN</td>\n",
       "      <td>0.504974</td>\n",
       "      <td>0.043525</td>\n",
       "    </tr>\n",
       "  </tbody>\n",
       "</table>\n",
       "<p>2 rows × 50 columns</p>\n",
       "</div>"
      ],
      "text/plain": [
       "               form_field1  form_field2  form_field3  form_field4  \\\n",
       "Applicant_ID                                                        \n",
       "Apcnt_1000032       3236.0      0.34875      10.2006       0.0000   \n",
       "Apcnt_1000048       3284.0      1.27360       2.9606       9.0198   \n",
       "\n",
       "               form_field5  form_field6  form_field7  form_field8  \\\n",
       "Applicant_ID                                                        \n",
       "Apcnt_1000032          0.0     418564.0     418564.0     418564.0   \n",
       "Apcnt_1000048          0.0          0.0    9858816.0      49014.0   \n",
       "\n",
       "               form_field9  form_field10  ...  form_field41  form_field42  \\\n",
       "Applicant_ID                              ...                               \n",
       "Apcnt_1000032     540710.0           0.0  ...           NaN      0.825000   \n",
       "Apcnt_1000048    1510098.0    18308285.0  ...       18.8415      0.507694   \n",
       "\n",
       "               form_field43  form_field44  form_field45  form_field46  \\\n",
       "Applicant_ID                                                            \n",
       "Apcnt_1000032          1.01      0.800000           NaN           0.0   \n",
       "Apcnt_1000048          4.04      0.623248           1.0           0.0   \n",
       "\n",
       "               form_field47  form_field48  form_field49  form_field50  \n",
       "Applicant_ID                                                           \n",
       "Apcnt_1000032        charge           NaN      0.000000      0.011221  \n",
       "Apcnt_1000048       lending           NaN      0.504974      0.043525  \n",
       "\n",
       "[2 rows x 50 columns]"
      ]
     },
     "execution_count": 3,
     "metadata": {},
     "output_type": "execute_result"
    }
   ],
   "source": [
    "test = pd.read_csv(\"../input/2020aibootacampqualifiers/Test.csv\", index_col=\"Applicant_ID\")\n",
    "\n",
    "test.head(2)"
   ]
  },
  {
   "cell_type": "markdown",
   "metadata": {
    "papermill": {
     "duration": 0.028693,
     "end_time": "2020-10-03T16:32:08.070322",
     "exception": false,
     "start_time": "2020-10-03T16:32:08.041629",
     "status": "completed"
    },
    "tags": []
   },
   "source": [
    " ## Data Preprocessing"
   ]
  },
  {
   "cell_type": "markdown",
   "metadata": {
    "papermill": {
     "duration": 0.02791,
     "end_time": "2020-10-03T16:32:08.126644",
     "exception": false,
     "start_time": "2020-10-03T16:32:08.098734",
     "status": "completed"
    },
    "tags": []
   },
   "source": [
    "### Checking & Encoding Categorical Columns"
   ]
  },
  {
   "cell_type": "code",
   "execution_count": 4,
   "metadata": {
    "execution": {
     "iopub.execute_input": "2020-10-03T16:32:08.200423Z",
     "iopub.status.busy": "2020-10-03T16:32:08.198764Z",
     "iopub.status.idle": "2020-10-03T16:32:08.205515Z",
     "shell.execute_reply": "2020-10-03T16:32:08.204776Z"
    },
    "papermill": {
     "duration": 0.049826,
     "end_time": "2020-10-03T16:32:08.205637",
     "exception": false,
     "start_time": "2020-10-03T16:32:08.155811",
     "status": "completed"
    },
    "tags": []
   },
   "outputs": [],
   "source": [
    "train.default_status = train.default_status.map({'no': 0, 'yes': 1})"
   ]
  },
  {
   "cell_type": "code",
   "execution_count": 5,
   "metadata": {
    "execution": {
     "iopub.execute_input": "2020-10-03T16:32:08.288540Z",
     "iopub.status.busy": "2020-10-03T16:32:08.285442Z",
     "iopub.status.idle": "2020-10-03T16:32:08.329855Z",
     "shell.execute_reply": "2020-10-03T16:32:08.329157Z"
    },
    "papermill": {
     "duration": 0.09601,
     "end_time": "2020-10-03T16:32:08.329992",
     "exception": false,
     "start_time": "2020-10-03T16:32:08.233982",
     "status": "completed"
    },
    "tags": []
   },
   "outputs": [],
   "source": [
    "weight = 300\n",
    "global_mean = train.default_status.mean()\n",
    "\n",
    "# compute the number of values and mean of the column\n",
    "aggs = train.groupby('form_field47')['default_status'].agg(['count', 'mean'])\n",
    "counts, means = aggs['count'], aggs['mean']\n",
    "\n",
    "# compute the smoothed means\n",
    "smooth = (counts * means + weight + global_mean) / (counts + weight)\n",
    "\n",
    "train.form_field47 = train.form_field47.map(smooth)\n",
    "test.form_field47 = test.form_field47.map(smooth)"
   ]
  },
  {
   "cell_type": "code",
   "execution_count": 6,
   "metadata": {
    "execution": {
     "iopub.execute_input": "2020-10-03T16:32:08.416523Z",
     "iopub.status.busy": "2020-10-03T16:32:08.415574Z",
     "iopub.status.idle": "2020-10-03T16:32:08.420676Z",
     "shell.execute_reply": "2020-10-03T16:32:08.420095Z"
    },
    "papermill": {
     "duration": 0.062015,
     "end_time": "2020-10-03T16:32:08.420808",
     "exception": false,
     "start_time": "2020-10-03T16:32:08.358793",
     "status": "completed"
    },
    "tags": []
   },
   "outputs": [
    {
     "data": {
      "text/html": [
       "<div>\n",
       "<style scoped>\n",
       "    .dataframe tbody tr th:only-of-type {\n",
       "        vertical-align: middle;\n",
       "    }\n",
       "\n",
       "    .dataframe tbody tr th {\n",
       "        vertical-align: top;\n",
       "    }\n",
       "\n",
       "    .dataframe thead th {\n",
       "        text-align: right;\n",
       "    }\n",
       "</style>\n",
       "<table border=\"1\" class=\"dataframe\">\n",
       "  <thead>\n",
       "    <tr style=\"text-align: right;\">\n",
       "      <th></th>\n",
       "      <th>form_field1</th>\n",
       "      <th>form_field2</th>\n",
       "      <th>form_field3</th>\n",
       "      <th>form_field4</th>\n",
       "      <th>form_field5</th>\n",
       "      <th>form_field6</th>\n",
       "      <th>form_field7</th>\n",
       "      <th>form_field8</th>\n",
       "      <th>form_field9</th>\n",
       "      <th>form_field10</th>\n",
       "      <th>...</th>\n",
       "      <th>form_field42</th>\n",
       "      <th>form_field43</th>\n",
       "      <th>form_field44</th>\n",
       "      <th>form_field45</th>\n",
       "      <th>form_field46</th>\n",
       "      <th>form_field47</th>\n",
       "      <th>form_field48</th>\n",
       "      <th>form_field49</th>\n",
       "      <th>form_field50</th>\n",
       "      <th>default_status</th>\n",
       "    </tr>\n",
       "    <tr>\n",
       "      <th>Applicant_ID</th>\n",
       "      <th></th>\n",
       "      <th></th>\n",
       "      <th></th>\n",
       "      <th></th>\n",
       "      <th></th>\n",
       "      <th></th>\n",
       "      <th></th>\n",
       "      <th></th>\n",
       "      <th></th>\n",
       "      <th></th>\n",
       "      <th></th>\n",
       "      <th></th>\n",
       "      <th></th>\n",
       "      <th></th>\n",
       "      <th></th>\n",
       "      <th></th>\n",
       "      <th></th>\n",
       "      <th></th>\n",
       "      <th></th>\n",
       "      <th></th>\n",
       "      <th></th>\n",
       "    </tr>\n",
       "  </thead>\n",
       "  <tbody>\n",
       "    <tr>\n",
       "      <th>Apcnt_1000000</th>\n",
       "      <td>3436.0</td>\n",
       "      <td>0.28505</td>\n",
       "      <td>1.6560</td>\n",
       "      <td>0.0</td>\n",
       "      <td>0.0</td>\n",
       "      <td>0.0</td>\n",
       "      <td>10689720.0</td>\n",
       "      <td>252072.0</td>\n",
       "      <td>4272776.0</td>\n",
       "      <td>11333126.0</td>\n",
       "      <td>...</td>\n",
       "      <td>0.392854</td>\n",
       "      <td>2.02</td>\n",
       "      <td>0.711632</td>\n",
       "      <td>0.0</td>\n",
       "      <td>0.0</td>\n",
       "      <td>0.322506</td>\n",
       "      <td>NaN</td>\n",
       "      <td>1.129518</td>\n",
       "      <td>0.044335</td>\n",
       "      <td>0</td>\n",
       "    </tr>\n",
       "    <tr>\n",
       "      <th>Apcnt_1000004</th>\n",
       "      <td>3456.0</td>\n",
       "      <td>0.67400</td>\n",
       "      <td>0.2342</td>\n",
       "      <td>0.0</td>\n",
       "      <td>0.0</td>\n",
       "      <td>0.0</td>\n",
       "      <td>898979.0</td>\n",
       "      <td>497531.0</td>\n",
       "      <td>9073814.0</td>\n",
       "      <td>2533168.0</td>\n",
       "      <td>...</td>\n",
       "      <td>0.314281</td>\n",
       "      <td>8.08</td>\n",
       "      <td>0.183584</td>\n",
       "      <td>NaN</td>\n",
       "      <td>0.0</td>\n",
       "      <td>0.322506</td>\n",
       "      <td>349.80573</td>\n",
       "      <td>1.620483</td>\n",
       "      <td>0.322436</td>\n",
       "      <td>0</td>\n",
       "    </tr>\n",
       "  </tbody>\n",
       "</table>\n",
       "<p>2 rows × 51 columns</p>\n",
       "</div>"
      ],
      "text/plain": [
       "               form_field1  form_field2  form_field3  form_field4  \\\n",
       "Applicant_ID                                                        \n",
       "Apcnt_1000000       3436.0      0.28505       1.6560          0.0   \n",
       "Apcnt_1000004       3456.0      0.67400       0.2342          0.0   \n",
       "\n",
       "               form_field5  form_field6  form_field7  form_field8  \\\n",
       "Applicant_ID                                                        \n",
       "Apcnt_1000000          0.0          0.0   10689720.0     252072.0   \n",
       "Apcnt_1000004          0.0          0.0     898979.0     497531.0   \n",
       "\n",
       "               form_field9  form_field10  ...  form_field42  form_field43  \\\n",
       "Applicant_ID                              ...                               \n",
       "Apcnt_1000000    4272776.0    11333126.0  ...      0.392854          2.02   \n",
       "Apcnt_1000004    9073814.0     2533168.0  ...      0.314281          8.08   \n",
       "\n",
       "               form_field44  form_field45  form_field46  form_field47  \\\n",
       "Applicant_ID                                                            \n",
       "Apcnt_1000000      0.711632           0.0           0.0      0.322506   \n",
       "Apcnt_1000004      0.183584           NaN           0.0      0.322506   \n",
       "\n",
       "               form_field48  form_field49  form_field50  default_status  \n",
       "Applicant_ID                                                             \n",
       "Apcnt_1000000           NaN      1.129518      0.044335               0  \n",
       "Apcnt_1000004     349.80573      1.620483      0.322436               0  \n",
       "\n",
       "[2 rows x 51 columns]"
      ]
     },
     "execution_count": 6,
     "metadata": {},
     "output_type": "execute_result"
    }
   ],
   "source": [
    "train.head(2)"
   ]
  },
  {
   "cell_type": "markdown",
   "metadata": {
    "papermill": {
     "duration": 0.029401,
     "end_time": "2020-10-03T16:32:08.479822",
     "exception": false,
     "start_time": "2020-10-03T16:32:08.450421",
     "status": "completed"
    },
    "tags": []
   },
   "source": [
    "### Separating the Target from the predictors"
   ]
  },
  {
   "cell_type": "code",
   "execution_count": 7,
   "metadata": {
    "execution": {
     "iopub.execute_input": "2020-10-03T16:32:08.578528Z",
     "iopub.status.busy": "2020-10-03T16:32:08.557226Z",
     "iopub.status.idle": "2020-10-03T16:32:08.583168Z",
     "shell.execute_reply": "2020-10-03T16:32:08.582595Z"
    },
    "papermill": {
     "duration": 0.062278,
     "end_time": "2020-10-03T16:32:08.583311",
     "exception": false,
     "start_time": "2020-10-03T16:32:08.521033",
     "status": "completed"
    },
    "tags": []
   },
   "outputs": [
    {
     "data": {
      "text/html": [
       "<div>\n",
       "<style scoped>\n",
       "    .dataframe tbody tr th:only-of-type {\n",
       "        vertical-align: middle;\n",
       "    }\n",
       "\n",
       "    .dataframe tbody tr th {\n",
       "        vertical-align: top;\n",
       "    }\n",
       "\n",
       "    .dataframe thead th {\n",
       "        text-align: right;\n",
       "    }\n",
       "</style>\n",
       "<table border=\"1\" class=\"dataframe\">\n",
       "  <thead>\n",
       "    <tr style=\"text-align: right;\">\n",
       "      <th></th>\n",
       "      <th>form_field1</th>\n",
       "      <th>form_field2</th>\n",
       "      <th>form_field3</th>\n",
       "      <th>form_field4</th>\n",
       "      <th>form_field5</th>\n",
       "      <th>form_field6</th>\n",
       "      <th>form_field7</th>\n",
       "      <th>form_field8</th>\n",
       "      <th>form_field9</th>\n",
       "      <th>form_field10</th>\n",
       "      <th>...</th>\n",
       "      <th>form_field41</th>\n",
       "      <th>form_field42</th>\n",
       "      <th>form_field43</th>\n",
       "      <th>form_field44</th>\n",
       "      <th>form_field45</th>\n",
       "      <th>form_field46</th>\n",
       "      <th>form_field47</th>\n",
       "      <th>form_field48</th>\n",
       "      <th>form_field49</th>\n",
       "      <th>form_field50</th>\n",
       "    </tr>\n",
       "    <tr>\n",
       "      <th>Applicant_ID</th>\n",
       "      <th></th>\n",
       "      <th></th>\n",
       "      <th></th>\n",
       "      <th></th>\n",
       "      <th></th>\n",
       "      <th></th>\n",
       "      <th></th>\n",
       "      <th></th>\n",
       "      <th></th>\n",
       "      <th></th>\n",
       "      <th></th>\n",
       "      <th></th>\n",
       "      <th></th>\n",
       "      <th></th>\n",
       "      <th></th>\n",
       "      <th></th>\n",
       "      <th></th>\n",
       "      <th></th>\n",
       "      <th></th>\n",
       "      <th></th>\n",
       "      <th></th>\n",
       "    </tr>\n",
       "  </thead>\n",
       "  <tbody>\n",
       "    <tr>\n",
       "      <th>Apcnt_1000000</th>\n",
       "      <td>3436.0</td>\n",
       "      <td>0.28505</td>\n",
       "      <td>1.6560</td>\n",
       "      <td>0.0</td>\n",
       "      <td>0.0</td>\n",
       "      <td>0.0</td>\n",
       "      <td>10689720.0</td>\n",
       "      <td>252072.0</td>\n",
       "      <td>4272776.0</td>\n",
       "      <td>11333126.0</td>\n",
       "      <td>...</td>\n",
       "      <td>NaN</td>\n",
       "      <td>0.392854</td>\n",
       "      <td>2.02</td>\n",
       "      <td>0.711632</td>\n",
       "      <td>0.0</td>\n",
       "      <td>0.0</td>\n",
       "      <td>0.322506</td>\n",
       "      <td>NaN</td>\n",
       "      <td>1.129518</td>\n",
       "      <td>0.044335</td>\n",
       "    </tr>\n",
       "    <tr>\n",
       "      <th>Apcnt_1000004</th>\n",
       "      <td>3456.0</td>\n",
       "      <td>0.67400</td>\n",
       "      <td>0.2342</td>\n",
       "      <td>0.0</td>\n",
       "      <td>0.0</td>\n",
       "      <td>0.0</td>\n",
       "      <td>898979.0</td>\n",
       "      <td>497531.0</td>\n",
       "      <td>9073814.0</td>\n",
       "      <td>2533168.0</td>\n",
       "      <td>...</td>\n",
       "      <td>NaN</td>\n",
       "      <td>0.314281</td>\n",
       "      <td>8.08</td>\n",
       "      <td>0.183584</td>\n",
       "      <td>NaN</td>\n",
       "      <td>0.0</td>\n",
       "      <td>0.322506</td>\n",
       "      <td>349.80573</td>\n",
       "      <td>1.620483</td>\n",
       "      <td>0.322436</td>\n",
       "    </tr>\n",
       "  </tbody>\n",
       "</table>\n",
       "<p>2 rows × 50 columns</p>\n",
       "</div>"
      ],
      "text/plain": [
       "               form_field1  form_field2  form_field3  form_field4  \\\n",
       "Applicant_ID                                                        \n",
       "Apcnt_1000000       3436.0      0.28505       1.6560          0.0   \n",
       "Apcnt_1000004       3456.0      0.67400       0.2342          0.0   \n",
       "\n",
       "               form_field5  form_field6  form_field7  form_field8  \\\n",
       "Applicant_ID                                                        \n",
       "Apcnt_1000000          0.0          0.0   10689720.0     252072.0   \n",
       "Apcnt_1000004          0.0          0.0     898979.0     497531.0   \n",
       "\n",
       "               form_field9  form_field10  ...  form_field41  form_field42  \\\n",
       "Applicant_ID                              ...                               \n",
       "Apcnt_1000000    4272776.0    11333126.0  ...           NaN      0.392854   \n",
       "Apcnt_1000004    9073814.0     2533168.0  ...           NaN      0.314281   \n",
       "\n",
       "               form_field43  form_field44  form_field45  form_field46  \\\n",
       "Applicant_ID                                                            \n",
       "Apcnt_1000000          2.02      0.711632           0.0           0.0   \n",
       "Apcnt_1000004          8.08      0.183584           NaN           0.0   \n",
       "\n",
       "               form_field47  form_field48  form_field49  form_field50  \n",
       "Applicant_ID                                                           \n",
       "Apcnt_1000000      0.322506           NaN      1.129518      0.044335  \n",
       "Apcnt_1000004      0.322506     349.80573      1.620483      0.322436  \n",
       "\n",
       "[2 rows x 50 columns]"
      ]
     },
     "execution_count": 7,
     "metadata": {},
     "output_type": "execute_result"
    }
   ],
   "source": [
    "y = train.pop(\"default_status\")\n",
    "\n",
    "train.head(2)"
   ]
  },
  {
   "cell_type": "markdown",
   "metadata": {
    "papermill": {
     "duration": 0.029966,
     "end_time": "2020-10-03T16:32:08.643775",
     "exception": false,
     "start_time": "2020-10-03T16:32:08.613809",
     "status": "completed"
    },
    "tags": []
   },
   "source": [
    "### Handling Missing Values"
   ]
  },
  {
   "cell_type": "code",
   "execution_count": 8,
   "metadata": {
    "execution": {
     "iopub.execute_input": "2020-10-03T16:32:08.711034Z",
     "iopub.status.busy": "2020-10-03T16:32:08.710071Z",
     "iopub.status.idle": "2020-10-03T16:32:08.991726Z",
     "shell.execute_reply": "2020-10-03T16:32:08.991106Z"
    },
    "papermill": {
     "duration": 0.317638,
     "end_time": "2020-10-03T16:32:08.991855",
     "exception": false,
     "start_time": "2020-10-03T16:32:08.674217",
     "status": "completed"
    },
    "tags": []
   },
   "outputs": [],
   "source": [
    "from sklearn.impute import SimpleImputer\n",
    "\n",
    "zero_imputer = SimpleImputer(strategy='constant', add_indicator=True)"
   ]
  },
  {
   "cell_type": "code",
   "execution_count": 9,
   "metadata": {
    "execution": {
     "iopub.execute_input": "2020-10-03T16:32:09.061830Z",
     "iopub.status.busy": "2020-10-03T16:32:09.061082Z",
     "iopub.status.idle": "2020-10-03T16:32:09.253325Z",
     "shell.execute_reply": "2020-10-03T16:32:09.253956Z"
    },
    "papermill": {
     "duration": 0.231156,
     "end_time": "2020-10-03T16:32:09.254125",
     "exception": false,
     "start_time": "2020-10-03T16:32:09.022969",
     "status": "completed"
    },
    "tags": []
   },
   "outputs": [],
   "source": [
    "imputed_train = zero_imputer.fit_transform(train)\n",
    "imputed_test = zero_imputer.transform(test)"
   ]
  },
  {
   "cell_type": "markdown",
   "metadata": {
    "papermill": {
     "duration": 0.030347,
     "end_time": "2020-10-03T16:32:09.315185",
     "exception": false,
     "start_time": "2020-10-03T16:32:09.284838",
     "status": "completed"
    },
    "tags": []
   },
   "source": [
    "## Scaling the data"
   ]
  },
  {
   "cell_type": "code",
   "execution_count": 10,
   "metadata": {
    "execution": {
     "iopub.execute_input": "2020-10-03T16:32:09.382177Z",
     "iopub.status.busy": "2020-10-03T16:32:09.381383Z",
     "iopub.status.idle": "2020-10-03T16:32:09.384814Z",
     "shell.execute_reply": "2020-10-03T16:32:09.384069Z"
    },
    "papermill": {
     "duration": 0.038946,
     "end_time": "2020-10-03T16:32:09.384940",
     "exception": false,
     "start_time": "2020-10-03T16:32:09.345994",
     "status": "completed"
    },
    "tags": []
   },
   "outputs": [],
   "source": [
    "from sklearn.preprocessing import MinMaxScaler"
   ]
  },
  {
   "cell_type": "code",
   "execution_count": 11,
   "metadata": {
    "execution": {
     "iopub.execute_input": "2020-10-03T16:32:09.454210Z",
     "iopub.status.busy": "2020-10-03T16:32:09.453426Z",
     "iopub.status.idle": "2020-10-03T16:32:09.539125Z",
     "shell.execute_reply": "2020-10-03T16:32:09.538231Z"
    },
    "papermill": {
     "duration": 0.122422,
     "end_time": "2020-10-03T16:32:09.539287",
     "exception": false,
     "start_time": "2020-10-03T16:32:09.416865",
     "status": "completed"
    },
    "tags": []
   },
   "outputs": [],
   "source": [
    "scaler_mm = MinMaxScaler()\n",
    "\n",
    "scaled_train = pd.DataFrame(scaler_mm.fit_transform(imputed_train))\n",
    "scaled_test = pd.DataFrame(scaler_mm.transform(imputed_test))"
   ]
  },
  {
   "cell_type": "markdown",
   "metadata": {
    "papermill": {
     "duration": 0.037948,
     "end_time": "2020-10-03T16:32:09.613678",
     "exception": false,
     "start_time": "2020-10-03T16:32:09.575730",
     "status": "completed"
    },
    "tags": []
   },
   "source": [
    "## Modelling"
   ]
  },
  {
   "cell_type": "markdown",
   "metadata": {
    "papermill": {
     "duration": 0.034031,
     "end_time": "2020-10-03T16:32:09.683933",
     "exception": false,
     "start_time": "2020-10-03T16:32:09.649902",
     "status": "completed"
    },
    "tags": []
   },
   "source": [
    "### Hyperparameter Tuning"
   ]
  },
  {
   "cell_type": "markdown",
   "metadata": {
    "papermill": {
     "duration": 0.031522,
     "end_time": "2020-10-03T16:32:09.747523",
     "exception": false,
     "start_time": "2020-10-03T16:32:09.716001",
     "status": "completed"
    },
    "tags": []
   },
   "source": [
    "XGBoost: learning_rate (0.01 - 0.2), max_depth, min_child_weight, colsample_bytree, subsample, n_estimators\n",
    "\n",
    "CatBoost: learning_rate, depth, l2-leaf-reg, rsm, iterations\n",
    "\n",
    "LightGBM: learning_rate, max_depth, num_leaves, min_data_in_leaf(min_data, min_child_samples), feature_fraction, bagging_fraction, num_iterations"
   ]
  },
  {
   "cell_type": "code",
   "execution_count": 12,
   "metadata": {
    "execution": {
     "iopub.execute_input": "2020-10-03T16:32:09.818000Z",
     "iopub.status.busy": "2020-10-03T16:32:09.817142Z",
     "iopub.status.idle": "2020-10-03T16:32:10.983343Z",
     "shell.execute_reply": "2020-10-03T16:32:10.982719Z"
    },
    "papermill": {
     "duration": 1.203944,
     "end_time": "2020-10-03T16:32:10.983492",
     "exception": false,
     "start_time": "2020-10-03T16:32:09.779548",
     "status": "completed"
    },
    "tags": []
   },
   "outputs": [],
   "source": [
    "from sklearn.model_selection import RandomizedSearchCV\n",
    "from xgboost import XGBClassifier\n",
    "from lightgbm import LGBMClassifier\n",
    "from catboost import CatBoostClassifier\n",
    "from rgf.sklearn import RGFClassifier, FastRGFClassifier\n",
    "from sklearn.ensemble import RandomForestClassifier"
   ]
  },
  {
   "cell_type": "code",
   "execution_count": 13,
   "metadata": {
    "execution": {
     "iopub.execute_input": "2020-10-03T16:32:11.059482Z",
     "iopub.status.busy": "2020-10-03T16:32:11.058685Z",
     "iopub.status.idle": "2020-10-03T16:32:11.062294Z",
     "shell.execute_reply": "2020-10-03T16:32:11.061625Z"
    },
    "papermill": {
     "duration": 0.046423,
     "end_time": "2020-10-03T16:32:11.062450",
     "exception": false,
     "start_time": "2020-10-03T16:32:11.016027",
     "status": "completed"
    },
    "tags": []
   },
   "outputs": [],
   "source": [
    "n_estimators = [int(x) for x in np.linspace(start = 200, stop = 2000, num = 10)]\n",
    "max_features = ['auto', 'sqrt']\n",
    "max_depth = [int(x) for x in np.linspace(10, 110, num = 11)]\n",
    "max_depth.append(None)\n",
    "min_samples_split = [2, 5, 10]\n",
    "min_samples_leaf = [1, 2, 4]\n",
    "bootstrap = [True, False]\n",
    "\n",
    "random_grid = {\n",
    "    'n_estimators': n_estimators,\n",
    "#                'max_features': max_features,\n",
    "               'max_depth': max_depth,\n",
    "#                'min_samples_split': min_samples_split,\n",
    "#                'min_samples_leaf': min_samples_leaf,\n",
    "#                'bootstrap': bootstrap\n",
    "}"
   ]
  },
  {
   "cell_type": "code",
   "execution_count": 14,
   "metadata": {
    "execution": {
     "iopub.execute_input": "2020-10-03T16:32:11.133947Z",
     "iopub.status.busy": "2020-10-03T16:32:11.132874Z",
     "iopub.status.idle": "2020-10-03T16:32:11.136329Z",
     "shell.execute_reply": "2020-10-03T16:32:11.135669Z"
    },
    "papermill": {
     "duration": 0.041742,
     "end_time": "2020-10-03T16:32:11.136521",
     "exception": false,
     "start_time": "2020-10-03T16:32:11.094779",
     "status": "completed"
    },
    "tags": []
   },
   "outputs": [],
   "source": [
    "fixed_params = {'min_samples_split': 10, 'min_samples_leaf': 2, 'bootstrap': True}\n",
    "rf_model = RandomForestClassifier(**fixed_params)"
   ]
  },
  {
   "cell_type": "code",
   "execution_count": 15,
   "metadata": {
    "execution": {
     "iopub.execute_input": "2020-10-03T16:32:11.209279Z",
     "iopub.status.busy": "2020-10-03T16:32:11.208413Z",
     "iopub.status.idle": "2020-10-03T16:32:11.211756Z",
     "shell.execute_reply": "2020-10-03T16:32:11.211136Z"
    },
    "papermill": {
     "duration": 0.041358,
     "end_time": "2020-10-03T16:32:11.211902",
     "exception": false,
     "start_time": "2020-10-03T16:32:11.170544",
     "status": "completed"
    },
    "tags": []
   },
   "outputs": [],
   "source": [
    "tune_rf_1 = RandomizedSearchCV(\n",
    "    estimator = rf_model, \n",
    "    param_distributions = random_grid, \n",
    "    n_iter = 100, \n",
    "    cv = 3, \n",
    "    verbose=2, \n",
    "    n_jobs = -1)"
   ]
  },
  {
   "cell_type": "code",
   "execution_count": 16,
   "metadata": {
    "execution": {
     "iopub.execute_input": "2020-10-03T16:32:11.282143Z",
     "iopub.status.busy": "2020-10-03T16:32:11.281066Z",
     "iopub.status.idle": "2020-10-03T21:11:10.645894Z",
     "shell.execute_reply": "2020-10-03T21:11:10.646567Z"
    },
    "papermill": {
     "duration": 16739.402637,
     "end_time": "2020-10-03T21:11:10.646790",
     "exception": false,
     "start_time": "2020-10-03T16:32:11.244153",
     "status": "completed"
    },
    "tags": []
   },
   "outputs": [
    {
     "name": "stdout",
     "output_type": "stream",
     "text": [
      "Fitting 3 folds for each of 100 candidates, totalling 300 fits\n"
     ]
    },
    {
     "name": "stderr",
     "output_type": "stream",
     "text": [
      "[Parallel(n_jobs=-1)]: Using backend LokyBackend with 4 concurrent workers.\n",
      "/opt/conda/lib/python3.7/site-packages/joblib/externals/loky/process_executor.py:706: UserWarning: A worker stopped while some jobs were given to the executor. This can be caused by a too short worker timeout or by a memory leak.\n",
      "  \"timeout or by a memory leak.\", UserWarning\n",
      "[Parallel(n_jobs=-1)]: Done  33 tasks      | elapsed: 33.1min\n",
      "[Parallel(n_jobs=-1)]: Done 154 tasks      | elapsed: 132.5min\n",
      "[Parallel(n_jobs=-1)]: Done 300 out of 300 | elapsed: 274.5min finished\n"
     ]
    },
    {
     "data": {
      "text/plain": [
       "RandomizedSearchCV(cv=3,\n",
       "                   estimator=RandomForestClassifier(min_samples_leaf=2,\n",
       "                                                    min_samples_split=10),\n",
       "                   n_iter=100, n_jobs=-1,\n",
       "                   param_distributions={'max_depth': [10, 20, 30, 40, 50, 60,\n",
       "                                                      70, 80, 90, 100, 110,\n",
       "                                                      None],\n",
       "                                        'n_estimators': [200, 400, 600, 800,\n",
       "                                                         1000, 1200, 1400, 1600,\n",
       "                                                         1800, 2000]},\n",
       "                   verbose=2)"
      ]
     },
     "execution_count": 16,
     "metadata": {},
     "output_type": "execute_result"
    }
   ],
   "source": [
    "tune_rf_1.fit(scaled_train, y)"
   ]
  },
  {
   "cell_type": "code",
   "execution_count": 17,
   "metadata": {
    "execution": {
     "iopub.execute_input": "2020-10-03T21:11:10.725833Z",
     "iopub.status.busy": "2020-10-03T21:11:10.724710Z",
     "iopub.status.idle": "2020-10-03T21:11:10.728316Z",
     "shell.execute_reply": "2020-10-03T21:11:10.728921Z"
    },
    "papermill": {
     "duration": 0.047103,
     "end_time": "2020-10-03T21:11:10.729075",
     "exception": false,
     "start_time": "2020-10-03T21:11:10.681972",
     "status": "completed"
    },
    "tags": []
   },
   "outputs": [
    {
     "data": {
      "text/plain": [
       "0.8080714577862816"
      ]
     },
     "execution_count": 17,
     "metadata": {},
     "output_type": "execute_result"
    }
   ],
   "source": [
    "tune_rf_1.best_score_"
   ]
  },
  {
   "cell_type": "markdown",
   "metadata": {
    "papermill": {
     "duration": 0.036093,
     "end_time": "2020-10-03T21:11:10.801353",
     "exception": false,
     "start_time": "2020-10-03T21:11:10.765260",
     "status": "completed"
    },
    "tags": []
   },
   "source": [
    "Default = 0.7893766329040509"
   ]
  },
  {
   "cell_type": "code",
   "execution_count": 18,
   "metadata": {
    "execution": {
     "iopub.execute_input": "2020-10-03T21:11:10.879869Z",
     "iopub.status.busy": "2020-10-03T21:11:10.878752Z",
     "iopub.status.idle": "2020-10-03T21:11:10.882884Z",
     "shell.execute_reply": "2020-10-03T21:11:10.883431Z"
    },
    "papermill": {
     "duration": 0.046125,
     "end_time": "2020-10-03T21:11:10.883593",
     "exception": false,
     "start_time": "2020-10-03T21:11:10.837468",
     "status": "completed"
    },
    "tags": []
   },
   "outputs": [
    {
     "data": {
      "text/plain": [
       "{'n_estimators': 1200, 'max_depth': 20}"
      ]
     },
     "execution_count": 18,
     "metadata": {},
     "output_type": "execute_result"
    }
   ],
   "source": [
    "tune_rf_1.best_params_"
   ]
  },
  {
   "cell_type": "markdown",
   "metadata": {
    "papermill": {
     "duration": 0.036338,
     "end_time": "2020-10-03T21:11:10.956157",
     "exception": false,
     "start_time": "2020-10-03T21:11:10.919819",
     "status": "completed"
    },
    "tags": []
   },
   "source": [
    "### Local Validation"
   ]
  },
  {
   "cell_type": "code",
   "execution_count": 19,
   "metadata": {
    "execution": {
     "iopub.execute_input": "2020-10-03T21:11:11.036169Z",
     "iopub.status.busy": "2020-10-03T21:11:11.035249Z",
     "iopub.status.idle": "2020-10-03T21:11:11.039080Z",
     "shell.execute_reply": "2020-10-03T21:11:11.038189Z"
    },
    "papermill": {
     "duration": 0.046003,
     "end_time": "2020-10-03T21:11:11.039221",
     "exception": false,
     "start_time": "2020-10-03T21:11:10.993218",
     "status": "completed"
    },
    "tags": []
   },
   "outputs": [],
   "source": [
    "tuned_rf_1 = tune_rf_1.best_estimator_"
   ]
  },
  {
   "cell_type": "code",
   "execution_count": 20,
   "metadata": {
    "execution": {
     "iopub.execute_input": "2020-10-03T21:11:11.133776Z",
     "iopub.status.busy": "2020-10-03T21:11:11.132799Z",
     "iopub.status.idle": "2020-10-03T21:11:11.135848Z",
     "shell.execute_reply": "2020-10-03T21:11:11.136586Z"
    },
    "papermill": {
     "duration": 0.059043,
     "end_time": "2020-10-03T21:11:11.136795",
     "exception": false,
     "start_time": "2020-10-03T21:11:11.077752",
     "status": "completed"
    },
    "tags": []
   },
   "outputs": [],
   "source": [
    "from sklearn.model_selection import StratifiedKFold\n",
    "from sklearn.metrics import roc_auc_score\n",
    "\n",
    "def skf(model):\n",
    "    kf = StratifiedKFold(n_splits=5, shuffle=True, random_state=99)\n",
    "    local_validation = []\n",
    "    test_predictions = []\n",
    "\n",
    "    for i, (train_index, val_index) in enumerate(kf.split(scaled_train, y)):\n",
    "        cv_train, cv_val = scaled_train.iloc[train_index], scaled_train.iloc[val_index]\n",
    "        y_train, y_val = y.iloc[train_index], y.iloc[val_index]\n",
    "\n",
    "        model.fit(cv_train, y_train)\n",
    "        y_pred = model.predict_proba(cv_val)[:, 1]\n",
    "        auc_score = roc_auc_score(y_val, y_pred)\n",
    "        local_validation.append(auc_score)\n",
    "        print(\"*\" * 73 + \"\\nFold\" + str(i) + \": \" + str(auc_score))\n",
    "\n",
    "        test_pred = model.predict_proba(scaled_test)[:, 1]\n",
    "        test_predictions.append(test_pred)\n",
    "        \n",
    "    print(\"AUC mean score: \", np.mean(local_validation))\n",
    "    return np.mean(test_predictions, axis=0)"
   ]
  },
  {
   "cell_type": "code",
   "execution_count": 21,
   "metadata": {
    "execution": {
     "iopub.execute_input": "2020-10-03T21:11:11.223307Z",
     "iopub.status.busy": "2020-10-03T21:11:11.222487Z",
     "iopub.status.idle": "2020-10-03T21:29:01.979480Z",
     "shell.execute_reply": "2020-10-03T21:29:01.978622Z"
    },
    "papermill": {
     "duration": 1070.802325,
     "end_time": "2020-10-03T21:29:01.979669",
     "exception": false,
     "start_time": "2020-10-03T21:11:11.177344",
     "status": "completed"
    },
    "tags": []
   },
   "outputs": [
    {
     "name": "stdout",
     "output_type": "stream",
     "text": [
      "*************************************************************************\n",
      "Fold0: 0.8379263397243958\n",
      "*************************************************************************\n",
      "Fold1: 0.8345497332886563\n",
      "*************************************************************************\n",
      "Fold2: 0.8371488007505621\n",
      "*************************************************************************\n",
      "Fold3: 0.8302467790673249\n",
      "*************************************************************************\n",
      "Fold4: 0.8336657175578578\n",
      "AUC mean score:  0.8347074740777594\n"
     ]
    }
   ],
   "source": [
    "test_pred = skf(tuned_rf_1)"
   ]
  },
  {
   "cell_type": "markdown",
   "metadata": {
    "papermill": {
     "duration": 0.038578,
     "end_time": "2020-10-03T21:29:02.057905",
     "exception": false,
     "start_time": "2020-10-03T21:29:02.019327",
     "status": "completed"
    },
    "tags": []
   },
   "source": [
    "Default = 0.7893766329040509"
   ]
  },
  {
   "cell_type": "markdown",
   "metadata": {
    "papermill": {
     "duration": 0.038621,
     "end_time": "2020-10-03T21:29:02.135432",
     "exception": false,
     "start_time": "2020-10-03T21:29:02.096811",
     "status": "completed"
    },
    "tags": []
   },
   "source": [
    "### Final Steps"
   ]
  },
  {
   "cell_type": "code",
   "execution_count": 22,
   "metadata": {
    "execution": {
     "iopub.execute_input": "2020-10-03T21:29:02.224680Z",
     "iopub.status.busy": "2020-10-03T21:29:02.223902Z",
     "iopub.status.idle": "2020-10-03T21:29:02.247167Z",
     "shell.execute_reply": "2020-10-03T21:29:02.246349Z"
    },
    "papermill": {
     "duration": 0.071825,
     "end_time": "2020-10-03T21:29:02.247331",
     "exception": false,
     "start_time": "2020-10-03T21:29:02.175506",
     "status": "completed"
    },
    "tags": []
   },
   "outputs": [],
   "source": [
    "submission = pd.read_csv(\"../input/2020aibootacampqualifiers/SampleSubmission.csv\")"
   ]
  },
  {
   "cell_type": "code",
   "execution_count": 23,
   "metadata": {
    "execution": {
     "iopub.execute_input": "2020-10-03T21:29:02.332649Z",
     "iopub.status.busy": "2020-10-03T21:29:02.331896Z",
     "iopub.status.idle": "2020-10-03T21:29:02.715096Z",
     "shell.execute_reply": "2020-10-03T21:29:02.714432Z"
    },
    "papermill": {
     "duration": 0.428644,
     "end_time": "2020-10-03T21:29:02.715220",
     "exception": false,
     "start_time": "2020-10-03T21:29:02.286576",
     "status": "completed"
    },
    "tags": []
   },
   "outputs": [],
   "source": [
    "submission.default_status = test_pred\n",
    "submission.to_csv(\"sub_xgb\", index=False)"
   ]
  },
  {
   "cell_type": "code",
   "execution_count": 24,
   "metadata": {
    "execution": {
     "iopub.execute_input": "2020-10-03T21:29:02.812297Z",
     "iopub.status.busy": "2020-10-03T21:29:02.802509Z",
     "iopub.status.idle": "2020-10-03T21:29:02.816476Z",
     "shell.execute_reply": "2020-10-03T21:29:02.817112Z"
    },
    "papermill": {
     "duration": 0.062506,
     "end_time": "2020-10-03T21:29:02.817267",
     "exception": false,
     "start_time": "2020-10-03T21:29:02.754761",
     "status": "completed"
    },
    "tags": []
   },
   "outputs": [
    {
     "data": {
      "text/html": [
       "<div>\n",
       "<style scoped>\n",
       "    .dataframe tbody tr th:only-of-type {\n",
       "        vertical-align: middle;\n",
       "    }\n",
       "\n",
       "    .dataframe tbody tr th {\n",
       "        vertical-align: top;\n",
       "    }\n",
       "\n",
       "    .dataframe thead th {\n",
       "        text-align: right;\n",
       "    }\n",
       "</style>\n",
       "<table border=\"1\" class=\"dataframe\">\n",
       "  <thead>\n",
       "    <tr style=\"text-align: right;\">\n",
       "      <th></th>\n",
       "      <th>Applicant_ID</th>\n",
       "      <th>default_status</th>\n",
       "    </tr>\n",
       "  </thead>\n",
       "  <tbody>\n",
       "    <tr>\n",
       "      <th>0</th>\n",
       "      <td>Apcnt_1000032</td>\n",
       "      <td>0.348024</td>\n",
       "    </tr>\n",
       "    <tr>\n",
       "      <th>1</th>\n",
       "      <td>Apcnt_1000048</td>\n",
       "      <td>0.387082</td>\n",
       "    </tr>\n",
       "  </tbody>\n",
       "</table>\n",
       "</div>"
      ],
      "text/plain": [
       "    Applicant_ID  default_status\n",
       "0  Apcnt_1000032        0.348024\n",
       "1  Apcnt_1000048        0.387082"
      ]
     },
     "execution_count": 24,
     "metadata": {},
     "output_type": "execute_result"
    }
   ],
   "source": [
    "submission.head(2)"
   ]
  },
  {
   "cell_type": "markdown",
   "metadata": {
    "papermill": {
     "duration": 0.039852,
     "end_time": "2020-10-03T21:29:02.897990",
     "exception": false,
     "start_time": "2020-10-03T21:29:02.858138",
     "status": "completed"
    },
    "tags": []
   },
   "source": [
    "### Next Steps\n",
    "\n",
    "How do we improve our model's accuracy?"
   ]
  },
  {
   "cell_type": "code",
   "execution_count": null,
   "metadata": {
    "papermill": {
     "duration": 0.039698,
     "end_time": "2020-10-03T21:29:02.977892",
     "exception": false,
     "start_time": "2020-10-03T21:29:02.938194",
     "status": "completed"
    },
    "tags": []
   },
   "outputs": [],
   "source": []
  }
 ],
 "metadata": {
  "kernelspec": {
   "display_name": "Python 3",
   "language": "python",
   "name": "python3"
  },
  "language_info": {
   "codemirror_mode": {
    "name": "ipython",
    "version": 3
   },
   "file_extension": ".py",
   "mimetype": "text/x-python",
   "name": "python",
   "nbconvert_exporter": "python",
   "pygments_lexer": "ipython3",
   "version": "3.7.6"
  },
  "papermill": {
   "duration": 17821.995932,
   "end_time": "2020-10-03T21:29:03.128182",
   "environment_variables": {},
   "exception": null,
   "input_path": "__notebook__.ipynb",
   "output_path": "__notebook__.ipynb",
   "parameters": {},
   "start_time": "2020-10-03T16:32:01.132250",
   "version": "2.1.0"
  }
 },
 "nbformat": 4,
 "nbformat_minor": 4
}
