{
 "cells": [
  {
   "cell_type": "markdown",
   "metadata": {
    "papermill": {
     "duration": 0.018973,
     "end_time": "2020-10-03T16:03:27.418307",
     "exception": false,
     "start_time": "2020-10-03T16:03:27.399334",
     "status": "completed"
    },
    "tags": []
   },
   "source": [
    "## Setup and Loading Data"
   ]
  },
  {
   "cell_type": "code",
   "execution_count": 1,
   "metadata": {
    "execution": {
     "iopub.execute_input": "2020-10-03T16:03:27.456852Z",
     "iopub.status.busy": "2020-10-03T16:03:27.456148Z",
     "iopub.status.idle": "2020-10-03T16:03:28.624157Z",
     "shell.execute_reply": "2020-10-03T16:03:28.624639Z"
    },
    "papermill": {
     "duration": 1.189938,
     "end_time": "2020-10-03T16:03:28.624812",
     "exception": false,
     "start_time": "2020-10-03T16:03:27.434874",
     "status": "completed"
    },
    "tags": []
   },
   "outputs": [],
   "source": [
    "import numpy as np\n",
    "import pandas as pd\n",
    "\n",
    "import matplotlib.pyplot as plt\n",
    "import seaborn as sns\n",
    "plt.style.use('ggplot')"
   ]
  },
  {
   "cell_type": "code",
   "execution_count": 2,
   "metadata": {
    "execution": {
     "iopub.execute_input": "2020-10-03T16:03:28.691522Z",
     "iopub.status.busy": "2020-10-03T16:03:28.690861Z",
     "iopub.status.idle": "2020-10-03T16:03:28.992903Z",
     "shell.execute_reply": "2020-10-03T16:03:28.992465Z"
    },
    "papermill": {
     "duration": 0.33984,
     "end_time": "2020-10-03T16:03:28.993009",
     "exception": false,
     "start_time": "2020-10-03T16:03:28.653169",
     "status": "completed"
    },
    "tags": []
   },
   "outputs": [
    {
     "data": {
      "text/html": [
       "<div>\n",
       "<style scoped>\n",
       "    .dataframe tbody tr th:only-of-type {\n",
       "        vertical-align: middle;\n",
       "    }\n",
       "\n",
       "    .dataframe tbody tr th {\n",
       "        vertical-align: top;\n",
       "    }\n",
       "\n",
       "    .dataframe thead th {\n",
       "        text-align: right;\n",
       "    }\n",
       "</style>\n",
       "<table border=\"1\" class=\"dataframe\">\n",
       "  <thead>\n",
       "    <tr style=\"text-align: right;\">\n",
       "      <th></th>\n",
       "      <th>form_field1</th>\n",
       "      <th>form_field2</th>\n",
       "      <th>form_field3</th>\n",
       "      <th>form_field4</th>\n",
       "      <th>form_field5</th>\n",
       "      <th>form_field6</th>\n",
       "      <th>form_field7</th>\n",
       "      <th>form_field8</th>\n",
       "      <th>form_field9</th>\n",
       "      <th>form_field10</th>\n",
       "      <th>...</th>\n",
       "      <th>form_field42</th>\n",
       "      <th>form_field43</th>\n",
       "      <th>form_field44</th>\n",
       "      <th>form_field45</th>\n",
       "      <th>form_field46</th>\n",
       "      <th>form_field47</th>\n",
       "      <th>form_field48</th>\n",
       "      <th>form_field49</th>\n",
       "      <th>form_field50</th>\n",
       "      <th>default_status</th>\n",
       "    </tr>\n",
       "    <tr>\n",
       "      <th>Applicant_ID</th>\n",
       "      <th></th>\n",
       "      <th></th>\n",
       "      <th></th>\n",
       "      <th></th>\n",
       "      <th></th>\n",
       "      <th></th>\n",
       "      <th></th>\n",
       "      <th></th>\n",
       "      <th></th>\n",
       "      <th></th>\n",
       "      <th></th>\n",
       "      <th></th>\n",
       "      <th></th>\n",
       "      <th></th>\n",
       "      <th></th>\n",
       "      <th></th>\n",
       "      <th></th>\n",
       "      <th></th>\n",
       "      <th></th>\n",
       "      <th></th>\n",
       "      <th></th>\n",
       "    </tr>\n",
       "  </thead>\n",
       "  <tbody>\n",
       "    <tr>\n",
       "      <th>Apcnt_1000000</th>\n",
       "      <td>3436.0</td>\n",
       "      <td>0.28505</td>\n",
       "      <td>1.6560</td>\n",
       "      <td>0.0</td>\n",
       "      <td>0.0</td>\n",
       "      <td>0.0</td>\n",
       "      <td>10689720.0</td>\n",
       "      <td>252072.0</td>\n",
       "      <td>4272776.0</td>\n",
       "      <td>11333126.0</td>\n",
       "      <td>...</td>\n",
       "      <td>0.392854</td>\n",
       "      <td>2.02</td>\n",
       "      <td>0.711632</td>\n",
       "      <td>0.0</td>\n",
       "      <td>0.0</td>\n",
       "      <td>charge</td>\n",
       "      <td>NaN</td>\n",
       "      <td>1.129518</td>\n",
       "      <td>0.044335</td>\n",
       "      <td>no</td>\n",
       "    </tr>\n",
       "    <tr>\n",
       "      <th>Apcnt_1000004</th>\n",
       "      <td>3456.0</td>\n",
       "      <td>0.67400</td>\n",
       "      <td>0.2342</td>\n",
       "      <td>0.0</td>\n",
       "      <td>0.0</td>\n",
       "      <td>0.0</td>\n",
       "      <td>898979.0</td>\n",
       "      <td>497531.0</td>\n",
       "      <td>9073814.0</td>\n",
       "      <td>2533168.0</td>\n",
       "      <td>...</td>\n",
       "      <td>0.314281</td>\n",
       "      <td>8.08</td>\n",
       "      <td>0.183584</td>\n",
       "      <td>NaN</td>\n",
       "      <td>0.0</td>\n",
       "      <td>charge</td>\n",
       "      <td>349.80573</td>\n",
       "      <td>1.620483</td>\n",
       "      <td>0.322436</td>\n",
       "      <td>no</td>\n",
       "    </tr>\n",
       "  </tbody>\n",
       "</table>\n",
       "<p>2 rows × 51 columns</p>\n",
       "</div>"
      ],
      "text/plain": [
       "               form_field1  form_field2  form_field3  form_field4  \\\n",
       "Applicant_ID                                                        \n",
       "Apcnt_1000000       3436.0      0.28505       1.6560          0.0   \n",
       "Apcnt_1000004       3456.0      0.67400       0.2342          0.0   \n",
       "\n",
       "               form_field5  form_field6  form_field7  form_field8  \\\n",
       "Applicant_ID                                                        \n",
       "Apcnt_1000000          0.0          0.0   10689720.0     252072.0   \n",
       "Apcnt_1000004          0.0          0.0     898979.0     497531.0   \n",
       "\n",
       "               form_field9  form_field10  ...  form_field42  form_field43  \\\n",
       "Applicant_ID                              ...                               \n",
       "Apcnt_1000000    4272776.0    11333126.0  ...      0.392854          2.02   \n",
       "Apcnt_1000004    9073814.0     2533168.0  ...      0.314281          8.08   \n",
       "\n",
       "               form_field44  form_field45  form_field46  form_field47  \\\n",
       "Applicant_ID                                                            \n",
       "Apcnt_1000000      0.711632           0.0           0.0        charge   \n",
       "Apcnt_1000004      0.183584           NaN           0.0        charge   \n",
       "\n",
       "               form_field48  form_field49  form_field50  default_status  \n",
       "Applicant_ID                                                             \n",
       "Apcnt_1000000           NaN      1.129518      0.044335              no  \n",
       "Apcnt_1000004     349.80573      1.620483      0.322436              no  \n",
       "\n",
       "[2 rows x 51 columns]"
      ]
     },
     "execution_count": 2,
     "metadata": {},
     "output_type": "execute_result"
    }
   ],
   "source": [
    "train = pd.read_csv(\"../input/2020aibootacampqualifiers/Train.csv\", index_col=\"Applicant_ID\")\n",
    "\n",
    "train.head(2)"
   ]
  },
  {
   "cell_type": "code",
   "execution_count": 3,
   "metadata": {
    "execution": {
     "iopub.execute_input": "2020-10-03T16:03:29.033447Z",
     "iopub.status.busy": "2020-10-03T16:03:29.032912Z",
     "iopub.status.idle": "2020-10-03T16:03:29.230926Z",
     "shell.execute_reply": "2020-10-03T16:03:29.231299Z"
    },
    "papermill": {
     "duration": 0.221303,
     "end_time": "2020-10-03T16:03:29.231410",
     "exception": false,
     "start_time": "2020-10-03T16:03:29.010107",
     "status": "completed"
    },
    "tags": []
   },
   "outputs": [
    {
     "data": {
      "text/html": [
       "<div>\n",
       "<style scoped>\n",
       "    .dataframe tbody tr th:only-of-type {\n",
       "        vertical-align: middle;\n",
       "    }\n",
       "\n",
       "    .dataframe tbody tr th {\n",
       "        vertical-align: top;\n",
       "    }\n",
       "\n",
       "    .dataframe thead th {\n",
       "        text-align: right;\n",
       "    }\n",
       "</style>\n",
       "<table border=\"1\" class=\"dataframe\">\n",
       "  <thead>\n",
       "    <tr style=\"text-align: right;\">\n",
       "      <th></th>\n",
       "      <th>form_field1</th>\n",
       "      <th>form_field2</th>\n",
       "      <th>form_field3</th>\n",
       "      <th>form_field4</th>\n",
       "      <th>form_field5</th>\n",
       "      <th>form_field6</th>\n",
       "      <th>form_field7</th>\n",
       "      <th>form_field8</th>\n",
       "      <th>form_field9</th>\n",
       "      <th>form_field10</th>\n",
       "      <th>...</th>\n",
       "      <th>form_field41</th>\n",
       "      <th>form_field42</th>\n",
       "      <th>form_field43</th>\n",
       "      <th>form_field44</th>\n",
       "      <th>form_field45</th>\n",
       "      <th>form_field46</th>\n",
       "      <th>form_field47</th>\n",
       "      <th>form_field48</th>\n",
       "      <th>form_field49</th>\n",
       "      <th>form_field50</th>\n",
       "    </tr>\n",
       "    <tr>\n",
       "      <th>Applicant_ID</th>\n",
       "      <th></th>\n",
       "      <th></th>\n",
       "      <th></th>\n",
       "      <th></th>\n",
       "      <th></th>\n",
       "      <th></th>\n",
       "      <th></th>\n",
       "      <th></th>\n",
       "      <th></th>\n",
       "      <th></th>\n",
       "      <th></th>\n",
       "      <th></th>\n",
       "      <th></th>\n",
       "      <th></th>\n",
       "      <th></th>\n",
       "      <th></th>\n",
       "      <th></th>\n",
       "      <th></th>\n",
       "      <th></th>\n",
       "      <th></th>\n",
       "      <th></th>\n",
       "    </tr>\n",
       "  </thead>\n",
       "  <tbody>\n",
       "    <tr>\n",
       "      <th>Apcnt_1000032</th>\n",
       "      <td>3236.0</td>\n",
       "      <td>0.34875</td>\n",
       "      <td>10.2006</td>\n",
       "      <td>0.0000</td>\n",
       "      <td>0.0</td>\n",
       "      <td>418564.0</td>\n",
       "      <td>418564.0</td>\n",
       "      <td>418564.0</td>\n",
       "      <td>540710.0</td>\n",
       "      <td>0.0</td>\n",
       "      <td>...</td>\n",
       "      <td>NaN</td>\n",
       "      <td>0.825000</td>\n",
       "      <td>1.01</td>\n",
       "      <td>0.800000</td>\n",
       "      <td>NaN</td>\n",
       "      <td>0.0</td>\n",
       "      <td>charge</td>\n",
       "      <td>NaN</td>\n",
       "      <td>0.000000</td>\n",
       "      <td>0.011221</td>\n",
       "    </tr>\n",
       "    <tr>\n",
       "      <th>Apcnt_1000048</th>\n",
       "      <td>3284.0</td>\n",
       "      <td>1.27360</td>\n",
       "      <td>2.9606</td>\n",
       "      <td>9.0198</td>\n",
       "      <td>0.0</td>\n",
       "      <td>0.0</td>\n",
       "      <td>9858816.0</td>\n",
       "      <td>49014.0</td>\n",
       "      <td>1510098.0</td>\n",
       "      <td>18308285.0</td>\n",
       "      <td>...</td>\n",
       "      <td>18.8415</td>\n",
       "      <td>0.507694</td>\n",
       "      <td>4.04</td>\n",
       "      <td>0.623248</td>\n",
       "      <td>1.0</td>\n",
       "      <td>0.0</td>\n",
       "      <td>lending</td>\n",
       "      <td>NaN</td>\n",
       "      <td>0.504974</td>\n",
       "      <td>0.043525</td>\n",
       "    </tr>\n",
       "  </tbody>\n",
       "</table>\n",
       "<p>2 rows × 50 columns</p>\n",
       "</div>"
      ],
      "text/plain": [
       "               form_field1  form_field2  form_field3  form_field4  \\\n",
       "Applicant_ID                                                        \n",
       "Apcnt_1000032       3236.0      0.34875      10.2006       0.0000   \n",
       "Apcnt_1000048       3284.0      1.27360       2.9606       9.0198   \n",
       "\n",
       "               form_field5  form_field6  form_field7  form_field8  \\\n",
       "Applicant_ID                                                        \n",
       "Apcnt_1000032          0.0     418564.0     418564.0     418564.0   \n",
       "Apcnt_1000048          0.0          0.0    9858816.0      49014.0   \n",
       "\n",
       "               form_field9  form_field10  ...  form_field41  form_field42  \\\n",
       "Applicant_ID                              ...                               \n",
       "Apcnt_1000032     540710.0           0.0  ...           NaN      0.825000   \n",
       "Apcnt_1000048    1510098.0    18308285.0  ...       18.8415      0.507694   \n",
       "\n",
       "               form_field43  form_field44  form_field45  form_field46  \\\n",
       "Applicant_ID                                                            \n",
       "Apcnt_1000032          1.01      0.800000           NaN           0.0   \n",
       "Apcnt_1000048          4.04      0.623248           1.0           0.0   \n",
       "\n",
       "               form_field47  form_field48  form_field49  form_field50  \n",
       "Applicant_ID                                                           \n",
       "Apcnt_1000032        charge           NaN      0.000000      0.011221  \n",
       "Apcnt_1000048       lending           NaN      0.504974      0.043525  \n",
       "\n",
       "[2 rows x 50 columns]"
      ]
     },
     "execution_count": 3,
     "metadata": {},
     "output_type": "execute_result"
    }
   ],
   "source": [
    "test = pd.read_csv(\"../input/2020aibootacampqualifiers/Test.csv\", index_col=\"Applicant_ID\")\n",
    "\n",
    "test.head(2)"
   ]
  },
  {
   "cell_type": "markdown",
   "metadata": {
    "papermill": {
     "duration": 0.017296,
     "end_time": "2020-10-03T16:03:29.266194",
     "exception": false,
     "start_time": "2020-10-03T16:03:29.248898",
     "status": "completed"
    },
    "tags": []
   },
   "source": [
    "## Data Preprocessing"
   ]
  },
  {
   "cell_type": "markdown",
   "metadata": {
    "papermill": {
     "duration": 0.01762,
     "end_time": "2020-10-03T16:03:29.301511",
     "exception": false,
     "start_time": "2020-10-03T16:03:29.283891",
     "status": "completed"
    },
    "tags": []
   },
   "source": [
    "### Checking & Encoding Categorical Columns"
   ]
  },
  {
   "cell_type": "code",
   "execution_count": 4,
   "metadata": {
    "execution": {
     "iopub.execute_input": "2020-10-03T16:03:29.350031Z",
     "iopub.status.busy": "2020-10-03T16:03:29.349552Z",
     "iopub.status.idle": "2020-10-03T16:03:29.352474Z",
     "shell.execute_reply": "2020-10-03T16:03:29.352104Z"
    },
    "papermill": {
     "duration": 0.033711,
     "end_time": "2020-10-03T16:03:29.352568",
     "exception": false,
     "start_time": "2020-10-03T16:03:29.318857",
     "status": "completed"
    },
    "tags": []
   },
   "outputs": [],
   "source": [
    "train.default_status = train.default_status.map({'no': 0, 'yes': 1})"
   ]
  },
  {
   "cell_type": "code",
   "execution_count": 5,
   "metadata": {
    "execution": {
     "iopub.execute_input": "2020-10-03T16:03:29.413052Z",
     "iopub.status.busy": "2020-10-03T16:03:29.412366Z",
     "iopub.status.idle": "2020-10-03T16:03:29.458650Z",
     "shell.execute_reply": "2020-10-03T16:03:29.459012Z"
    },
    "papermill": {
     "duration": 0.088787,
     "end_time": "2020-10-03T16:03:29.459125",
     "exception": false,
     "start_time": "2020-10-03T16:03:29.370338",
     "status": "completed"
    },
    "tags": []
   },
   "outputs": [],
   "source": [
    "weight = 300\n",
    "global_mean = train.default_status.mean()\n",
    "\n",
    "# compute the number of values and mean of the column\n",
    "aggs = train.groupby('form_field47')['default_status'].agg(['count', 'mean'])\n",
    "counts, means = aggs['count'], aggs['mean']\n",
    "\n",
    "# compute the smoothed means\n",
    "smooth = (counts * means + weight + global_mean) / (counts + weight)\n",
    "\n",
    "train.form_field47 = train.form_field47.map(smooth)\n",
    "test.form_field47 = test.form_field47.map(smooth)"
   ]
  },
  {
   "cell_type": "code",
   "execution_count": 6,
   "metadata": {
    "execution": {
     "iopub.execute_input": "2020-10-03T16:03:29.505671Z",
     "iopub.status.busy": "2020-10-03T16:03:29.499747Z",
     "iopub.status.idle": "2020-10-03T16:03:29.517690Z",
     "shell.execute_reply": "2020-10-03T16:03:29.517285Z"
    },
    "papermill": {
     "duration": 0.040903,
     "end_time": "2020-10-03T16:03:29.517777",
     "exception": false,
     "start_time": "2020-10-03T16:03:29.476874",
     "status": "completed"
    },
    "tags": []
   },
   "outputs": [
    {
     "data": {
      "text/html": [
       "<div>\n",
       "<style scoped>\n",
       "    .dataframe tbody tr th:only-of-type {\n",
       "        vertical-align: middle;\n",
       "    }\n",
       "\n",
       "    .dataframe tbody tr th {\n",
       "        vertical-align: top;\n",
       "    }\n",
       "\n",
       "    .dataframe thead th {\n",
       "        text-align: right;\n",
       "    }\n",
       "</style>\n",
       "<table border=\"1\" class=\"dataframe\">\n",
       "  <thead>\n",
       "    <tr style=\"text-align: right;\">\n",
       "      <th></th>\n",
       "      <th>form_field1</th>\n",
       "      <th>form_field2</th>\n",
       "      <th>form_field3</th>\n",
       "      <th>form_field4</th>\n",
       "      <th>form_field5</th>\n",
       "      <th>form_field6</th>\n",
       "      <th>form_field7</th>\n",
       "      <th>form_field8</th>\n",
       "      <th>form_field9</th>\n",
       "      <th>form_field10</th>\n",
       "      <th>...</th>\n",
       "      <th>form_field42</th>\n",
       "      <th>form_field43</th>\n",
       "      <th>form_field44</th>\n",
       "      <th>form_field45</th>\n",
       "      <th>form_field46</th>\n",
       "      <th>form_field47</th>\n",
       "      <th>form_field48</th>\n",
       "      <th>form_field49</th>\n",
       "      <th>form_field50</th>\n",
       "      <th>default_status</th>\n",
       "    </tr>\n",
       "    <tr>\n",
       "      <th>Applicant_ID</th>\n",
       "      <th></th>\n",
       "      <th></th>\n",
       "      <th></th>\n",
       "      <th></th>\n",
       "      <th></th>\n",
       "      <th></th>\n",
       "      <th></th>\n",
       "      <th></th>\n",
       "      <th></th>\n",
       "      <th></th>\n",
       "      <th></th>\n",
       "      <th></th>\n",
       "      <th></th>\n",
       "      <th></th>\n",
       "      <th></th>\n",
       "      <th></th>\n",
       "      <th></th>\n",
       "      <th></th>\n",
       "      <th></th>\n",
       "      <th></th>\n",
       "      <th></th>\n",
       "    </tr>\n",
       "  </thead>\n",
       "  <tbody>\n",
       "    <tr>\n",
       "      <th>Apcnt_1000000</th>\n",
       "      <td>3436.0</td>\n",
       "      <td>0.28505</td>\n",
       "      <td>1.6560</td>\n",
       "      <td>0.0</td>\n",
       "      <td>0.0</td>\n",
       "      <td>0.0</td>\n",
       "      <td>10689720.0</td>\n",
       "      <td>252072.0</td>\n",
       "      <td>4272776.0</td>\n",
       "      <td>11333126.0</td>\n",
       "      <td>...</td>\n",
       "      <td>0.392854</td>\n",
       "      <td>2.02</td>\n",
       "      <td>0.711632</td>\n",
       "      <td>0.0</td>\n",
       "      <td>0.0</td>\n",
       "      <td>0.322506</td>\n",
       "      <td>NaN</td>\n",
       "      <td>1.129518</td>\n",
       "      <td>0.044335</td>\n",
       "      <td>0</td>\n",
       "    </tr>\n",
       "    <tr>\n",
       "      <th>Apcnt_1000004</th>\n",
       "      <td>3456.0</td>\n",
       "      <td>0.67400</td>\n",
       "      <td>0.2342</td>\n",
       "      <td>0.0</td>\n",
       "      <td>0.0</td>\n",
       "      <td>0.0</td>\n",
       "      <td>898979.0</td>\n",
       "      <td>497531.0</td>\n",
       "      <td>9073814.0</td>\n",
       "      <td>2533168.0</td>\n",
       "      <td>...</td>\n",
       "      <td>0.314281</td>\n",
       "      <td>8.08</td>\n",
       "      <td>0.183584</td>\n",
       "      <td>NaN</td>\n",
       "      <td>0.0</td>\n",
       "      <td>0.322506</td>\n",
       "      <td>349.80573</td>\n",
       "      <td>1.620483</td>\n",
       "      <td>0.322436</td>\n",
       "      <td>0</td>\n",
       "    </tr>\n",
       "  </tbody>\n",
       "</table>\n",
       "<p>2 rows × 51 columns</p>\n",
       "</div>"
      ],
      "text/plain": [
       "               form_field1  form_field2  form_field3  form_field4  \\\n",
       "Applicant_ID                                                        \n",
       "Apcnt_1000000       3436.0      0.28505       1.6560          0.0   \n",
       "Apcnt_1000004       3456.0      0.67400       0.2342          0.0   \n",
       "\n",
       "               form_field5  form_field6  form_field7  form_field8  \\\n",
       "Applicant_ID                                                        \n",
       "Apcnt_1000000          0.0          0.0   10689720.0     252072.0   \n",
       "Apcnt_1000004          0.0          0.0     898979.0     497531.0   \n",
       "\n",
       "               form_field9  form_field10  ...  form_field42  form_field43  \\\n",
       "Applicant_ID                              ...                               \n",
       "Apcnt_1000000    4272776.0    11333126.0  ...      0.392854          2.02   \n",
       "Apcnt_1000004    9073814.0     2533168.0  ...      0.314281          8.08   \n",
       "\n",
       "               form_field44  form_field45  form_field46  form_field47  \\\n",
       "Applicant_ID                                                            \n",
       "Apcnt_1000000      0.711632           0.0           0.0      0.322506   \n",
       "Apcnt_1000004      0.183584           NaN           0.0      0.322506   \n",
       "\n",
       "               form_field48  form_field49  form_field50  default_status  \n",
       "Applicant_ID                                                             \n",
       "Apcnt_1000000           NaN      1.129518      0.044335               0  \n",
       "Apcnt_1000004     349.80573      1.620483      0.322436               0  \n",
       "\n",
       "[2 rows x 51 columns]"
      ]
     },
     "execution_count": 6,
     "metadata": {},
     "output_type": "execute_result"
    }
   ],
   "source": [
    "train.head(2)"
   ]
  },
  {
   "cell_type": "markdown",
   "metadata": {
    "papermill": {
     "duration": 0.017518,
     "end_time": "2020-10-03T16:03:29.553542",
     "exception": false,
     "start_time": "2020-10-03T16:03:29.536024",
     "status": "completed"
    },
    "tags": []
   },
   "source": [
    "### Separating the Target from the predictors"
   ]
  },
  {
   "cell_type": "code",
   "execution_count": 7,
   "metadata": {
    "execution": {
     "iopub.execute_input": "2020-10-03T16:03:29.608473Z",
     "iopub.status.busy": "2020-10-03T16:03:29.607755Z",
     "iopub.status.idle": "2020-10-03T16:03:29.612754Z",
     "shell.execute_reply": "2020-10-03T16:03:29.612295Z"
    },
    "papermill": {
     "duration": 0.041752,
     "end_time": "2020-10-03T16:03:29.612834",
     "exception": false,
     "start_time": "2020-10-03T16:03:29.571082",
     "status": "completed"
    },
    "tags": []
   },
   "outputs": [
    {
     "data": {
      "text/html": [
       "<div>\n",
       "<style scoped>\n",
       "    .dataframe tbody tr th:only-of-type {\n",
       "        vertical-align: middle;\n",
       "    }\n",
       "\n",
       "    .dataframe tbody tr th {\n",
       "        vertical-align: top;\n",
       "    }\n",
       "\n",
       "    .dataframe thead th {\n",
       "        text-align: right;\n",
       "    }\n",
       "</style>\n",
       "<table border=\"1\" class=\"dataframe\">\n",
       "  <thead>\n",
       "    <tr style=\"text-align: right;\">\n",
       "      <th></th>\n",
       "      <th>form_field1</th>\n",
       "      <th>form_field2</th>\n",
       "      <th>form_field3</th>\n",
       "      <th>form_field4</th>\n",
       "      <th>form_field5</th>\n",
       "      <th>form_field6</th>\n",
       "      <th>form_field7</th>\n",
       "      <th>form_field8</th>\n",
       "      <th>form_field9</th>\n",
       "      <th>form_field10</th>\n",
       "      <th>...</th>\n",
       "      <th>form_field41</th>\n",
       "      <th>form_field42</th>\n",
       "      <th>form_field43</th>\n",
       "      <th>form_field44</th>\n",
       "      <th>form_field45</th>\n",
       "      <th>form_field46</th>\n",
       "      <th>form_field47</th>\n",
       "      <th>form_field48</th>\n",
       "      <th>form_field49</th>\n",
       "      <th>form_field50</th>\n",
       "    </tr>\n",
       "    <tr>\n",
       "      <th>Applicant_ID</th>\n",
       "      <th></th>\n",
       "      <th></th>\n",
       "      <th></th>\n",
       "      <th></th>\n",
       "      <th></th>\n",
       "      <th></th>\n",
       "      <th></th>\n",
       "      <th></th>\n",
       "      <th></th>\n",
       "      <th></th>\n",
       "      <th></th>\n",
       "      <th></th>\n",
       "      <th></th>\n",
       "      <th></th>\n",
       "      <th></th>\n",
       "      <th></th>\n",
       "      <th></th>\n",
       "      <th></th>\n",
       "      <th></th>\n",
       "      <th></th>\n",
       "      <th></th>\n",
       "    </tr>\n",
       "  </thead>\n",
       "  <tbody>\n",
       "    <tr>\n",
       "      <th>Apcnt_1000000</th>\n",
       "      <td>3436.0</td>\n",
       "      <td>0.28505</td>\n",
       "      <td>1.6560</td>\n",
       "      <td>0.0</td>\n",
       "      <td>0.0</td>\n",
       "      <td>0.0</td>\n",
       "      <td>10689720.0</td>\n",
       "      <td>252072.0</td>\n",
       "      <td>4272776.0</td>\n",
       "      <td>11333126.0</td>\n",
       "      <td>...</td>\n",
       "      <td>NaN</td>\n",
       "      <td>0.392854</td>\n",
       "      <td>2.02</td>\n",
       "      <td>0.711632</td>\n",
       "      <td>0.0</td>\n",
       "      <td>0.0</td>\n",
       "      <td>0.322506</td>\n",
       "      <td>NaN</td>\n",
       "      <td>1.129518</td>\n",
       "      <td>0.044335</td>\n",
       "    </tr>\n",
       "    <tr>\n",
       "      <th>Apcnt_1000004</th>\n",
       "      <td>3456.0</td>\n",
       "      <td>0.67400</td>\n",
       "      <td>0.2342</td>\n",
       "      <td>0.0</td>\n",
       "      <td>0.0</td>\n",
       "      <td>0.0</td>\n",
       "      <td>898979.0</td>\n",
       "      <td>497531.0</td>\n",
       "      <td>9073814.0</td>\n",
       "      <td>2533168.0</td>\n",
       "      <td>...</td>\n",
       "      <td>NaN</td>\n",
       "      <td>0.314281</td>\n",
       "      <td>8.08</td>\n",
       "      <td>0.183584</td>\n",
       "      <td>NaN</td>\n",
       "      <td>0.0</td>\n",
       "      <td>0.322506</td>\n",
       "      <td>349.80573</td>\n",
       "      <td>1.620483</td>\n",
       "      <td>0.322436</td>\n",
       "    </tr>\n",
       "  </tbody>\n",
       "</table>\n",
       "<p>2 rows × 50 columns</p>\n",
       "</div>"
      ],
      "text/plain": [
       "               form_field1  form_field2  form_field3  form_field4  \\\n",
       "Applicant_ID                                                        \n",
       "Apcnt_1000000       3436.0      0.28505       1.6560          0.0   \n",
       "Apcnt_1000004       3456.0      0.67400       0.2342          0.0   \n",
       "\n",
       "               form_field5  form_field6  form_field7  form_field8  \\\n",
       "Applicant_ID                                                        \n",
       "Apcnt_1000000          0.0          0.0   10689720.0     252072.0   \n",
       "Apcnt_1000004          0.0          0.0     898979.0     497531.0   \n",
       "\n",
       "               form_field9  form_field10  ...  form_field41  form_field42  \\\n",
       "Applicant_ID                              ...                               \n",
       "Apcnt_1000000    4272776.0    11333126.0  ...           NaN      0.392854   \n",
       "Apcnt_1000004    9073814.0     2533168.0  ...           NaN      0.314281   \n",
       "\n",
       "               form_field43  form_field44  form_field45  form_field46  \\\n",
       "Applicant_ID                                                            \n",
       "Apcnt_1000000          2.02      0.711632           0.0           0.0   \n",
       "Apcnt_1000004          8.08      0.183584           NaN           0.0   \n",
       "\n",
       "               form_field47  form_field48  form_field49  form_field50  \n",
       "Applicant_ID                                                           \n",
       "Apcnt_1000000      0.322506           NaN      1.129518      0.044335  \n",
       "Apcnt_1000004      0.322506     349.80573      1.620483      0.322436  \n",
       "\n",
       "[2 rows x 50 columns]"
      ]
     },
     "execution_count": 7,
     "metadata": {},
     "output_type": "execute_result"
    }
   ],
   "source": [
    "y = train.pop(\"default_status\")\n",
    "\n",
    "train.head(2)"
   ]
  },
  {
   "cell_type": "markdown",
   "metadata": {
    "papermill": {
     "duration": 0.017584,
     "end_time": "2020-10-03T16:03:29.648686",
     "exception": false,
     "start_time": "2020-10-03T16:03:29.631102",
     "status": "completed"
    },
    "tags": []
   },
   "source": [
    "### Handling Missing Values"
   ]
  },
  {
   "cell_type": "code",
   "execution_count": 8,
   "metadata": {
    "execution": {
     "iopub.execute_input": "2020-10-03T16:03:29.689764Z",
     "iopub.status.busy": "2020-10-03T16:03:29.689329Z",
     "iopub.status.idle": "2020-10-03T16:03:30.036558Z",
     "shell.execute_reply": "2020-10-03T16:03:30.036169Z"
    },
    "papermill": {
     "duration": 0.370096,
     "end_time": "2020-10-03T16:03:30.036648",
     "exception": false,
     "start_time": "2020-10-03T16:03:29.666552",
     "status": "completed"
    },
    "tags": []
   },
   "outputs": [],
   "source": [
    "from sklearn.impute import SimpleImputer\n",
    "\n",
    "zero_imputer = SimpleImputer(strategy='constant', add_indicator=True)"
   ]
  },
  {
   "cell_type": "code",
   "execution_count": 9,
   "metadata": {
    "execution": {
     "iopub.execute_input": "2020-10-03T16:03:30.082425Z",
     "iopub.status.busy": "2020-10-03T16:03:30.081879Z",
     "iopub.status.idle": "2020-10-03T16:03:30.248165Z",
     "shell.execute_reply": "2020-10-03T16:03:30.247674Z"
    },
    "papermill": {
     "duration": 0.192841,
     "end_time": "2020-10-03T16:03:30.248245",
     "exception": false,
     "start_time": "2020-10-03T16:03:30.055404",
     "status": "completed"
    },
    "tags": []
   },
   "outputs": [],
   "source": [
    "imputed_train = zero_imputer.fit_transform(train)\n",
    "imputed_test = zero_imputer.transform(test)"
   ]
  },
  {
   "cell_type": "markdown",
   "metadata": {
    "papermill": {
     "duration": 0.018672,
     "end_time": "2020-10-03T16:03:30.286127",
     "exception": false,
     "start_time": "2020-10-03T16:03:30.267455",
     "status": "completed"
    },
    "tags": []
   },
   "source": [
    "## Scaling the data"
   ]
  },
  {
   "cell_type": "code",
   "execution_count": 10,
   "metadata": {
    "execution": {
     "iopub.execute_input": "2020-10-03T16:03:30.329421Z",
     "iopub.status.busy": "2020-10-03T16:03:30.328824Z",
     "iopub.status.idle": "2020-10-03T16:03:30.331887Z",
     "shell.execute_reply": "2020-10-03T16:03:30.331505Z"
    },
    "papermill": {
     "duration": 0.027062,
     "end_time": "2020-10-03T16:03:30.331996",
     "exception": false,
     "start_time": "2020-10-03T16:03:30.304934",
     "status": "completed"
    },
    "tags": []
   },
   "outputs": [],
   "source": [
    "from sklearn.preprocessing import MinMaxScaler"
   ]
  },
  {
   "cell_type": "code",
   "execution_count": 11,
   "metadata": {
    "execution": {
     "iopub.execute_input": "2020-10-03T16:03:30.376117Z",
     "iopub.status.busy": "2020-10-03T16:03:30.375588Z",
     "iopub.status.idle": "2020-10-03T16:03:30.427796Z",
     "shell.execute_reply": "2020-10-03T16:03:30.428172Z"
    },
    "papermill": {
     "duration": 0.077116,
     "end_time": "2020-10-03T16:03:30.428280",
     "exception": false,
     "start_time": "2020-10-03T16:03:30.351164",
     "status": "completed"
    },
    "tags": []
   },
   "outputs": [],
   "source": [
    "scaler_mm = MinMaxScaler()\n",
    "\n",
    "scaled_train = pd.DataFrame(scaler_mm.fit_transform(imputed_train))\n",
    "scaled_test = pd.DataFrame(scaler_mm.transform(imputed_test))"
   ]
  },
  {
   "cell_type": "markdown",
   "metadata": {
    "papermill": {
     "duration": 0.019749,
     "end_time": "2020-10-03T16:03:30.467865",
     "exception": false,
     "start_time": "2020-10-03T16:03:30.448116",
     "status": "completed"
    },
    "tags": []
   },
   "source": [
    "## Modelling"
   ]
  },
  {
   "cell_type": "markdown",
   "metadata": {
    "papermill": {
     "duration": 0.019258,
     "end_time": "2020-10-03T16:03:30.505800",
     "exception": false,
     "start_time": "2020-10-03T16:03:30.486542",
     "status": "completed"
    },
    "tags": []
   },
   "source": [
    "### Hyperparameter Tuning"
   ]
  },
  {
   "cell_type": "markdown",
   "metadata": {
    "papermill": {
     "duration": 0.018955,
     "end_time": "2020-10-03T16:03:30.544389",
     "exception": false,
     "start_time": "2020-10-03T16:03:30.525434",
     "status": "completed"
    },
    "tags": []
   },
   "source": [
    "XGBoost: learning_rate (0.01 - 0.2), max_depth, min_child_weight, colsample_bytree, subsample, n_estimators\n",
    "\n",
    "CatBoost: learning_rate, depth, l2-leaf-reg, rsm, iterations\n",
    "\n",
    "LightGBM: learning_rate, max_depth, num_leaves, min_data_in_leaf(min_data, min_child_samples), feature_fraction, bagging_fraction, num_iterations"
   ]
  },
  {
   "cell_type": "code",
   "execution_count": 12,
   "metadata": {
    "execution": {
     "iopub.execute_input": "2020-10-03T16:03:30.587785Z",
     "iopub.status.busy": "2020-10-03T16:03:30.587348Z",
     "iopub.status.idle": "2020-10-03T16:03:31.778045Z",
     "shell.execute_reply": "2020-10-03T16:03:31.777631Z"
    },
    "papermill": {
     "duration": 1.214567,
     "end_time": "2020-10-03T16:03:31.778132",
     "exception": false,
     "start_time": "2020-10-03T16:03:30.563565",
     "status": "completed"
    },
    "tags": []
   },
   "outputs": [],
   "source": [
    "from sklearn.model_selection import RandomizedSearchCV\n",
    "from xgboost import XGBClassifier\n",
    "from lightgbm import LGBMClassifier\n",
    "from catboost import CatBoostClassifier\n",
    "from rgf.sklearn import RGFClassifier, FastRGFClassifier\n",
    "from sklearn.ensemble import RandomForestClassifier"
   ]
  },
  {
   "cell_type": "code",
   "execution_count": 13,
   "metadata": {
    "execution": {
     "iopub.execute_input": "2020-10-03T16:03:31.821753Z",
     "iopub.status.busy": "2020-10-03T16:03:31.821012Z",
     "iopub.status.idle": "2020-10-03T16:03:31.981812Z",
     "shell.execute_reply": "2020-10-03T16:03:31.981184Z"
    },
    "papermill": {
     "duration": 0.185042,
     "end_time": "2020-10-03T16:03:31.981910",
     "exception": false,
     "start_time": "2020-10-03T16:03:31.796868",
     "status": "completed"
    },
    "tags": []
   },
   "outputs": [],
   "source": [
    "rgf_params = {\n",
    "    'max_leaf': [1000, 1200, 1500, 2000, 2500, 3000, 3500, 4000],\n",
    "#     'algorithm': ['RGF', 'RGF_Opt', 'RGF_Sib'],\n",
    "#     'l2': [1.0, 0.1, 0.01, 0.001],\n",
    "#     'learning_rate': [0.03, 0.001, 0.005, 0.01, 0.1, 0.2, 0.3],\n",
    "#     'n_iter': [250, 100, 500, 1000, 1500, 2000, 2500, 3000, 3500, 4000, 4500],\n",
    "}\n",
    "\n",
    "rgf_model = RGFClassifier(algorithm='RGF',learning_rate=0.01, l2=0.001)"
   ]
  },
  {
   "cell_type": "code",
   "execution_count": 14,
   "metadata": {
    "execution": {
     "iopub.execute_input": "2020-10-03T16:03:32.048125Z",
     "iopub.status.busy": "2020-10-03T16:03:32.047267Z",
     "iopub.status.idle": "2020-10-03T16:03:32.051049Z",
     "shell.execute_reply": "2020-10-03T16:03:32.050437Z"
    },
    "papermill": {
     "duration": 0.038337,
     "end_time": "2020-10-03T16:03:32.051155",
     "exception": false,
     "start_time": "2020-10-03T16:03:32.012818",
     "status": "completed"
    },
    "tags": []
   },
   "outputs": [],
   "source": [
    "tune_rgf_1 = RandomizedSearchCV(rgf_model, \n",
    "                          param_distributions=rgf_params,\n",
    "                          scoring='roc_auc')"
   ]
  },
  {
   "cell_type": "code",
   "execution_count": null,
   "metadata": {
    "papermill": {
     "duration": 0.02785,
     "end_time": "2020-10-03T16:03:32.108190",
     "exception": false,
     "start_time": "2020-10-03T16:03:32.080340",
     "status": "completed"
    },
    "tags": []
   },
   "outputs": [],
   "source": []
  },
  {
   "cell_type": "code",
   "execution_count": 15,
   "metadata": {
    "execution": {
     "iopub.execute_input": "2020-10-03T16:03:32.171468Z",
     "iopub.status.busy": "2020-10-03T16:03:32.170924Z",
     "iopub.status.idle": "2020-10-03T17:03:19.641526Z",
     "shell.execute_reply": "2020-10-03T17:03:19.641893Z"
    },
    "papermill": {
     "duration": 3587.504547,
     "end_time": "2020-10-03T17:03:19.642022",
     "exception": false,
     "start_time": "2020-10-03T16:03:32.137475",
     "status": "completed"
    },
    "tags": []
   },
   "outputs": [
    {
     "name": "stderr",
     "output_type": "stream",
     "text": [
      "/opt/conda/lib/python3.7/site-packages/sklearn/model_selection/_search.py:282: UserWarning: The total space of parameters 8 is smaller than n_iter=10. Running 8 iterations. For exhaustive searches, use GridSearchCV.\n",
      "  % (grid_size, self.n_iter, grid_size), UserWarning)\n"
     ]
    },
    {
     "data": {
      "text/plain": [
       "RandomizedSearchCV(estimator=RGFClassifier(l2=0.001, learning_rate=0.01),\n",
       "                   param_distributions={'max_leaf': [1000, 1200, 1500, 2000,\n",
       "                                                     2500, 3000, 3500, 4000]},\n",
       "                   scoring='roc_auc')"
      ]
     },
     "execution_count": 15,
     "metadata": {},
     "output_type": "execute_result"
    }
   ],
   "source": [
    "tune_rgf_1.fit(scaled_train, y)"
   ]
  },
  {
   "cell_type": "code",
   "execution_count": 16,
   "metadata": {
    "execution": {
     "iopub.execute_input": "2020-10-03T17:03:19.685580Z",
     "iopub.status.busy": "2020-10-03T17:03:19.685112Z",
     "iopub.status.idle": "2020-10-03T17:03:19.688184Z",
     "shell.execute_reply": "2020-10-03T17:03:19.687793Z"
    },
    "papermill": {
     "duration": 0.026795,
     "end_time": "2020-10-03T17:03:19.688257",
     "exception": false,
     "start_time": "2020-10-03T17:03:19.661462",
     "status": "completed"
    },
    "tags": []
   },
   "outputs": [
    {
     "data": {
      "text/plain": [
       "0.8390604551316645"
      ]
     },
     "execution_count": 16,
     "metadata": {},
     "output_type": "execute_result"
    }
   ],
   "source": [
    "tune_rgf_1.best_score_"
   ]
  },
  {
   "cell_type": "markdown",
   "metadata": {
    "papermill": {
     "duration": 0.020959,
     "end_time": "2020-10-03T17:03:19.729278",
     "exception": false,
     "start_time": "2020-10-03T17:03:19.708319",
     "status": "completed"
    },
    "tags": []
   },
   "source": [
    "Default: 0.8389612679372922"
   ]
  },
  {
   "cell_type": "code",
   "execution_count": 17,
   "metadata": {
    "execution": {
     "iopub.execute_input": "2020-10-03T17:03:19.774850Z",
     "iopub.status.busy": "2020-10-03T17:03:19.774394Z",
     "iopub.status.idle": "2020-10-03T17:03:19.778836Z",
     "shell.execute_reply": "2020-10-03T17:03:19.778449Z"
    },
    "papermill": {
     "duration": 0.028143,
     "end_time": "2020-10-03T17:03:19.778911",
     "exception": false,
     "start_time": "2020-10-03T17:03:19.750768",
     "status": "completed"
    },
    "tags": []
   },
   "outputs": [
    {
     "data": {
      "text/plain": [
       "{'max_leaf': 1000}"
      ]
     },
     "execution_count": 17,
     "metadata": {},
     "output_type": "execute_result"
    }
   ],
   "source": [
    "tune_rgf_1.best_params_"
   ]
  },
  {
   "cell_type": "markdown",
   "metadata": {
    "papermill": {
     "duration": 0.02018,
     "end_time": "2020-10-03T17:03:19.819382",
     "exception": false,
     "start_time": "2020-10-03T17:03:19.799202",
     "status": "completed"
    },
    "tags": []
   },
   "source": [
    "### Local Validation"
   ]
  },
  {
   "cell_type": "code",
   "execution_count": 18,
   "metadata": {
    "execution": {
     "iopub.execute_input": "2020-10-03T17:03:19.864732Z",
     "iopub.status.busy": "2020-10-03T17:03:19.864275Z",
     "iopub.status.idle": "2020-10-03T17:03:19.867729Z",
     "shell.execute_reply": "2020-10-03T17:03:19.867191Z"
    },
    "papermill": {
     "duration": 0.027675,
     "end_time": "2020-10-03T17:03:19.867829",
     "exception": false,
     "start_time": "2020-10-03T17:03:19.840154",
     "status": "completed"
    },
    "tags": []
   },
   "outputs": [],
   "source": [
    "tuned_rgf_1 = tune_rgf_1.best_estimator_"
   ]
  },
  {
   "cell_type": "code",
   "execution_count": 19,
   "metadata": {
    "execution": {
     "iopub.execute_input": "2020-10-03T17:03:19.940438Z",
     "iopub.status.busy": "2020-10-03T17:03:19.939906Z",
     "iopub.status.idle": "2020-10-03T17:03:19.943504Z",
     "shell.execute_reply": "2020-10-03T17:03:19.943113Z"
    },
    "papermill": {
     "duration": 0.044675,
     "end_time": "2020-10-03T17:03:19.943596",
     "exception": false,
     "start_time": "2020-10-03T17:03:19.898921",
     "status": "completed"
    },
    "tags": []
   },
   "outputs": [],
   "source": [
    "from sklearn.model_selection import StratifiedKFold\n",
    "from sklearn.metrics import roc_auc_score\n",
    "\n",
    "def skf(model):\n",
    "    kf = StratifiedKFold(n_splits=5, shuffle=True, random_state=99)\n",
    "    local_validation = []\n",
    "    test_predictions = []\n",
    "\n",
    "    for i, (train_index, val_index) in enumerate(kf.split(scaled_train, y)):\n",
    "        cv_train, cv_val = scaled_train.iloc[train_index], scaled_train.iloc[val_index]\n",
    "        y_train, y_val = y.iloc[train_index], y.iloc[val_index]\n",
    "\n",
    "        model.fit(cv_train, y_train)\n",
    "        y_pred = model.predict_proba(cv_val)[:, 1]\n",
    "        auc_score = roc_auc_score(y_val, y_pred)\n",
    "        local_validation.append(auc_score)\n",
    "        print(\"*\" * 73 + \"\\nFold\" + str(i) + \": \" + str(auc_score))\n",
    "\n",
    "        test_pred = model.predict_proba(scaled_test)[:, 1]\n",
    "        test_predictions.append(test_pred)\n",
    "        \n",
    "    print(\"AUC mean score: \", np.mean(local_validation))\n",
    "    return np.mean(test_predictions, axis=0)"
   ]
  },
  {
   "cell_type": "code",
   "execution_count": 20,
   "metadata": {
    "execution": {
     "iopub.execute_input": "2020-10-03T17:03:19.990520Z",
     "iopub.status.busy": "2020-10-03T17:03:19.990080Z",
     "iopub.status.idle": "2020-10-03T17:07:01.349841Z",
     "shell.execute_reply": "2020-10-03T17:07:01.349380Z"
    },
    "papermill": {
     "duration": 221.384906,
     "end_time": "2020-10-03T17:07:01.349933",
     "exception": false,
     "start_time": "2020-10-03T17:03:19.965027",
     "status": "completed"
    },
    "tags": []
   },
   "outputs": [
    {
     "name": "stdout",
     "output_type": "stream",
     "text": [
      "*************************************************************************\n",
      "Fold0: 0.8436922501000214\n",
      "*************************************************************************\n",
      "Fold1: 0.8398410677058109\n",
      "*************************************************************************\n",
      "Fold2: 0.8399988645353125\n",
      "*************************************************************************\n",
      "Fold3: 0.8363769304785665\n",
      "*************************************************************************\n",
      "Fold4: 0.8361064493402773\n",
      "AUC mean score:  0.8392031124319977\n"
     ]
    }
   ],
   "source": [
    "test_pred = skf(tuned_rgf_1)"
   ]
  },
  {
   "cell_type": "markdown",
   "metadata": {
    "papermill": {
     "duration": 0.021517,
     "end_time": "2020-10-03T17:07:01.393365",
     "exception": false,
     "start_time": "2020-10-03T17:07:01.371848",
     "status": "completed"
    },
    "tags": []
   },
   "source": [
    "Default: 0.8389612679372922"
   ]
  },
  {
   "cell_type": "markdown",
   "metadata": {
    "papermill": {
     "duration": 0.021723,
     "end_time": "2020-10-03T17:07:01.437225",
     "exception": false,
     "start_time": "2020-10-03T17:07:01.415502",
     "status": "completed"
    },
    "tags": []
   },
   "source": [
    "### Final Steps"
   ]
  },
  {
   "cell_type": "code",
   "execution_count": 21,
   "metadata": {
    "execution": {
     "iopub.execute_input": "2020-10-03T17:07:01.489584Z",
     "iopub.status.busy": "2020-10-03T17:07:01.489139Z",
     "iopub.status.idle": "2020-10-03T17:07:01.510153Z",
     "shell.execute_reply": "2020-10-03T17:07:01.509670Z"
    },
    "papermill": {
     "duration": 0.050113,
     "end_time": "2020-10-03T17:07:01.510248",
     "exception": false,
     "start_time": "2020-10-03T17:07:01.460135",
     "status": "completed"
    },
    "tags": []
   },
   "outputs": [],
   "source": [
    "submission = pd.read_csv(\"../input/2020aibootacampqualifiers/SampleSubmission.csv\")"
   ]
  },
  {
   "cell_type": "code",
   "execution_count": 22,
   "metadata": {
    "execution": {
     "iopub.execute_input": "2020-10-03T17:07:01.558751Z",
     "iopub.status.busy": "2020-10-03T17:07:01.558276Z",
     "iopub.status.idle": "2020-10-03T17:07:01.879055Z",
     "shell.execute_reply": "2020-10-03T17:07:01.878627Z"
    },
    "papermill": {
     "duration": 0.346747,
     "end_time": "2020-10-03T17:07:01.879141",
     "exception": false,
     "start_time": "2020-10-03T17:07:01.532394",
     "status": "completed"
    },
    "tags": []
   },
   "outputs": [],
   "source": [
    "submission.default_status = test_pred\n",
    "submission.to_csv(\"sub_rgf\", index=False)"
   ]
  },
  {
   "cell_type": "code",
   "execution_count": 23,
   "metadata": {
    "execution": {
     "iopub.execute_input": "2020-10-03T17:07:01.932145Z",
     "iopub.status.busy": "2020-10-03T17:07:01.931621Z",
     "iopub.status.idle": "2020-10-03T17:07:01.936235Z",
     "shell.execute_reply": "2020-10-03T17:07:01.935828Z"
    },
    "papermill": {
     "duration": 0.034116,
     "end_time": "2020-10-03T17:07:01.936309",
     "exception": false,
     "start_time": "2020-10-03T17:07:01.902193",
     "status": "completed"
    },
    "tags": []
   },
   "outputs": [
    {
     "data": {
      "text/html": [
       "<div>\n",
       "<style scoped>\n",
       "    .dataframe tbody tr th:only-of-type {\n",
       "        vertical-align: middle;\n",
       "    }\n",
       "\n",
       "    .dataframe tbody tr th {\n",
       "        vertical-align: top;\n",
       "    }\n",
       "\n",
       "    .dataframe thead th {\n",
       "        text-align: right;\n",
       "    }\n",
       "</style>\n",
       "<table border=\"1\" class=\"dataframe\">\n",
       "  <thead>\n",
       "    <tr style=\"text-align: right;\">\n",
       "      <th></th>\n",
       "      <th>Applicant_ID</th>\n",
       "      <th>default_status</th>\n",
       "    </tr>\n",
       "  </thead>\n",
       "  <tbody>\n",
       "    <tr>\n",
       "      <th>0</th>\n",
       "      <td>Apcnt_1000032</td>\n",
       "      <td>0.314945</td>\n",
       "    </tr>\n",
       "    <tr>\n",
       "      <th>1</th>\n",
       "      <td>Apcnt_1000048</td>\n",
       "      <td>0.354779</td>\n",
       "    </tr>\n",
       "  </tbody>\n",
       "</table>\n",
       "</div>"
      ],
      "text/plain": [
       "    Applicant_ID  default_status\n",
       "0  Apcnt_1000032        0.314945\n",
       "1  Apcnt_1000048        0.354779"
      ]
     },
     "execution_count": 23,
     "metadata": {},
     "output_type": "execute_result"
    }
   ],
   "source": [
    "submission.head(2)"
   ]
  },
  {
   "cell_type": "markdown",
   "metadata": {
    "papermill": {
     "duration": 0.022945,
     "end_time": "2020-10-03T17:07:01.982359",
     "exception": false,
     "start_time": "2020-10-03T17:07:01.959414",
     "status": "completed"
    },
    "tags": []
   },
   "source": [
    "### Next Steps\n",
    "\n",
    "How do we improve our model's accuracy?"
   ]
  },
  {
   "cell_type": "code",
   "execution_count": null,
   "metadata": {
    "papermill": {
     "duration": 0.021755,
     "end_time": "2020-10-03T17:07:02.026352",
     "exception": false,
     "start_time": "2020-10-03T17:07:02.004597",
     "status": "completed"
    },
    "tags": []
   },
   "outputs": [],
   "source": []
  }
 ],
 "metadata": {
  "kernelspec": {
   "display_name": "Python 3",
   "language": "python",
   "name": "python3"
  },
  "language_info": {
   "codemirror_mode": {
    "name": "ipython",
    "version": 3
   },
   "file_extension": ".py",
   "mimetype": "text/x-python",
   "name": "python",
   "nbconvert_exporter": "python",
   "pygments_lexer": "ipython3",
   "version": "3.7.6"
  },
  "papermill": {
   "duration": 3819.235782,
   "end_time": "2020-10-03T17:07:02.156077",
   "environment_variables": {},
   "exception": null,
   "input_path": "__notebook__.ipynb",
   "output_path": "__notebook__.ipynb",
   "parameters": {},
   "start_time": "2020-10-03T16:03:22.920295",
   "version": "2.1.0"
  }
 },
 "nbformat": 4,
 "nbformat_minor": 4
}
