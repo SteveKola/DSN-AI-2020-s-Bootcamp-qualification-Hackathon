{
 "cells": [
  {
   "cell_type": "markdown",
   "metadata": {
    "papermill": {
     "duration": 0.013204,
     "end_time": "2020-10-01T12:00:40.010749",
     "exception": false,
     "start_time": "2020-10-01T12:00:39.997545",
     "status": "completed"
    },
    "tags": []
   },
   "source": [
    "## Setup and Loading Data"
   ]
  },
  {
   "cell_type": "code",
   "execution_count": 1,
   "metadata": {
    "execution": {
     "iopub.execute_input": "2020-10-01T12:00:40.040234Z",
     "iopub.status.busy": "2020-10-01T12:00:40.039682Z",
     "iopub.status.idle": "2020-10-01T12:00:41.032823Z",
     "shell.execute_reply": "2020-10-01T12:00:41.033463Z"
    },
    "papermill": {
     "duration": 1.010576,
     "end_time": "2020-10-01T12:00:41.033635",
     "exception": false,
     "start_time": "2020-10-01T12:00:40.023059",
     "status": "completed"
    },
    "tags": []
   },
   "outputs": [],
   "source": [
    "import numpy as np\n",
    "import pandas as pd"
   ]
  },
  {
   "cell_type": "code",
   "execution_count": 2,
   "metadata": {
    "execution": {
     "iopub.execute_input": "2020-10-01T12:00:41.061508Z",
     "iopub.status.busy": "2020-10-01T12:00:41.060976Z",
     "iopub.status.idle": "2020-10-01T12:00:41.462258Z",
     "shell.execute_reply": "2020-10-01T12:00:41.462717Z"
    },
    "papermill": {
     "duration": 0.416464,
     "end_time": "2020-10-01T12:00:41.462845",
     "exception": false,
     "start_time": "2020-10-01T12:00:41.046381",
     "status": "completed"
    },
    "tags": []
   },
   "outputs": [
    {
     "data": {
      "text/html": [
       "<div>\n",
       "<style scoped>\n",
       "    .dataframe tbody tr th:only-of-type {\n",
       "        vertical-align: middle;\n",
       "    }\n",
       "\n",
       "    .dataframe tbody tr th {\n",
       "        vertical-align: top;\n",
       "    }\n",
       "\n",
       "    .dataframe thead th {\n",
       "        text-align: right;\n",
       "    }\n",
       "</style>\n",
       "<table border=\"1\" class=\"dataframe\">\n",
       "  <thead>\n",
       "    <tr style=\"text-align: right;\">\n",
       "      <th></th>\n",
       "      <th>form_field1</th>\n",
       "      <th>form_field2</th>\n",
       "      <th>form_field3</th>\n",
       "      <th>form_field4</th>\n",
       "      <th>form_field5</th>\n",
       "      <th>form_field6</th>\n",
       "      <th>form_field7</th>\n",
       "      <th>form_field8</th>\n",
       "      <th>form_field9</th>\n",
       "      <th>form_field10</th>\n",
       "      <th>...</th>\n",
       "      <th>form_field42</th>\n",
       "      <th>form_field43</th>\n",
       "      <th>form_field44</th>\n",
       "      <th>form_field45</th>\n",
       "      <th>form_field46</th>\n",
       "      <th>form_field47</th>\n",
       "      <th>form_field48</th>\n",
       "      <th>form_field49</th>\n",
       "      <th>form_field50</th>\n",
       "      <th>default_status</th>\n",
       "    </tr>\n",
       "    <tr>\n",
       "      <th>Applicant_ID</th>\n",
       "      <th></th>\n",
       "      <th></th>\n",
       "      <th></th>\n",
       "      <th></th>\n",
       "      <th></th>\n",
       "      <th></th>\n",
       "      <th></th>\n",
       "      <th></th>\n",
       "      <th></th>\n",
       "      <th></th>\n",
       "      <th></th>\n",
       "      <th></th>\n",
       "      <th></th>\n",
       "      <th></th>\n",
       "      <th></th>\n",
       "      <th></th>\n",
       "      <th></th>\n",
       "      <th></th>\n",
       "      <th></th>\n",
       "      <th></th>\n",
       "      <th></th>\n",
       "    </tr>\n",
       "  </thead>\n",
       "  <tbody>\n",
       "    <tr>\n",
       "      <th>Apcnt_1000000</th>\n",
       "      <td>3436.0</td>\n",
       "      <td>0.28505</td>\n",
       "      <td>1.6560</td>\n",
       "      <td>0.0</td>\n",
       "      <td>0.0</td>\n",
       "      <td>0.0</td>\n",
       "      <td>10689720.0</td>\n",
       "      <td>252072.0</td>\n",
       "      <td>4272776.0</td>\n",
       "      <td>11333126.0</td>\n",
       "      <td>...</td>\n",
       "      <td>0.392854</td>\n",
       "      <td>2.02</td>\n",
       "      <td>0.711632</td>\n",
       "      <td>0.0</td>\n",
       "      <td>0.0</td>\n",
       "      <td>charge</td>\n",
       "      <td>NaN</td>\n",
       "      <td>1.129518</td>\n",
       "      <td>0.044335</td>\n",
       "      <td>no</td>\n",
       "    </tr>\n",
       "    <tr>\n",
       "      <th>Apcnt_1000004</th>\n",
       "      <td>3456.0</td>\n",
       "      <td>0.67400</td>\n",
       "      <td>0.2342</td>\n",
       "      <td>0.0</td>\n",
       "      <td>0.0</td>\n",
       "      <td>0.0</td>\n",
       "      <td>898979.0</td>\n",
       "      <td>497531.0</td>\n",
       "      <td>9073814.0</td>\n",
       "      <td>2533168.0</td>\n",
       "      <td>...</td>\n",
       "      <td>0.314281</td>\n",
       "      <td>8.08</td>\n",
       "      <td>0.183584</td>\n",
       "      <td>NaN</td>\n",
       "      <td>0.0</td>\n",
       "      <td>charge</td>\n",
       "      <td>349.80573</td>\n",
       "      <td>1.620483</td>\n",
       "      <td>0.322436</td>\n",
       "      <td>no</td>\n",
       "    </tr>\n",
       "  </tbody>\n",
       "</table>\n",
       "<p>2 rows × 51 columns</p>\n",
       "</div>"
      ],
      "text/plain": [
       "               form_field1  form_field2  form_field3  form_field4  \\\n",
       "Applicant_ID                                                        \n",
       "Apcnt_1000000       3436.0      0.28505       1.6560          0.0   \n",
       "Apcnt_1000004       3456.0      0.67400       0.2342          0.0   \n",
       "\n",
       "               form_field5  form_field6  form_field7  form_field8  \\\n",
       "Applicant_ID                                                        \n",
       "Apcnt_1000000          0.0          0.0   10689720.0     252072.0   \n",
       "Apcnt_1000004          0.0          0.0     898979.0     497531.0   \n",
       "\n",
       "               form_field9  form_field10  ...  form_field42  form_field43  \\\n",
       "Applicant_ID                              ...                               \n",
       "Apcnt_1000000    4272776.0    11333126.0  ...      0.392854          2.02   \n",
       "Apcnt_1000004    9073814.0     2533168.0  ...      0.314281          8.08   \n",
       "\n",
       "               form_field44  form_field45  form_field46  form_field47  \\\n",
       "Applicant_ID                                                            \n",
       "Apcnt_1000000      0.711632           0.0           0.0        charge   \n",
       "Apcnt_1000004      0.183584           NaN           0.0        charge   \n",
       "\n",
       "               form_field48  form_field49  form_field50  default_status  \n",
       "Applicant_ID                                                             \n",
       "Apcnt_1000000           NaN      1.129518      0.044335              no  \n",
       "Apcnt_1000004     349.80573      1.620483      0.322436              no  \n",
       "\n",
       "[2 rows x 51 columns]"
      ]
     },
     "execution_count": 2,
     "metadata": {},
     "output_type": "execute_result"
    }
   ],
   "source": [
    "train = pd.read_csv(\"../input/2020aibootacampqualifiers/Train.csv\", index_col=\"Applicant_ID\")\n",
    "\n",
    "train.head(2)"
   ]
  },
  {
   "cell_type": "code",
   "execution_count": 3,
   "metadata": {
    "execution": {
     "iopub.execute_input": "2020-10-01T12:00:41.493116Z",
     "iopub.status.busy": "2020-10-01T12:00:41.492606Z",
     "iopub.status.idle": "2020-10-01T12:00:41.668613Z",
     "shell.execute_reply": "2020-10-01T12:00:41.668055Z"
    },
    "papermill": {
     "duration": 0.191315,
     "end_time": "2020-10-01T12:00:41.668737",
     "exception": false,
     "start_time": "2020-10-01T12:00:41.477422",
     "status": "completed"
    },
    "tags": []
   },
   "outputs": [
    {
     "data": {
      "text/html": [
       "<div>\n",
       "<style scoped>\n",
       "    .dataframe tbody tr th:only-of-type {\n",
       "        vertical-align: middle;\n",
       "    }\n",
       "\n",
       "    .dataframe tbody tr th {\n",
       "        vertical-align: top;\n",
       "    }\n",
       "\n",
       "    .dataframe thead th {\n",
       "        text-align: right;\n",
       "    }\n",
       "</style>\n",
       "<table border=\"1\" class=\"dataframe\">\n",
       "  <thead>\n",
       "    <tr style=\"text-align: right;\">\n",
       "      <th></th>\n",
       "      <th>form_field1</th>\n",
       "      <th>form_field2</th>\n",
       "      <th>form_field3</th>\n",
       "      <th>form_field4</th>\n",
       "      <th>form_field5</th>\n",
       "      <th>form_field6</th>\n",
       "      <th>form_field7</th>\n",
       "      <th>form_field8</th>\n",
       "      <th>form_field9</th>\n",
       "      <th>form_field10</th>\n",
       "      <th>...</th>\n",
       "      <th>form_field41</th>\n",
       "      <th>form_field42</th>\n",
       "      <th>form_field43</th>\n",
       "      <th>form_field44</th>\n",
       "      <th>form_field45</th>\n",
       "      <th>form_field46</th>\n",
       "      <th>form_field47</th>\n",
       "      <th>form_field48</th>\n",
       "      <th>form_field49</th>\n",
       "      <th>form_field50</th>\n",
       "    </tr>\n",
       "    <tr>\n",
       "      <th>Applicant_ID</th>\n",
       "      <th></th>\n",
       "      <th></th>\n",
       "      <th></th>\n",
       "      <th></th>\n",
       "      <th></th>\n",
       "      <th></th>\n",
       "      <th></th>\n",
       "      <th></th>\n",
       "      <th></th>\n",
       "      <th></th>\n",
       "      <th></th>\n",
       "      <th></th>\n",
       "      <th></th>\n",
       "      <th></th>\n",
       "      <th></th>\n",
       "      <th></th>\n",
       "      <th></th>\n",
       "      <th></th>\n",
       "      <th></th>\n",
       "      <th></th>\n",
       "      <th></th>\n",
       "    </tr>\n",
       "  </thead>\n",
       "  <tbody>\n",
       "    <tr>\n",
       "      <th>Apcnt_1000032</th>\n",
       "      <td>3236.0</td>\n",
       "      <td>0.34875</td>\n",
       "      <td>10.2006</td>\n",
       "      <td>0.0000</td>\n",
       "      <td>0.0</td>\n",
       "      <td>418564.0</td>\n",
       "      <td>418564.0</td>\n",
       "      <td>418564.0</td>\n",
       "      <td>540710.0</td>\n",
       "      <td>0.0</td>\n",
       "      <td>...</td>\n",
       "      <td>NaN</td>\n",
       "      <td>0.825000</td>\n",
       "      <td>1.01</td>\n",
       "      <td>0.800000</td>\n",
       "      <td>NaN</td>\n",
       "      <td>0.0</td>\n",
       "      <td>charge</td>\n",
       "      <td>NaN</td>\n",
       "      <td>0.000000</td>\n",
       "      <td>0.011221</td>\n",
       "    </tr>\n",
       "    <tr>\n",
       "      <th>Apcnt_1000048</th>\n",
       "      <td>3284.0</td>\n",
       "      <td>1.27360</td>\n",
       "      <td>2.9606</td>\n",
       "      <td>9.0198</td>\n",
       "      <td>0.0</td>\n",
       "      <td>0.0</td>\n",
       "      <td>9858816.0</td>\n",
       "      <td>49014.0</td>\n",
       "      <td>1510098.0</td>\n",
       "      <td>18308285.0</td>\n",
       "      <td>...</td>\n",
       "      <td>18.8415</td>\n",
       "      <td>0.507694</td>\n",
       "      <td>4.04</td>\n",
       "      <td>0.623248</td>\n",
       "      <td>1.0</td>\n",
       "      <td>0.0</td>\n",
       "      <td>lending</td>\n",
       "      <td>NaN</td>\n",
       "      <td>0.504974</td>\n",
       "      <td>0.043525</td>\n",
       "    </tr>\n",
       "  </tbody>\n",
       "</table>\n",
       "<p>2 rows × 50 columns</p>\n",
       "</div>"
      ],
      "text/plain": [
       "               form_field1  form_field2  form_field3  form_field4  \\\n",
       "Applicant_ID                                                        \n",
       "Apcnt_1000032       3236.0      0.34875      10.2006       0.0000   \n",
       "Apcnt_1000048       3284.0      1.27360       2.9606       9.0198   \n",
       "\n",
       "               form_field5  form_field6  form_field7  form_field8  \\\n",
       "Applicant_ID                                                        \n",
       "Apcnt_1000032          0.0     418564.0     418564.0     418564.0   \n",
       "Apcnt_1000048          0.0          0.0    9858816.0      49014.0   \n",
       "\n",
       "               form_field9  form_field10  ...  form_field41  form_field42  \\\n",
       "Applicant_ID                              ...                               \n",
       "Apcnt_1000032     540710.0           0.0  ...           NaN      0.825000   \n",
       "Apcnt_1000048    1510098.0    18308285.0  ...       18.8415      0.507694   \n",
       "\n",
       "               form_field43  form_field44  form_field45  form_field46  \\\n",
       "Applicant_ID                                                            \n",
       "Apcnt_1000032          1.01      0.800000           NaN           0.0   \n",
       "Apcnt_1000048          4.04      0.623248           1.0           0.0   \n",
       "\n",
       "               form_field47  form_field48  form_field49  form_field50  \n",
       "Applicant_ID                                                           \n",
       "Apcnt_1000032        charge           NaN      0.000000      0.011221  \n",
       "Apcnt_1000048       lending           NaN      0.504974      0.043525  \n",
       "\n",
       "[2 rows x 50 columns]"
      ]
     },
     "execution_count": 3,
     "metadata": {},
     "output_type": "execute_result"
    }
   ],
   "source": [
    "test = pd.read_csv(\"../input/2020aibootacampqualifiers/Test.csv\", index_col=\"Applicant_ID\")\n",
    "\n",
    "test.head(2)"
   ]
  },
  {
   "cell_type": "markdown",
   "metadata": {
    "papermill": {
     "duration": 0.013154,
     "end_time": "2020-10-01T12:00:41.695618",
     "exception": false,
     "start_time": "2020-10-01T12:00:41.682464",
     "status": "completed"
    },
    "tags": []
   },
   "source": [
    "## Data Preprocessing"
   ]
  },
  {
   "cell_type": "markdown",
   "metadata": {
    "papermill": {
     "duration": 0.013383,
     "end_time": "2020-10-01T12:00:41.722460",
     "exception": false,
     "start_time": "2020-10-01T12:00:41.709077",
     "status": "completed"
    },
    "tags": []
   },
   "source": [
    "### Checking & Encoding Categorical Columns"
   ]
  },
  {
   "cell_type": "code",
   "execution_count": 4,
   "metadata": {
    "execution": {
     "iopub.execute_input": "2020-10-01T12:00:41.757054Z",
     "iopub.status.busy": "2020-10-01T12:00:41.756488Z",
     "iopub.status.idle": "2020-10-01T12:00:41.765904Z",
     "shell.execute_reply": "2020-10-01T12:00:41.766380Z"
    },
    "papermill": {
     "duration": 0.03001,
     "end_time": "2020-10-01T12:00:41.766515",
     "exception": false,
     "start_time": "2020-10-01T12:00:41.736505",
     "status": "completed"
    },
    "tags": []
   },
   "outputs": [],
   "source": [
    "train.default_status = train.default_status.map({'no': 0, 'yes': 1})"
   ]
  },
  {
   "cell_type": "code",
   "execution_count": 5,
   "metadata": {
    "execution": {
     "iopub.execute_input": "2020-10-01T12:00:41.796640Z",
     "iopub.status.busy": "2020-10-01T12:00:41.796082Z",
     "iopub.status.idle": "2020-10-01T12:00:41.847580Z",
     "shell.execute_reply": "2020-10-01T12:00:41.848067Z"
    },
    "papermill": {
     "duration": 0.067863,
     "end_time": "2020-10-01T12:00:41.848229",
     "exception": false,
     "start_time": "2020-10-01T12:00:41.780366",
     "status": "completed"
    },
    "tags": []
   },
   "outputs": [],
   "source": [
    "weight = 300\n",
    "global_mean = train.default_status.mean()\n",
    "\n",
    "# compute the number of values and mean of the column\n",
    "aggs = train.groupby('form_field47')['default_status'].agg(['count', 'mean'])\n",
    "counts, means = aggs['count'], aggs['mean']\n",
    "\n",
    "# compute the smoothed means\n",
    "smooth = (counts * means + weight + global_mean) / (counts + weight)\n",
    "\n",
    "train.form_field47 = train.form_field47.map(smooth)\n",
    "test.form_field47 = test.form_field47.map(smooth)"
   ]
  },
  {
   "cell_type": "markdown",
   "metadata": {
    "papermill": {
     "duration": 0.013305,
     "end_time": "2020-10-01T12:00:41.875161",
     "exception": false,
     "start_time": "2020-10-01T12:00:41.861856",
     "status": "completed"
    },
    "tags": []
   },
   "source": [
    "### Separating the Target from the predictors"
   ]
  },
  {
   "cell_type": "code",
   "execution_count": 6,
   "metadata": {
    "execution": {
     "iopub.execute_input": "2020-10-01T12:00:41.905729Z",
     "iopub.status.busy": "2020-10-01T12:00:41.905160Z",
     "iopub.status.idle": "2020-10-01T12:00:41.927277Z",
     "shell.execute_reply": "2020-10-01T12:00:41.926765Z"
    },
    "papermill": {
     "duration": 0.038538,
     "end_time": "2020-10-01T12:00:41.927573",
     "exception": false,
     "start_time": "2020-10-01T12:00:41.889035",
     "status": "completed"
    },
    "tags": []
   },
   "outputs": [
    {
     "data": {
      "text/html": [
       "<div>\n",
       "<style scoped>\n",
       "    .dataframe tbody tr th:only-of-type {\n",
       "        vertical-align: middle;\n",
       "    }\n",
       "\n",
       "    .dataframe tbody tr th {\n",
       "        vertical-align: top;\n",
       "    }\n",
       "\n",
       "    .dataframe thead th {\n",
       "        text-align: right;\n",
       "    }\n",
       "</style>\n",
       "<table border=\"1\" class=\"dataframe\">\n",
       "  <thead>\n",
       "    <tr style=\"text-align: right;\">\n",
       "      <th></th>\n",
       "      <th>form_field1</th>\n",
       "      <th>form_field2</th>\n",
       "      <th>form_field3</th>\n",
       "      <th>form_field4</th>\n",
       "      <th>form_field5</th>\n",
       "      <th>form_field6</th>\n",
       "      <th>form_field7</th>\n",
       "      <th>form_field8</th>\n",
       "      <th>form_field9</th>\n",
       "      <th>form_field10</th>\n",
       "      <th>...</th>\n",
       "      <th>form_field42</th>\n",
       "      <th>form_field43</th>\n",
       "      <th>form_field44</th>\n",
       "      <th>form_field45</th>\n",
       "      <th>form_field46</th>\n",
       "      <th>form_field47</th>\n",
       "      <th>form_field48</th>\n",
       "      <th>form_field49</th>\n",
       "      <th>form_field50</th>\n",
       "      <th>default_status</th>\n",
       "    </tr>\n",
       "    <tr>\n",
       "      <th>Applicant_ID</th>\n",
       "      <th></th>\n",
       "      <th></th>\n",
       "      <th></th>\n",
       "      <th></th>\n",
       "      <th></th>\n",
       "      <th></th>\n",
       "      <th></th>\n",
       "      <th></th>\n",
       "      <th></th>\n",
       "      <th></th>\n",
       "      <th></th>\n",
       "      <th></th>\n",
       "      <th></th>\n",
       "      <th></th>\n",
       "      <th></th>\n",
       "      <th></th>\n",
       "      <th></th>\n",
       "      <th></th>\n",
       "      <th></th>\n",
       "      <th></th>\n",
       "      <th></th>\n",
       "    </tr>\n",
       "  </thead>\n",
       "  <tbody>\n",
       "    <tr>\n",
       "      <th>Apcnt_1000000</th>\n",
       "      <td>3436.0</td>\n",
       "      <td>0.28505</td>\n",
       "      <td>1.6560</td>\n",
       "      <td>0.0</td>\n",
       "      <td>0.0</td>\n",
       "      <td>0.0</td>\n",
       "      <td>10689720.0</td>\n",
       "      <td>252072.0</td>\n",
       "      <td>4272776.0</td>\n",
       "      <td>11333126.0</td>\n",
       "      <td>...</td>\n",
       "      <td>0.392854</td>\n",
       "      <td>2.02</td>\n",
       "      <td>0.711632</td>\n",
       "      <td>0.0</td>\n",
       "      <td>0.0</td>\n",
       "      <td>0.322506</td>\n",
       "      <td>NaN</td>\n",
       "      <td>1.129518</td>\n",
       "      <td>0.044335</td>\n",
       "      <td>0</td>\n",
       "    </tr>\n",
       "    <tr>\n",
       "      <th>Apcnt_1000004</th>\n",
       "      <td>3456.0</td>\n",
       "      <td>0.67400</td>\n",
       "      <td>0.2342</td>\n",
       "      <td>0.0</td>\n",
       "      <td>0.0</td>\n",
       "      <td>0.0</td>\n",
       "      <td>898979.0</td>\n",
       "      <td>497531.0</td>\n",
       "      <td>9073814.0</td>\n",
       "      <td>2533168.0</td>\n",
       "      <td>...</td>\n",
       "      <td>0.314281</td>\n",
       "      <td>8.08</td>\n",
       "      <td>0.183584</td>\n",
       "      <td>NaN</td>\n",
       "      <td>0.0</td>\n",
       "      <td>0.322506</td>\n",
       "      <td>349.80573</td>\n",
       "      <td>1.620483</td>\n",
       "      <td>0.322436</td>\n",
       "      <td>0</td>\n",
       "    </tr>\n",
       "  </tbody>\n",
       "</table>\n",
       "<p>2 rows × 51 columns</p>\n",
       "</div>"
      ],
      "text/plain": [
       "               form_field1  form_field2  form_field3  form_field4  \\\n",
       "Applicant_ID                                                        \n",
       "Apcnt_1000000       3436.0      0.28505       1.6560          0.0   \n",
       "Apcnt_1000004       3456.0      0.67400       0.2342          0.0   \n",
       "\n",
       "               form_field5  form_field6  form_field7  form_field8  \\\n",
       "Applicant_ID                                                        \n",
       "Apcnt_1000000          0.0          0.0   10689720.0     252072.0   \n",
       "Apcnt_1000004          0.0          0.0     898979.0     497531.0   \n",
       "\n",
       "               form_field9  form_field10  ...  form_field42  form_field43  \\\n",
       "Applicant_ID                              ...                               \n",
       "Apcnt_1000000    4272776.0    11333126.0  ...      0.392854          2.02   \n",
       "Apcnt_1000004    9073814.0     2533168.0  ...      0.314281          8.08   \n",
       "\n",
       "               form_field44  form_field45  form_field46  form_field47  \\\n",
       "Applicant_ID                                                            \n",
       "Apcnt_1000000      0.711632           0.0           0.0      0.322506   \n",
       "Apcnt_1000004      0.183584           NaN           0.0      0.322506   \n",
       "\n",
       "               form_field48  form_field49  form_field50  default_status  \n",
       "Applicant_ID                                                             \n",
       "Apcnt_1000000           NaN      1.129518      0.044335               0  \n",
       "Apcnt_1000004     349.80573      1.620483      0.322436               0  \n",
       "\n",
       "[2 rows x 51 columns]"
      ]
     },
     "execution_count": 6,
     "metadata": {},
     "output_type": "execute_result"
    }
   ],
   "source": [
    "train.head(2)"
   ]
  },
  {
   "cell_type": "code",
   "execution_count": 7,
   "metadata": {
    "execution": {
     "iopub.execute_input": "2020-10-01T12:00:41.959577Z",
     "iopub.status.busy": "2020-10-01T12:00:41.959018Z",
     "iopub.status.idle": "2020-10-01T12:00:41.980570Z",
     "shell.execute_reply": "2020-10-01T12:00:41.980062Z"
    },
    "papermill": {
     "duration": 0.038625,
     "end_time": "2020-10-01T12:00:41.980683",
     "exception": false,
     "start_time": "2020-10-01T12:00:41.942058",
     "status": "completed"
    },
    "tags": []
   },
   "outputs": [
    {
     "data": {
      "text/html": [
       "<div>\n",
       "<style scoped>\n",
       "    .dataframe tbody tr th:only-of-type {\n",
       "        vertical-align: middle;\n",
       "    }\n",
       "\n",
       "    .dataframe tbody tr th {\n",
       "        vertical-align: top;\n",
       "    }\n",
       "\n",
       "    .dataframe thead th {\n",
       "        text-align: right;\n",
       "    }\n",
       "</style>\n",
       "<table border=\"1\" class=\"dataframe\">\n",
       "  <thead>\n",
       "    <tr style=\"text-align: right;\">\n",
       "      <th></th>\n",
       "      <th>form_field1</th>\n",
       "      <th>form_field2</th>\n",
       "      <th>form_field3</th>\n",
       "      <th>form_field4</th>\n",
       "      <th>form_field5</th>\n",
       "      <th>form_field6</th>\n",
       "      <th>form_field7</th>\n",
       "      <th>form_field8</th>\n",
       "      <th>form_field9</th>\n",
       "      <th>form_field10</th>\n",
       "      <th>...</th>\n",
       "      <th>form_field41</th>\n",
       "      <th>form_field42</th>\n",
       "      <th>form_field43</th>\n",
       "      <th>form_field44</th>\n",
       "      <th>form_field45</th>\n",
       "      <th>form_field46</th>\n",
       "      <th>form_field47</th>\n",
       "      <th>form_field48</th>\n",
       "      <th>form_field49</th>\n",
       "      <th>form_field50</th>\n",
       "    </tr>\n",
       "    <tr>\n",
       "      <th>Applicant_ID</th>\n",
       "      <th></th>\n",
       "      <th></th>\n",
       "      <th></th>\n",
       "      <th></th>\n",
       "      <th></th>\n",
       "      <th></th>\n",
       "      <th></th>\n",
       "      <th></th>\n",
       "      <th></th>\n",
       "      <th></th>\n",
       "      <th></th>\n",
       "      <th></th>\n",
       "      <th></th>\n",
       "      <th></th>\n",
       "      <th></th>\n",
       "      <th></th>\n",
       "      <th></th>\n",
       "      <th></th>\n",
       "      <th></th>\n",
       "      <th></th>\n",
       "      <th></th>\n",
       "    </tr>\n",
       "  </thead>\n",
       "  <tbody>\n",
       "    <tr>\n",
       "      <th>Apcnt_1000000</th>\n",
       "      <td>3436.0</td>\n",
       "      <td>0.28505</td>\n",
       "      <td>1.6560</td>\n",
       "      <td>0.0</td>\n",
       "      <td>0.0</td>\n",
       "      <td>0.0</td>\n",
       "      <td>10689720.0</td>\n",
       "      <td>252072.0</td>\n",
       "      <td>4272776.0</td>\n",
       "      <td>11333126.0</td>\n",
       "      <td>...</td>\n",
       "      <td>NaN</td>\n",
       "      <td>0.392854</td>\n",
       "      <td>2.02</td>\n",
       "      <td>0.711632</td>\n",
       "      <td>0.0</td>\n",
       "      <td>0.0</td>\n",
       "      <td>0.322506</td>\n",
       "      <td>NaN</td>\n",
       "      <td>1.129518</td>\n",
       "      <td>0.044335</td>\n",
       "    </tr>\n",
       "    <tr>\n",
       "      <th>Apcnt_1000004</th>\n",
       "      <td>3456.0</td>\n",
       "      <td>0.67400</td>\n",
       "      <td>0.2342</td>\n",
       "      <td>0.0</td>\n",
       "      <td>0.0</td>\n",
       "      <td>0.0</td>\n",
       "      <td>898979.0</td>\n",
       "      <td>497531.0</td>\n",
       "      <td>9073814.0</td>\n",
       "      <td>2533168.0</td>\n",
       "      <td>...</td>\n",
       "      <td>NaN</td>\n",
       "      <td>0.314281</td>\n",
       "      <td>8.08</td>\n",
       "      <td>0.183584</td>\n",
       "      <td>NaN</td>\n",
       "      <td>0.0</td>\n",
       "      <td>0.322506</td>\n",
       "      <td>349.80573</td>\n",
       "      <td>1.620483</td>\n",
       "      <td>0.322436</td>\n",
       "    </tr>\n",
       "  </tbody>\n",
       "</table>\n",
       "<p>2 rows × 50 columns</p>\n",
       "</div>"
      ],
      "text/plain": [
       "               form_field1  form_field2  form_field3  form_field4  \\\n",
       "Applicant_ID                                                        \n",
       "Apcnt_1000000       3436.0      0.28505       1.6560          0.0   \n",
       "Apcnt_1000004       3456.0      0.67400       0.2342          0.0   \n",
       "\n",
       "               form_field5  form_field6  form_field7  form_field8  \\\n",
       "Applicant_ID                                                        \n",
       "Apcnt_1000000          0.0          0.0   10689720.0     252072.0   \n",
       "Apcnt_1000004          0.0          0.0     898979.0     497531.0   \n",
       "\n",
       "               form_field9  form_field10  ...  form_field41  form_field42  \\\n",
       "Applicant_ID                              ...                               \n",
       "Apcnt_1000000    4272776.0    11333126.0  ...           NaN      0.392854   \n",
       "Apcnt_1000004    9073814.0     2533168.0  ...           NaN      0.314281   \n",
       "\n",
       "               form_field43  form_field44  form_field45  form_field46  \\\n",
       "Applicant_ID                                                            \n",
       "Apcnt_1000000          2.02      0.711632           0.0           0.0   \n",
       "Apcnt_1000004          8.08      0.183584           NaN           0.0   \n",
       "\n",
       "               form_field47  form_field48  form_field49  form_field50  \n",
       "Applicant_ID                                                           \n",
       "Apcnt_1000000      0.322506           NaN      1.129518      0.044335  \n",
       "Apcnt_1000004      0.322506     349.80573      1.620483      0.322436  \n",
       "\n",
       "[2 rows x 50 columns]"
      ]
     },
     "execution_count": 7,
     "metadata": {},
     "output_type": "execute_result"
    }
   ],
   "source": [
    "y = train.pop(\"default_status\")\n",
    "\n",
    "train.head(2)"
   ]
  },
  {
   "cell_type": "markdown",
   "metadata": {
    "papermill": {
     "duration": 0.014374,
     "end_time": "2020-10-01T12:00:42.009590",
     "exception": false,
     "start_time": "2020-10-01T12:00:41.995216",
     "status": "completed"
    },
    "tags": []
   },
   "source": [
    "### Handling Missing Values"
   ]
  },
  {
   "cell_type": "code",
   "execution_count": 8,
   "metadata": {
    "execution": {
     "iopub.execute_input": "2020-10-01T12:00:42.043707Z",
     "iopub.status.busy": "2020-10-01T12:00:42.043106Z",
     "iopub.status.idle": "2020-10-01T12:00:42.316561Z",
     "shell.execute_reply": "2020-10-01T12:00:42.315640Z"
    },
    "papermill": {
     "duration": 0.292379,
     "end_time": "2020-10-01T12:00:42.316758",
     "exception": false,
     "start_time": "2020-10-01T12:00:42.024379",
     "status": "completed"
    },
    "tags": []
   },
   "outputs": [],
   "source": [
    "from sklearn.impute import SimpleImputer\n",
    "\n",
    "zero_imputer = SimpleImputer(strategy='constant', add_indicator=True)\n",
    "constant_imputer = SimpleImputer(strategy='constant', fill_value=-999)"
   ]
  },
  {
   "cell_type": "code",
   "execution_count": 9,
   "metadata": {
    "execution": {
     "iopub.execute_input": "2020-10-01T12:00:42.357777Z",
     "iopub.status.busy": "2020-10-01T12:00:42.357145Z",
     "iopub.status.idle": "2020-10-01T12:00:42.527549Z",
     "shell.execute_reply": "2020-10-01T12:00:42.528108Z"
    },
    "papermill": {
     "duration": 0.191663,
     "end_time": "2020-10-01T12:00:42.528265",
     "exception": false,
     "start_time": "2020-10-01T12:00:42.336602",
     "status": "completed"
    },
    "tags": []
   },
   "outputs": [],
   "source": [
    "imputed_train = zero_imputer.fit_transform(train)\n",
    "imputed_test = zero_imputer.transform(test)"
   ]
  },
  {
   "cell_type": "markdown",
   "metadata": {
    "papermill": {
     "duration": 0.014497,
     "end_time": "2020-10-01T12:00:42.558125",
     "exception": false,
     "start_time": "2020-10-01T12:00:42.543628",
     "status": "completed"
    },
    "tags": []
   },
   "source": [
    "## Scaling the data"
   ]
  },
  {
   "cell_type": "code",
   "execution_count": 10,
   "metadata": {
    "execution": {
     "iopub.execute_input": "2020-10-01T12:00:42.592324Z",
     "iopub.status.busy": "2020-10-01T12:00:42.591778Z",
     "iopub.status.idle": "2020-10-01T12:00:42.594968Z",
     "shell.execute_reply": "2020-10-01T12:00:42.594465Z"
    },
    "papermill": {
     "duration": 0.021745,
     "end_time": "2020-10-01T12:00:42.595063",
     "exception": false,
     "start_time": "2020-10-01T12:00:42.573318",
     "status": "completed"
    },
    "tags": []
   },
   "outputs": [],
   "source": [
    "from sklearn.preprocessing import MinMaxScaler"
   ]
  },
  {
   "cell_type": "code",
   "execution_count": 11,
   "metadata": {
    "execution": {
     "iopub.execute_input": "2020-10-01T12:00:42.629119Z",
     "iopub.status.busy": "2020-10-01T12:00:42.628603Z",
     "iopub.status.idle": "2020-10-01T12:00:42.693788Z",
     "shell.execute_reply": "2020-10-01T12:00:42.693131Z"
    },
    "papermill": {
     "duration": 0.084093,
     "end_time": "2020-10-01T12:00:42.693898",
     "exception": false,
     "start_time": "2020-10-01T12:00:42.609805",
     "status": "completed"
    },
    "tags": []
   },
   "outputs": [],
   "source": [
    "scaler_mm = MinMaxScaler()\n",
    "\n",
    "scaled_train = pd.DataFrame(scaler_mm.fit_transform(imputed_train))\n",
    "scaled_test = pd.DataFrame(scaler_mm.transform(imputed_test))"
   ]
  },
  {
   "cell_type": "markdown",
   "metadata": {
    "papermill": {
     "duration": 0.014588,
     "end_time": "2020-10-01T12:00:42.724027",
     "exception": false,
     "start_time": "2020-10-01T12:00:42.709439",
     "status": "completed"
    },
    "tags": []
   },
   "source": [
    "## Modelling"
   ]
  },
  {
   "cell_type": "markdown",
   "metadata": {
    "papermill": {
     "duration": 0.014948,
     "end_time": "2020-10-01T12:00:42.753847",
     "exception": false,
     "start_time": "2020-10-01T12:00:42.738899",
     "status": "completed"
    },
    "tags": []
   },
   "source": [
    "### Local Validation"
   ]
  },
  {
   "cell_type": "code",
   "execution_count": 12,
   "metadata": {
    "execution": {
     "iopub.execute_input": "2020-10-01T12:00:42.788672Z",
     "iopub.status.busy": "2020-10-01T12:00:42.788082Z",
     "iopub.status.idle": "2020-10-01T12:00:43.804783Z",
     "shell.execute_reply": "2020-10-01T12:00:43.805201Z"
    },
    "papermill": {
     "duration": 1.036733,
     "end_time": "2020-10-01T12:00:43.805397",
     "exception": false,
     "start_time": "2020-10-01T12:00:42.768664",
     "status": "completed"
    },
    "tags": []
   },
   "outputs": [],
   "source": [
    "from sklearn.model_selection import RepeatedStratifiedKFold\n",
    "from sklearn.metrics import roc_auc_score\n",
    "from sklearn.ensemble import VotingClassifier\n",
    "from lightgbm import LGBMClassifier\n",
    "from catboost import CatBoostClassifier\n",
    "from rgf.sklearn import RGFClassifier"
   ]
  },
  {
   "cell_type": "code",
   "execution_count": 13,
   "metadata": {
    "execution": {
     "iopub.execute_input": "2020-10-01T12:00:43.838762Z",
     "iopub.status.busy": "2020-10-01T12:00:43.838160Z",
     "iopub.status.idle": "2020-10-01T12:00:43.846108Z",
     "shell.execute_reply": "2020-10-01T12:00:43.846572Z"
    },
    "papermill": {
     "duration": 0.026129,
     "end_time": "2020-10-01T12:00:43.846707",
     "exception": false,
     "start_time": "2020-10-01T12:00:43.820578",
     "status": "completed"
    },
    "tags": []
   },
   "outputs": [],
   "source": [
    "def skf(model):\n",
    "    kf = RepeatedStratifiedKFold(n_splits=25, n_repeats=3, random_state=99)\n",
    "    local_validation = []\n",
    "    test_predictions = []\n",
    "\n",
    "    for i, (train_index, val_index) in enumerate(kf.split(scaled_train, y)):\n",
    "        cv_train, cv_val = scaled_train.iloc[train_index], scaled_train.iloc[val_index]\n",
    "        y_train, y_val = y.iloc[train_index], y.iloc[val_index]\n",
    "\n",
    "        model.fit(cv_train, y_train)\n",
    "        y_pred = model.predict_proba(cv_val)[:, 1]\n",
    "        auc_score = roc_auc_score(y_val, y_pred)\n",
    "        local_validation.append(auc_score)\n",
    "        print(\"*\" * 73 + \"\\nFold\" + str(i) + \": \" + str(auc_score))\n",
    "\n",
    "        test_pred = model.predict_proba(scaled_test)[:, 1]\n",
    "        test_predictions.append(test_pred)\n",
    "        \n",
    "    print(\"AUC mean score: \", np.mean(local_validation))\n",
    "    return np.mean(test_predictions, axis=0)"
   ]
  },
  {
   "cell_type": "code",
   "execution_count": 14,
   "metadata": {
    "execution": {
     "iopub.execute_input": "2020-10-01T12:00:43.879782Z",
     "iopub.status.busy": "2020-10-01T12:00:43.879265Z",
     "iopub.status.idle": "2020-10-01T12:00:43.883140Z",
     "shell.execute_reply": "2020-10-01T12:00:43.883606Z"
    },
    "papermill": {
     "duration": 0.021824,
     "end_time": "2020-10-01T12:00:43.883738",
     "exception": false,
     "start_time": "2020-10-01T12:00:43.861914",
     "status": "completed"
    },
    "tags": []
   },
   "outputs": [],
   "source": [
    "cat_params = {\n",
    "    'n_estimators': 2500,\n",
    "    'learning_rate': 0.01,\n",
    "    'max_depth': 8,\n",
    "    'objective': 'CrossEntropy',\n",
    "    'random_seed': 3500,\n",
    "    'thread_count': -1,\n",
    "}"
   ]
  },
  {
   "cell_type": "code",
   "execution_count": 15,
   "metadata": {
    "execution": {
     "iopub.execute_input": "2020-10-01T12:00:43.921547Z",
     "iopub.status.busy": "2020-10-01T12:00:43.917643Z",
     "iopub.status.idle": "2020-10-01T12:00:44.054547Z",
     "shell.execute_reply": "2020-10-01T12:00:44.053951Z"
    },
    "papermill": {
     "duration": 0.155652,
     "end_time": "2020-10-01T12:00:44.054688",
     "exception": false,
     "start_time": "2020-10-01T12:00:43.899036",
     "status": "completed"
    },
    "tags": []
   },
   "outputs": [],
   "source": [
    "model1 = CatBoostClassifier(**cat_params)\n",
    "model2 = CatBoostClassifier(verbose=False, thread_count=-1, random_state=999)\n",
    "model3 = LGBMClassifier(boosting_type='dart', n_estimators=800, subsample_freq=20, colsample_bytree=.8, n_jobs=-1, random_state=999)\n",
    "model4 = RGFClassifier(max_leaf=1500)"
   ]
  },
  {
   "cell_type": "code",
   "execution_count": 16,
   "metadata": {
    "execution": {
     "iopub.execute_input": "2020-10-01T12:00:44.094289Z",
     "iopub.status.busy": "2020-10-01T12:00:44.093719Z",
     "iopub.status.idle": "2020-10-01T16:25:09.642308Z",
     "shell.execute_reply": "2020-10-01T16:25:09.641737Z"
    },
    "papermill": {
     "duration": 15865.571164,
     "end_time": "2020-10-01T16:25:09.642464",
     "exception": false,
     "start_time": "2020-10-01T12:00:44.071300",
     "status": "completed"
    },
    "scrolled": false,
    "tags": []
   },
   "outputs": [
    {
     "name": "stdout",
     "output_type": "stream",
     "text": [
      "*************************************************************************\n",
      "Fold0: 0.8494277493054476\n",
      "*************************************************************************\n",
      "Fold1: 0.8447222653621165\n",
      "*************************************************************************\n",
      "Fold2: 0.8381854929164293\n",
      "*************************************************************************\n",
      "Fold3: 0.8384939431588756\n",
      "*************************************************************************\n",
      "Fold4: 0.8578777760521821\n",
      "*************************************************************************\n",
      "Fold5: 0.8522415488947559\n",
      "*************************************************************************\n",
      "Fold6: 0.8391658470086798\n",
      "*************************************************************************\n",
      "Fold7: 0.822357465790064\n",
      "*************************************************************************\n",
      "Fold8: 0.8451817052337318\n",
      "*************************************************************************\n",
      "Fold9: 0.8530752273472416\n",
      "*************************************************************************\n",
      "Fold10: 0.8469277510101157\n",
      "*************************************************************************\n",
      "Fold11: 0.8412392188797654\n",
      "*************************************************************************\n",
      "Fold12: 0.8357973585649517\n",
      "*************************************************************************\n",
      "Fold13: 0.8510737764162355\n",
      "*************************************************************************\n",
      "Fold14: 0.8389071469119166\n",
      "*************************************************************************\n",
      "Fold15: 0.8319324743983739\n",
      "*************************************************************************\n",
      "Fold16: 0.8377319549872408\n",
      "*************************************************************************\n",
      "Fold17: 0.8358609115654613\n",
      "*************************************************************************\n",
      "Fold18: 0.8408288173002039\n",
      "*************************************************************************\n",
      "Fold19: 0.8476569947617246\n",
      "*************************************************************************\n",
      "Fold20: 0.8469255966711152\n",
      "*************************************************************************\n",
      "Fold21: 0.845424022387891\n",
      "*************************************************************************\n",
      "Fold22: 0.8380454113117877\n",
      "*************************************************************************\n",
      "Fold23: 0.8307939062367038\n",
      "*************************************************************************\n",
      "Fold24: 0.840146969006602\n",
      "*************************************************************************\n",
      "Fold25: 0.8358181912305223\n",
      "*************************************************************************\n",
      "Fold26: 0.8381380390329761\n",
      "*************************************************************************\n",
      "Fold27: 0.837188961363911\n",
      "*************************************************************************\n",
      "Fold28: 0.8370207157771221\n",
      "*************************************************************************\n",
      "Fold29: 0.8514348328760506\n",
      "*************************************************************************\n",
      "Fold30: 0.8484883781125434\n",
      "*************************************************************************\n",
      "Fold31: 0.8389188711152525\n",
      "*************************************************************************\n",
      "Fold32: 0.8233852737657676\n",
      "*************************************************************************\n",
      "Fold33: 0.8572511690911288\n",
      "*************************************************************************\n",
      "Fold34: 0.8412926437852668\n",
      "*************************************************************************\n",
      "Fold35: 0.8335945469371223\n",
      "*************************************************************************\n",
      "Fold36: 0.8501355617815953\n",
      "*************************************************************************\n",
      "Fold37: 0.8400090913105814\n",
      "*************************************************************************\n",
      "Fold38: 0.8502325070366097\n",
      "*************************************************************************\n",
      "Fold39: 0.8528812668375056\n",
      "*************************************************************************\n",
      "Fold40: 0.8299978779760847\n",
      "*************************************************************************\n",
      "Fold41: 0.8467414006865879\n",
      "*************************************************************************\n",
      "Fold42: 0.8443446985487294\n",
      "*************************************************************************\n",
      "Fold43: 0.8339866366351811\n",
      "*************************************************************************\n",
      "Fold44: 0.8377879678012494\n",
      "*************************************************************************\n",
      "Fold45: 0.8449080581973136\n",
      "*************************************************************************\n",
      "Fold46: 0.8455694402704128\n",
      "*************************************************************************\n",
      "Fold47: 0.8420772567508906\n",
      "*************************************************************************\n",
      "Fold48: 0.8371599779826555\n",
      "*************************************************************************\n",
      "Fold49: 0.8475999047782161\n",
      "*************************************************************************\n",
      "Fold50: 0.8409432106434747\n",
      "*************************************************************************\n",
      "Fold51: 0.8525111732325585\n",
      "*************************************************************************\n",
      "Fold52: 0.8456217321530258\n",
      "*************************************************************************\n",
      "Fold53: 0.8406865282738866\n",
      "*************************************************************************\n",
      "Fold54: 0.8545139428137564\n",
      "*************************************************************************\n",
      "Fold55: 0.8276054339010543\n",
      "*************************************************************************\n",
      "Fold56: 0.8469730893340925\n",
      "*************************************************************************\n",
      "Fold57: 0.839289874204069\n",
      "*************************************************************************\n",
      "Fold58: 0.8365202930061604\n",
      "*************************************************************************\n",
      "Fold59: 0.8397126451657434\n",
      "*************************************************************************\n",
      "Fold60: 0.8343862665197408\n",
      "*************************************************************************\n",
      "Fold61: 0.8206168087991823\n",
      "*************************************************************************\n",
      "Fold62: 0.8454735721848984\n",
      "*************************************************************************\n",
      "Fold63: 0.8417034789343346\n",
      "*************************************************************************\n",
      "Fold64: 0.8532044176875542\n",
      "*************************************************************************\n",
      "Fold65: 0.8588918726484043\n",
      "*************************************************************************\n",
      "Fold66: 0.8358986124979667\n",
      "*************************************************************************\n",
      "Fold67: 0.839953078496573\n",
      "*************************************************************************\n",
      "Fold68: 0.8376705563257317\n",
      "*************************************************************************\n",
      "Fold69: 0.8513527633167772\n",
      "*************************************************************************\n",
      "Fold70: 0.8337916689556519\n",
      "*************************************************************************\n",
      "Fold71: 0.8381197360072988\n",
      "*************************************************************************\n",
      "Fold72: 0.8445332032112576\n",
      "*************************************************************************\n",
      "Fold73: 0.8400500237515874\n",
      "*************************************************************************\n",
      "Fold74: 0.8477259336097351\n",
      "AUC mean score:  0.8419164602244721\n"
     ]
    }
   ],
   "source": [
    "clf = VotingClassifier(estimators=[('cat_1', model1), \n",
    "                                   ('cat_2', model2),\n",
    "                                   ('lgbm', model3), \n",
    "                                   ('rgf', model4)], \n",
    "                       voting='soft', \n",
    "                       n_jobs=-1, \n",
    "                       verbose=True)\n",
    "\n",
    "test_pred = skf(clf)"
   ]
  },
  {
   "cell_type": "markdown",
   "metadata": {
    "papermill": {
     "duration": 0.033497,
     "end_time": "2020-10-01T16:25:09.709385",
     "exception": false,
     "start_time": "2020-10-01T16:25:09.675888",
     "status": "completed"
    },
    "tags": []
   },
   "source": [
    "### Final Steps"
   ]
  },
  {
   "cell_type": "code",
   "execution_count": 17,
   "metadata": {
    "execution": {
     "iopub.execute_input": "2020-10-01T16:25:09.785834Z",
     "iopub.status.busy": "2020-10-01T16:25:09.785228Z",
     "iopub.status.idle": "2020-10-01T16:25:09.806383Z",
     "shell.execute_reply": "2020-10-01T16:25:09.805767Z"
    },
    "papermill": {
     "duration": 0.064056,
     "end_time": "2020-10-01T16:25:09.806560",
     "exception": false,
     "start_time": "2020-10-01T16:25:09.742504",
     "status": "completed"
    },
    "tags": []
   },
   "outputs": [],
   "source": [
    "submission = pd.read_csv(\"../input/2020aibootacampqualifiers/SampleSubmission.csv\")"
   ]
  },
  {
   "cell_type": "code",
   "execution_count": 18,
   "metadata": {
    "execution": {
     "iopub.execute_input": "2020-10-01T16:25:09.879720Z",
     "iopub.status.busy": "2020-10-01T16:25:09.879056Z",
     "iopub.status.idle": "2020-10-01T16:25:10.213675Z",
     "shell.execute_reply": "2020-10-01T16:25:10.212633Z"
    },
    "papermill": {
     "duration": 0.373503,
     "end_time": "2020-10-01T16:25:10.213812",
     "exception": false,
     "start_time": "2020-10-01T16:25:09.840309",
     "status": "completed"
    },
    "tags": []
   },
   "outputs": [],
   "source": [
    "submission.default_status = test_pred\n",
    "submission.to_csv(\"sub_strat2\", index=False)"
   ]
  },
  {
   "cell_type": "code",
   "execution_count": 19,
   "metadata": {
    "execution": {
     "iopub.execute_input": "2020-10-01T16:25:10.292655Z",
     "iopub.status.busy": "2020-10-01T16:25:10.292070Z",
     "iopub.status.idle": "2020-10-01T16:25:10.295529Z",
     "shell.execute_reply": "2020-10-01T16:25:10.294993Z"
    },
    "papermill": {
     "duration": 0.049191,
     "end_time": "2020-10-01T16:25:10.295634",
     "exception": false,
     "start_time": "2020-10-01T16:25:10.246443",
     "status": "completed"
    },
    "tags": []
   },
   "outputs": [
    {
     "data": {
      "text/html": [
       "<div>\n",
       "<style scoped>\n",
       "    .dataframe tbody tr th:only-of-type {\n",
       "        vertical-align: middle;\n",
       "    }\n",
       "\n",
       "    .dataframe tbody tr th {\n",
       "        vertical-align: top;\n",
       "    }\n",
       "\n",
       "    .dataframe thead th {\n",
       "        text-align: right;\n",
       "    }\n",
       "</style>\n",
       "<table border=\"1\" class=\"dataframe\">\n",
       "  <thead>\n",
       "    <tr style=\"text-align: right;\">\n",
       "      <th></th>\n",
       "      <th>Applicant_ID</th>\n",
       "      <th>default_status</th>\n",
       "    </tr>\n",
       "  </thead>\n",
       "  <tbody>\n",
       "    <tr>\n",
       "      <th>0</th>\n",
       "      <td>Apcnt_1000032</td>\n",
       "      <td>0.304892</td>\n",
       "    </tr>\n",
       "    <tr>\n",
       "      <th>1</th>\n",
       "      <td>Apcnt_1000048</td>\n",
       "      <td>0.344676</td>\n",
       "    </tr>\n",
       "  </tbody>\n",
       "</table>\n",
       "</div>"
      ],
      "text/plain": [
       "    Applicant_ID  default_status\n",
       "0  Apcnt_1000032        0.304892\n",
       "1  Apcnt_1000048        0.344676"
      ]
     },
     "execution_count": 19,
     "metadata": {},
     "output_type": "execute_result"
    }
   ],
   "source": [
    "submission.head(2)"
   ]
  },
  {
   "cell_type": "code",
   "execution_count": null,
   "metadata": {
    "papermill": {
     "duration": 0.03286,
     "end_time": "2020-10-01T16:25:10.361598",
     "exception": false,
     "start_time": "2020-10-01T16:25:10.328738",
     "status": "completed"
    },
    "tags": []
   },
   "outputs": [],
   "source": []
  },
  {
   "cell_type": "code",
   "execution_count": null,
   "metadata": {
    "papermill": {
     "duration": 0.03283,
     "end_time": "2020-10-01T16:25:10.427610",
     "exception": false,
     "start_time": "2020-10-01T16:25:10.394780",
     "status": "completed"
    },
    "tags": []
   },
   "outputs": [],
   "source": []
  }
 ],
 "metadata": {
  "kernelspec": {
   "display_name": "Python 3",
   "language": "python",
   "name": "python3"
  },
  "language_info": {
   "codemirror_mode": {
    "name": "ipython",
    "version": 3
   },
   "file_extension": ".py",
   "mimetype": "text/x-python",
   "name": "python",
   "nbconvert_exporter": "python",
   "pygments_lexer": "ipython3",
   "version": "3.8.3"
  },
  "papermill": {
   "duration": 15874.735364,
   "end_time": "2020-10-01T16:25:10.568825",
   "environment_variables": {},
   "exception": null,
   "input_path": "__notebook__.ipynb",
   "output_path": "__notebook__.ipynb",
   "parameters": {},
   "start_time": "2020-10-01T12:00:35.833461",
   "version": "2.1.0"
  }
 },
 "nbformat": 4,
 "nbformat_minor": 4
}
