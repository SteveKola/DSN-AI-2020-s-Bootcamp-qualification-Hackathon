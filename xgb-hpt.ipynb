{
 "cells": [
  {
   "cell_type": "markdown",
   "metadata": {
    "papermill": {
     "duration": 0.02707,
     "end_time": "2020-10-01T05:54:59.005588",
     "exception": false,
     "start_time": "2020-10-01T05:54:58.978518",
     "status": "completed"
    },
    "tags": []
   },
   "source": [
    "## Setup and Loading Data"
   ]
  },
  {
   "cell_type": "code",
   "execution_count": 1,
   "metadata": {
    "execution": {
     "iopub.execute_input": "2020-10-01T05:54:59.065283Z",
     "iopub.status.busy": "2020-10-01T05:54:59.064337Z",
     "iopub.status.idle": "2020-10-01T05:55:00.176266Z",
     "shell.execute_reply": "2020-10-01T05:55:00.175377Z"
    },
    "papermill": {
     "duration": 1.1439,
     "end_time": "2020-10-01T05:55:00.176405",
     "exception": false,
     "start_time": "2020-10-01T05:54:59.032505",
     "status": "completed"
    },
    "tags": []
   },
   "outputs": [],
   "source": [
    "import numpy as np\n",
    "import pandas as pd\n",
    "\n",
    "import matplotlib.pyplot as plt\n",
    "import seaborn as sns\n",
    "plt.style.use('ggplot')"
   ]
  },
  {
   "cell_type": "code",
   "execution_count": 2,
   "metadata": {
    "execution": {
     "iopub.execute_input": "2020-10-01T05:55:00.242048Z",
     "iopub.status.busy": "2020-10-01T05:55:00.241191Z",
     "iopub.status.idle": "2020-10-01T05:55:00.781485Z",
     "shell.execute_reply": "2020-10-01T05:55:00.782085Z"
    },
    "papermill": {
     "duration": 0.578383,
     "end_time": "2020-10-01T05:55:00.782273",
     "exception": false,
     "start_time": "2020-10-01T05:55:00.203890",
     "status": "completed"
    },
    "tags": []
   },
   "outputs": [
    {
     "data": {
      "text/html": [
       "<div>\n",
       "<style scoped>\n",
       "    .dataframe tbody tr th:only-of-type {\n",
       "        vertical-align: middle;\n",
       "    }\n",
       "\n",
       "    .dataframe tbody tr th {\n",
       "        vertical-align: top;\n",
       "    }\n",
       "\n",
       "    .dataframe thead th {\n",
       "        text-align: right;\n",
       "    }\n",
       "</style>\n",
       "<table border=\"1\" class=\"dataframe\">\n",
       "  <thead>\n",
       "    <tr style=\"text-align: right;\">\n",
       "      <th></th>\n",
       "      <th>form_field1</th>\n",
       "      <th>form_field2</th>\n",
       "      <th>form_field3</th>\n",
       "      <th>form_field4</th>\n",
       "      <th>form_field5</th>\n",
       "      <th>form_field6</th>\n",
       "      <th>form_field7</th>\n",
       "      <th>form_field8</th>\n",
       "      <th>form_field9</th>\n",
       "      <th>form_field10</th>\n",
       "      <th>...</th>\n",
       "      <th>form_field42</th>\n",
       "      <th>form_field43</th>\n",
       "      <th>form_field44</th>\n",
       "      <th>form_field45</th>\n",
       "      <th>form_field46</th>\n",
       "      <th>form_field47</th>\n",
       "      <th>form_field48</th>\n",
       "      <th>form_field49</th>\n",
       "      <th>form_field50</th>\n",
       "      <th>default_status</th>\n",
       "    </tr>\n",
       "    <tr>\n",
       "      <th>Applicant_ID</th>\n",
       "      <th></th>\n",
       "      <th></th>\n",
       "      <th></th>\n",
       "      <th></th>\n",
       "      <th></th>\n",
       "      <th></th>\n",
       "      <th></th>\n",
       "      <th></th>\n",
       "      <th></th>\n",
       "      <th></th>\n",
       "      <th></th>\n",
       "      <th></th>\n",
       "      <th></th>\n",
       "      <th></th>\n",
       "      <th></th>\n",
       "      <th></th>\n",
       "      <th></th>\n",
       "      <th></th>\n",
       "      <th></th>\n",
       "      <th></th>\n",
       "      <th></th>\n",
       "    </tr>\n",
       "  </thead>\n",
       "  <tbody>\n",
       "    <tr>\n",
       "      <th>Apcnt_1000000</th>\n",
       "      <td>3436.0</td>\n",
       "      <td>0.28505</td>\n",
       "      <td>1.6560</td>\n",
       "      <td>0.0</td>\n",
       "      <td>0.0</td>\n",
       "      <td>0.0</td>\n",
       "      <td>10689720.0</td>\n",
       "      <td>252072.0</td>\n",
       "      <td>4272776.0</td>\n",
       "      <td>11333126.0</td>\n",
       "      <td>...</td>\n",
       "      <td>0.392854</td>\n",
       "      <td>2.02</td>\n",
       "      <td>0.711632</td>\n",
       "      <td>0.0</td>\n",
       "      <td>0.0</td>\n",
       "      <td>charge</td>\n",
       "      <td>NaN</td>\n",
       "      <td>1.129518</td>\n",
       "      <td>0.044335</td>\n",
       "      <td>no</td>\n",
       "    </tr>\n",
       "    <tr>\n",
       "      <th>Apcnt_1000004</th>\n",
       "      <td>3456.0</td>\n",
       "      <td>0.67400</td>\n",
       "      <td>0.2342</td>\n",
       "      <td>0.0</td>\n",
       "      <td>0.0</td>\n",
       "      <td>0.0</td>\n",
       "      <td>898979.0</td>\n",
       "      <td>497531.0</td>\n",
       "      <td>9073814.0</td>\n",
       "      <td>2533168.0</td>\n",
       "      <td>...</td>\n",
       "      <td>0.314281</td>\n",
       "      <td>8.08</td>\n",
       "      <td>0.183584</td>\n",
       "      <td>NaN</td>\n",
       "      <td>0.0</td>\n",
       "      <td>charge</td>\n",
       "      <td>349.80573</td>\n",
       "      <td>1.620483</td>\n",
       "      <td>0.322436</td>\n",
       "      <td>no</td>\n",
       "    </tr>\n",
       "  </tbody>\n",
       "</table>\n",
       "<p>2 rows × 51 columns</p>\n",
       "</div>"
      ],
      "text/plain": [
       "               form_field1  form_field2  form_field3  form_field4  \\\n",
       "Applicant_ID                                                        \n",
       "Apcnt_1000000       3436.0      0.28505       1.6560          0.0   \n",
       "Apcnt_1000004       3456.0      0.67400       0.2342          0.0   \n",
       "\n",
       "               form_field5  form_field6  form_field7  form_field8  \\\n",
       "Applicant_ID                                                        \n",
       "Apcnt_1000000          0.0          0.0   10689720.0     252072.0   \n",
       "Apcnt_1000004          0.0          0.0     898979.0     497531.0   \n",
       "\n",
       "               form_field9  form_field10  ...  form_field42  form_field43  \\\n",
       "Applicant_ID                              ...                               \n",
       "Apcnt_1000000    4272776.0    11333126.0  ...      0.392854          2.02   \n",
       "Apcnt_1000004    9073814.0     2533168.0  ...      0.314281          8.08   \n",
       "\n",
       "               form_field44  form_field45  form_field46  form_field47  \\\n",
       "Applicant_ID                                                            \n",
       "Apcnt_1000000      0.711632           0.0           0.0        charge   \n",
       "Apcnt_1000004      0.183584           NaN           0.0        charge   \n",
       "\n",
       "               form_field48  form_field49  form_field50  default_status  \n",
       "Applicant_ID                                                             \n",
       "Apcnt_1000000           NaN      1.129518      0.044335              no  \n",
       "Apcnt_1000004     349.80573      1.620483      0.322436              no  \n",
       "\n",
       "[2 rows x 51 columns]"
      ]
     },
     "execution_count": 2,
     "metadata": {},
     "output_type": "execute_result"
    }
   ],
   "source": [
    "train = pd.read_csv(\"../input/2020aibootacampqualifiers/Train.csv\", index_col=\"Applicant_ID\")\n",
    "\n",
    "train.head(2)"
   ]
  },
  {
   "cell_type": "code",
   "execution_count": 3,
   "metadata": {
    "execution": {
     "iopub.execute_input": "2020-10-01T05:55:00.846251Z",
     "iopub.status.busy": "2020-10-01T05:55:00.845302Z",
     "iopub.status.idle": "2020-10-01T05:55:01.080745Z",
     "shell.execute_reply": "2020-10-01T05:55:01.079983Z"
    },
    "papermill": {
     "duration": 0.269094,
     "end_time": "2020-10-01T05:55:01.080877",
     "exception": false,
     "start_time": "2020-10-01T05:55:00.811783",
     "status": "completed"
    },
    "tags": []
   },
   "outputs": [
    {
     "data": {
      "text/html": [
       "<div>\n",
       "<style scoped>\n",
       "    .dataframe tbody tr th:only-of-type {\n",
       "        vertical-align: middle;\n",
       "    }\n",
       "\n",
       "    .dataframe tbody tr th {\n",
       "        vertical-align: top;\n",
       "    }\n",
       "\n",
       "    .dataframe thead th {\n",
       "        text-align: right;\n",
       "    }\n",
       "</style>\n",
       "<table border=\"1\" class=\"dataframe\">\n",
       "  <thead>\n",
       "    <tr style=\"text-align: right;\">\n",
       "      <th></th>\n",
       "      <th>form_field1</th>\n",
       "      <th>form_field2</th>\n",
       "      <th>form_field3</th>\n",
       "      <th>form_field4</th>\n",
       "      <th>form_field5</th>\n",
       "      <th>form_field6</th>\n",
       "      <th>form_field7</th>\n",
       "      <th>form_field8</th>\n",
       "      <th>form_field9</th>\n",
       "      <th>form_field10</th>\n",
       "      <th>...</th>\n",
       "      <th>form_field41</th>\n",
       "      <th>form_field42</th>\n",
       "      <th>form_field43</th>\n",
       "      <th>form_field44</th>\n",
       "      <th>form_field45</th>\n",
       "      <th>form_field46</th>\n",
       "      <th>form_field47</th>\n",
       "      <th>form_field48</th>\n",
       "      <th>form_field49</th>\n",
       "      <th>form_field50</th>\n",
       "    </tr>\n",
       "    <tr>\n",
       "      <th>Applicant_ID</th>\n",
       "      <th></th>\n",
       "      <th></th>\n",
       "      <th></th>\n",
       "      <th></th>\n",
       "      <th></th>\n",
       "      <th></th>\n",
       "      <th></th>\n",
       "      <th></th>\n",
       "      <th></th>\n",
       "      <th></th>\n",
       "      <th></th>\n",
       "      <th></th>\n",
       "      <th></th>\n",
       "      <th></th>\n",
       "      <th></th>\n",
       "      <th></th>\n",
       "      <th></th>\n",
       "      <th></th>\n",
       "      <th></th>\n",
       "      <th></th>\n",
       "      <th></th>\n",
       "    </tr>\n",
       "  </thead>\n",
       "  <tbody>\n",
       "    <tr>\n",
       "      <th>Apcnt_1000032</th>\n",
       "      <td>3236.0</td>\n",
       "      <td>0.34875</td>\n",
       "      <td>10.2006</td>\n",
       "      <td>0.0000</td>\n",
       "      <td>0.0</td>\n",
       "      <td>418564.0</td>\n",
       "      <td>418564.0</td>\n",
       "      <td>418564.0</td>\n",
       "      <td>540710.0</td>\n",
       "      <td>0.0</td>\n",
       "      <td>...</td>\n",
       "      <td>NaN</td>\n",
       "      <td>0.825000</td>\n",
       "      <td>1.01</td>\n",
       "      <td>0.800000</td>\n",
       "      <td>NaN</td>\n",
       "      <td>0.0</td>\n",
       "      <td>charge</td>\n",
       "      <td>NaN</td>\n",
       "      <td>0.000000</td>\n",
       "      <td>0.011221</td>\n",
       "    </tr>\n",
       "    <tr>\n",
       "      <th>Apcnt_1000048</th>\n",
       "      <td>3284.0</td>\n",
       "      <td>1.27360</td>\n",
       "      <td>2.9606</td>\n",
       "      <td>9.0198</td>\n",
       "      <td>0.0</td>\n",
       "      <td>0.0</td>\n",
       "      <td>9858816.0</td>\n",
       "      <td>49014.0</td>\n",
       "      <td>1510098.0</td>\n",
       "      <td>18308285.0</td>\n",
       "      <td>...</td>\n",
       "      <td>18.8415</td>\n",
       "      <td>0.507694</td>\n",
       "      <td>4.04</td>\n",
       "      <td>0.623248</td>\n",
       "      <td>1.0</td>\n",
       "      <td>0.0</td>\n",
       "      <td>lending</td>\n",
       "      <td>NaN</td>\n",
       "      <td>0.504974</td>\n",
       "      <td>0.043525</td>\n",
       "    </tr>\n",
       "  </tbody>\n",
       "</table>\n",
       "<p>2 rows × 50 columns</p>\n",
       "</div>"
      ],
      "text/plain": [
       "               form_field1  form_field2  form_field3  form_field4  \\\n",
       "Applicant_ID                                                        \n",
       "Apcnt_1000032       3236.0      0.34875      10.2006       0.0000   \n",
       "Apcnt_1000048       3284.0      1.27360       2.9606       9.0198   \n",
       "\n",
       "               form_field5  form_field6  form_field7  form_field8  \\\n",
       "Applicant_ID                                                        \n",
       "Apcnt_1000032          0.0     418564.0     418564.0     418564.0   \n",
       "Apcnt_1000048          0.0          0.0    9858816.0      49014.0   \n",
       "\n",
       "               form_field9  form_field10  ...  form_field41  form_field42  \\\n",
       "Applicant_ID                              ...                               \n",
       "Apcnt_1000032     540710.0           0.0  ...           NaN      0.825000   \n",
       "Apcnt_1000048    1510098.0    18308285.0  ...       18.8415      0.507694   \n",
       "\n",
       "               form_field43  form_field44  form_field45  form_field46  \\\n",
       "Applicant_ID                                                            \n",
       "Apcnt_1000032          1.01      0.800000           NaN           0.0   \n",
       "Apcnt_1000048          4.04      0.623248           1.0           0.0   \n",
       "\n",
       "               form_field47  form_field48  form_field49  form_field50  \n",
       "Applicant_ID                                                           \n",
       "Apcnt_1000032        charge           NaN      0.000000      0.011221  \n",
       "Apcnt_1000048       lending           NaN      0.504974      0.043525  \n",
       "\n",
       "[2 rows x 50 columns]"
      ]
     },
     "execution_count": 3,
     "metadata": {},
     "output_type": "execute_result"
    }
   ],
   "source": [
    "test = pd.read_csv(\"../input/2020aibootacampqualifiers/Test.csv\", index_col=\"Applicant_ID\")\n",
    "\n",
    "test.head(2)"
   ]
  },
  {
   "cell_type": "markdown",
   "metadata": {
    "papermill": {
     "duration": 0.028245,
     "end_time": "2020-10-01T05:55:01.138087",
     "exception": false,
     "start_time": "2020-10-01T05:55:01.109842",
     "status": "completed"
    },
    "tags": []
   },
   "source": [
    "## Data Preprocessing"
   ]
  },
  {
   "cell_type": "markdown",
   "metadata": {
    "papermill": {
     "duration": 0.027696,
     "end_time": "2020-10-01T05:55:01.193953",
     "exception": false,
     "start_time": "2020-10-01T05:55:01.166257",
     "status": "completed"
    },
    "tags": []
   },
   "source": [
    "### Checking & Encoding Categorical Columns"
   ]
  },
  {
   "cell_type": "code",
   "execution_count": 4,
   "metadata": {
    "execution": {
     "iopub.execute_input": "2020-10-01T05:55:01.266625Z",
     "iopub.status.busy": "2020-10-01T05:55:01.265311Z",
     "iopub.status.idle": "2020-10-01T05:55:01.271814Z",
     "shell.execute_reply": "2020-10-01T05:55:01.271160Z"
    },
    "papermill": {
     "duration": 0.049915,
     "end_time": "2020-10-01T05:55:01.271943",
     "exception": false,
     "start_time": "2020-10-01T05:55:01.222028",
     "status": "completed"
    },
    "tags": []
   },
   "outputs": [],
   "source": [
    "train.default_status = train.default_status.map({'no': 0, 'yes': 1})"
   ]
  },
  {
   "cell_type": "code",
   "execution_count": 5,
   "metadata": {
    "execution": {
     "iopub.execute_input": "2020-10-01T05:55:01.358445Z",
     "iopub.status.busy": "2020-10-01T05:55:01.357317Z",
     "iopub.status.idle": "2020-10-01T05:55:01.403223Z",
     "shell.execute_reply": "2020-10-01T05:55:01.402513Z"
    },
    "papermill": {
     "duration": 0.10317,
     "end_time": "2020-10-01T05:55:01.403348",
     "exception": false,
     "start_time": "2020-10-01T05:55:01.300178",
     "status": "completed"
    },
    "tags": []
   },
   "outputs": [],
   "source": [
    "weight = 300\n",
    "global_mean = train.default_status.mean()\n",
    "\n",
    "# compute the number of values and mean of the column\n",
    "aggs = train.groupby('form_field47')['default_status'].agg(['count', 'mean'])\n",
    "counts, means = aggs['count'], aggs['mean']\n",
    "\n",
    "# compute the smoothed means\n",
    "smooth = (counts * means + weight + global_mean) / (counts + weight)\n",
    "\n",
    "train.form_field47 = train.form_field47.map(smooth)\n",
    "test.form_field47 = test.form_field47.map(smooth)"
   ]
  },
  {
   "cell_type": "code",
   "execution_count": 6,
   "metadata": {
    "execution": {
     "iopub.execute_input": "2020-10-01T05:55:01.491237Z",
     "iopub.status.busy": "2020-10-01T05:55:01.490149Z",
     "iopub.status.idle": "2020-10-01T05:55:01.495239Z",
     "shell.execute_reply": "2020-10-01T05:55:01.494421Z"
    },
    "papermill": {
     "duration": 0.06371,
     "end_time": "2020-10-01T05:55:01.495373",
     "exception": false,
     "start_time": "2020-10-01T05:55:01.431663",
     "status": "completed"
    },
    "tags": []
   },
   "outputs": [
    {
     "data": {
      "text/html": [
       "<div>\n",
       "<style scoped>\n",
       "    .dataframe tbody tr th:only-of-type {\n",
       "        vertical-align: middle;\n",
       "    }\n",
       "\n",
       "    .dataframe tbody tr th {\n",
       "        vertical-align: top;\n",
       "    }\n",
       "\n",
       "    .dataframe thead th {\n",
       "        text-align: right;\n",
       "    }\n",
       "</style>\n",
       "<table border=\"1\" class=\"dataframe\">\n",
       "  <thead>\n",
       "    <tr style=\"text-align: right;\">\n",
       "      <th></th>\n",
       "      <th>form_field1</th>\n",
       "      <th>form_field2</th>\n",
       "      <th>form_field3</th>\n",
       "      <th>form_field4</th>\n",
       "      <th>form_field5</th>\n",
       "      <th>form_field6</th>\n",
       "      <th>form_field7</th>\n",
       "      <th>form_field8</th>\n",
       "      <th>form_field9</th>\n",
       "      <th>form_field10</th>\n",
       "      <th>...</th>\n",
       "      <th>form_field42</th>\n",
       "      <th>form_field43</th>\n",
       "      <th>form_field44</th>\n",
       "      <th>form_field45</th>\n",
       "      <th>form_field46</th>\n",
       "      <th>form_field47</th>\n",
       "      <th>form_field48</th>\n",
       "      <th>form_field49</th>\n",
       "      <th>form_field50</th>\n",
       "      <th>default_status</th>\n",
       "    </tr>\n",
       "    <tr>\n",
       "      <th>Applicant_ID</th>\n",
       "      <th></th>\n",
       "      <th></th>\n",
       "      <th></th>\n",
       "      <th></th>\n",
       "      <th></th>\n",
       "      <th></th>\n",
       "      <th></th>\n",
       "      <th></th>\n",
       "      <th></th>\n",
       "      <th></th>\n",
       "      <th></th>\n",
       "      <th></th>\n",
       "      <th></th>\n",
       "      <th></th>\n",
       "      <th></th>\n",
       "      <th></th>\n",
       "      <th></th>\n",
       "      <th></th>\n",
       "      <th></th>\n",
       "      <th></th>\n",
       "      <th></th>\n",
       "    </tr>\n",
       "  </thead>\n",
       "  <tbody>\n",
       "    <tr>\n",
       "      <th>Apcnt_1000000</th>\n",
       "      <td>3436.0</td>\n",
       "      <td>0.28505</td>\n",
       "      <td>1.6560</td>\n",
       "      <td>0.0</td>\n",
       "      <td>0.0</td>\n",
       "      <td>0.0</td>\n",
       "      <td>10689720.0</td>\n",
       "      <td>252072.0</td>\n",
       "      <td>4272776.0</td>\n",
       "      <td>11333126.0</td>\n",
       "      <td>...</td>\n",
       "      <td>0.392854</td>\n",
       "      <td>2.02</td>\n",
       "      <td>0.711632</td>\n",
       "      <td>0.0</td>\n",
       "      <td>0.0</td>\n",
       "      <td>0.322506</td>\n",
       "      <td>NaN</td>\n",
       "      <td>1.129518</td>\n",
       "      <td>0.044335</td>\n",
       "      <td>0</td>\n",
       "    </tr>\n",
       "    <tr>\n",
       "      <th>Apcnt_1000004</th>\n",
       "      <td>3456.0</td>\n",
       "      <td>0.67400</td>\n",
       "      <td>0.2342</td>\n",
       "      <td>0.0</td>\n",
       "      <td>0.0</td>\n",
       "      <td>0.0</td>\n",
       "      <td>898979.0</td>\n",
       "      <td>497531.0</td>\n",
       "      <td>9073814.0</td>\n",
       "      <td>2533168.0</td>\n",
       "      <td>...</td>\n",
       "      <td>0.314281</td>\n",
       "      <td>8.08</td>\n",
       "      <td>0.183584</td>\n",
       "      <td>NaN</td>\n",
       "      <td>0.0</td>\n",
       "      <td>0.322506</td>\n",
       "      <td>349.80573</td>\n",
       "      <td>1.620483</td>\n",
       "      <td>0.322436</td>\n",
       "      <td>0</td>\n",
       "    </tr>\n",
       "  </tbody>\n",
       "</table>\n",
       "<p>2 rows × 51 columns</p>\n",
       "</div>"
      ],
      "text/plain": [
       "               form_field1  form_field2  form_field3  form_field4  \\\n",
       "Applicant_ID                                                        \n",
       "Apcnt_1000000       3436.0      0.28505       1.6560          0.0   \n",
       "Apcnt_1000004       3456.0      0.67400       0.2342          0.0   \n",
       "\n",
       "               form_field5  form_field6  form_field7  form_field8  \\\n",
       "Applicant_ID                                                        \n",
       "Apcnt_1000000          0.0          0.0   10689720.0     252072.0   \n",
       "Apcnt_1000004          0.0          0.0     898979.0     497531.0   \n",
       "\n",
       "               form_field9  form_field10  ...  form_field42  form_field43  \\\n",
       "Applicant_ID                              ...                               \n",
       "Apcnt_1000000    4272776.0    11333126.0  ...      0.392854          2.02   \n",
       "Apcnt_1000004    9073814.0     2533168.0  ...      0.314281          8.08   \n",
       "\n",
       "               form_field44  form_field45  form_field46  form_field47  \\\n",
       "Applicant_ID                                                            \n",
       "Apcnt_1000000      0.711632           0.0           0.0      0.322506   \n",
       "Apcnt_1000004      0.183584           NaN           0.0      0.322506   \n",
       "\n",
       "               form_field48  form_field49  form_field50  default_status  \n",
       "Applicant_ID                                                             \n",
       "Apcnt_1000000           NaN      1.129518      0.044335               0  \n",
       "Apcnt_1000004     349.80573      1.620483      0.322436               0  \n",
       "\n",
       "[2 rows x 51 columns]"
      ]
     },
     "execution_count": 6,
     "metadata": {},
     "output_type": "execute_result"
    }
   ],
   "source": [
    "train.head(2)"
   ]
  },
  {
   "cell_type": "markdown",
   "metadata": {
    "papermill": {
     "duration": 0.028824,
     "end_time": "2020-10-01T05:55:01.556869",
     "exception": false,
     "start_time": "2020-10-01T05:55:01.528045",
     "status": "completed"
    },
    "tags": []
   },
   "source": [
    "### Separating the Target from the predictors"
   ]
  },
  {
   "cell_type": "code",
   "execution_count": 7,
   "metadata": {
    "execution": {
     "iopub.execute_input": "2020-10-01T05:55:01.647161Z",
     "iopub.status.busy": "2020-10-01T05:55:01.646018Z",
     "iopub.status.idle": "2020-10-01T05:55:01.650460Z",
     "shell.execute_reply": "2020-10-01T05:55:01.651059Z"
    },
    "papermill": {
     "duration": 0.065302,
     "end_time": "2020-10-01T05:55:01.651223",
     "exception": false,
     "start_time": "2020-10-01T05:55:01.585921",
     "status": "completed"
    },
    "tags": []
   },
   "outputs": [
    {
     "data": {
      "text/html": [
       "<div>\n",
       "<style scoped>\n",
       "    .dataframe tbody tr th:only-of-type {\n",
       "        vertical-align: middle;\n",
       "    }\n",
       "\n",
       "    .dataframe tbody tr th {\n",
       "        vertical-align: top;\n",
       "    }\n",
       "\n",
       "    .dataframe thead th {\n",
       "        text-align: right;\n",
       "    }\n",
       "</style>\n",
       "<table border=\"1\" class=\"dataframe\">\n",
       "  <thead>\n",
       "    <tr style=\"text-align: right;\">\n",
       "      <th></th>\n",
       "      <th>form_field1</th>\n",
       "      <th>form_field2</th>\n",
       "      <th>form_field3</th>\n",
       "      <th>form_field4</th>\n",
       "      <th>form_field5</th>\n",
       "      <th>form_field6</th>\n",
       "      <th>form_field7</th>\n",
       "      <th>form_field8</th>\n",
       "      <th>form_field9</th>\n",
       "      <th>form_field10</th>\n",
       "      <th>...</th>\n",
       "      <th>form_field41</th>\n",
       "      <th>form_field42</th>\n",
       "      <th>form_field43</th>\n",
       "      <th>form_field44</th>\n",
       "      <th>form_field45</th>\n",
       "      <th>form_field46</th>\n",
       "      <th>form_field47</th>\n",
       "      <th>form_field48</th>\n",
       "      <th>form_field49</th>\n",
       "      <th>form_field50</th>\n",
       "    </tr>\n",
       "    <tr>\n",
       "      <th>Applicant_ID</th>\n",
       "      <th></th>\n",
       "      <th></th>\n",
       "      <th></th>\n",
       "      <th></th>\n",
       "      <th></th>\n",
       "      <th></th>\n",
       "      <th></th>\n",
       "      <th></th>\n",
       "      <th></th>\n",
       "      <th></th>\n",
       "      <th></th>\n",
       "      <th></th>\n",
       "      <th></th>\n",
       "      <th></th>\n",
       "      <th></th>\n",
       "      <th></th>\n",
       "      <th></th>\n",
       "      <th></th>\n",
       "      <th></th>\n",
       "      <th></th>\n",
       "      <th></th>\n",
       "    </tr>\n",
       "  </thead>\n",
       "  <tbody>\n",
       "    <tr>\n",
       "      <th>Apcnt_1000000</th>\n",
       "      <td>3436.0</td>\n",
       "      <td>0.28505</td>\n",
       "      <td>1.6560</td>\n",
       "      <td>0.0</td>\n",
       "      <td>0.0</td>\n",
       "      <td>0.0</td>\n",
       "      <td>10689720.0</td>\n",
       "      <td>252072.0</td>\n",
       "      <td>4272776.0</td>\n",
       "      <td>11333126.0</td>\n",
       "      <td>...</td>\n",
       "      <td>NaN</td>\n",
       "      <td>0.392854</td>\n",
       "      <td>2.02</td>\n",
       "      <td>0.711632</td>\n",
       "      <td>0.0</td>\n",
       "      <td>0.0</td>\n",
       "      <td>0.322506</td>\n",
       "      <td>NaN</td>\n",
       "      <td>1.129518</td>\n",
       "      <td>0.044335</td>\n",
       "    </tr>\n",
       "    <tr>\n",
       "      <th>Apcnt_1000004</th>\n",
       "      <td>3456.0</td>\n",
       "      <td>0.67400</td>\n",
       "      <td>0.2342</td>\n",
       "      <td>0.0</td>\n",
       "      <td>0.0</td>\n",
       "      <td>0.0</td>\n",
       "      <td>898979.0</td>\n",
       "      <td>497531.0</td>\n",
       "      <td>9073814.0</td>\n",
       "      <td>2533168.0</td>\n",
       "      <td>...</td>\n",
       "      <td>NaN</td>\n",
       "      <td>0.314281</td>\n",
       "      <td>8.08</td>\n",
       "      <td>0.183584</td>\n",
       "      <td>NaN</td>\n",
       "      <td>0.0</td>\n",
       "      <td>0.322506</td>\n",
       "      <td>349.80573</td>\n",
       "      <td>1.620483</td>\n",
       "      <td>0.322436</td>\n",
       "    </tr>\n",
       "  </tbody>\n",
       "</table>\n",
       "<p>2 rows × 50 columns</p>\n",
       "</div>"
      ],
      "text/plain": [
       "               form_field1  form_field2  form_field3  form_field4  \\\n",
       "Applicant_ID                                                        \n",
       "Apcnt_1000000       3436.0      0.28505       1.6560          0.0   \n",
       "Apcnt_1000004       3456.0      0.67400       0.2342          0.0   \n",
       "\n",
       "               form_field5  form_field6  form_field7  form_field8  \\\n",
       "Applicant_ID                                                        \n",
       "Apcnt_1000000          0.0          0.0   10689720.0     252072.0   \n",
       "Apcnt_1000004          0.0          0.0     898979.0     497531.0   \n",
       "\n",
       "               form_field9  form_field10  ...  form_field41  form_field42  \\\n",
       "Applicant_ID                              ...                               \n",
       "Apcnt_1000000    4272776.0    11333126.0  ...           NaN      0.392854   \n",
       "Apcnt_1000004    9073814.0     2533168.0  ...           NaN      0.314281   \n",
       "\n",
       "               form_field43  form_field44  form_field45  form_field46  \\\n",
       "Applicant_ID                                                            \n",
       "Apcnt_1000000          2.02      0.711632           0.0           0.0   \n",
       "Apcnt_1000004          8.08      0.183584           NaN           0.0   \n",
       "\n",
       "               form_field47  form_field48  form_field49  form_field50  \n",
       "Applicant_ID                                                           \n",
       "Apcnt_1000000      0.322506           NaN      1.129518      0.044335  \n",
       "Apcnt_1000004      0.322506     349.80573      1.620483      0.322436  \n",
       "\n",
       "[2 rows x 50 columns]"
      ]
     },
     "execution_count": 7,
     "metadata": {},
     "output_type": "execute_result"
    }
   ],
   "source": [
    "y = train.pop(\"default_status\")\n",
    "\n",
    "train.head(2)"
   ]
  },
  {
   "cell_type": "markdown",
   "metadata": {
    "papermill": {
     "duration": 0.029975,
     "end_time": "2020-10-01T05:55:01.711493",
     "exception": false,
     "start_time": "2020-10-01T05:55:01.681518",
     "status": "completed"
    },
    "tags": []
   },
   "source": [
    "### Handling Missing Values"
   ]
  },
  {
   "cell_type": "code",
   "execution_count": 8,
   "metadata": {
    "execution": {
     "iopub.execute_input": "2020-10-01T05:55:01.777548Z",
     "iopub.status.busy": "2020-10-01T05:55:01.776590Z",
     "iopub.status.idle": "2020-10-01T05:55:02.084540Z",
     "shell.execute_reply": "2020-10-01T05:55:02.083734Z"
    },
    "papermill": {
     "duration": 0.343111,
     "end_time": "2020-10-01T05:55:02.084670",
     "exception": false,
     "start_time": "2020-10-01T05:55:01.741559",
     "status": "completed"
    },
    "tags": []
   },
   "outputs": [],
   "source": [
    "from sklearn.impute import SimpleImputer\n",
    "\n",
    "zero_imputer = SimpleImputer(strategy='constant', add_indicator=True)"
   ]
  },
  {
   "cell_type": "code",
   "execution_count": 9,
   "metadata": {
    "execution": {
     "iopub.execute_input": "2020-10-01T05:55:02.154671Z",
     "iopub.status.busy": "2020-10-01T05:55:02.153818Z",
     "iopub.status.idle": "2020-10-01T05:55:02.355329Z",
     "shell.execute_reply": "2020-10-01T05:55:02.354532Z"
    },
    "papermill": {
     "duration": 0.239833,
     "end_time": "2020-10-01T05:55:02.355459",
     "exception": false,
     "start_time": "2020-10-01T05:55:02.115626",
     "status": "completed"
    },
    "tags": []
   },
   "outputs": [],
   "source": [
    "imputed_train = zero_imputer.fit_transform(train)\n",
    "imputed_test = zero_imputer.transform(test)"
   ]
  },
  {
   "cell_type": "markdown",
   "metadata": {
    "papermill": {
     "duration": 0.030811,
     "end_time": "2020-10-01T05:55:02.417009",
     "exception": false,
     "start_time": "2020-10-01T05:55:02.386198",
     "status": "completed"
    },
    "tags": []
   },
   "source": [
    "## Scaling the data"
   ]
  },
  {
   "cell_type": "code",
   "execution_count": 10,
   "metadata": {
    "execution": {
     "iopub.execute_input": "2020-10-01T05:55:02.484711Z",
     "iopub.status.busy": "2020-10-01T05:55:02.483752Z",
     "iopub.status.idle": "2020-10-01T05:55:02.486832Z",
     "shell.execute_reply": "2020-10-01T05:55:02.486053Z"
    },
    "papermill": {
     "duration": 0.038555,
     "end_time": "2020-10-01T05:55:02.486973",
     "exception": false,
     "start_time": "2020-10-01T05:55:02.448418",
     "status": "completed"
    },
    "tags": []
   },
   "outputs": [],
   "source": [
    "from sklearn.preprocessing import MinMaxScaler"
   ]
  },
  {
   "cell_type": "code",
   "execution_count": 11,
   "metadata": {
    "execution": {
     "iopub.execute_input": "2020-10-01T05:55:02.556606Z",
     "iopub.status.busy": "2020-10-01T05:55:02.555841Z",
     "iopub.status.idle": "2020-10-01T05:55:02.633908Z",
     "shell.execute_reply": "2020-10-01T05:55:02.633097Z"
    },
    "papermill": {
     "duration": 0.11445,
     "end_time": "2020-10-01T05:55:02.634039",
     "exception": false,
     "start_time": "2020-10-01T05:55:02.519589",
     "status": "completed"
    },
    "tags": []
   },
   "outputs": [],
   "source": [
    "scaler_mm = MinMaxScaler()\n",
    "\n",
    "scaled_train = pd.DataFrame(scaler_mm.fit_transform(imputed_train))\n",
    "scaled_test = pd.DataFrame(scaler_mm.transform(imputed_test))"
   ]
  },
  {
   "cell_type": "markdown",
   "metadata": {
    "papermill": {
     "duration": 0.030754,
     "end_time": "2020-10-01T05:55:02.695908",
     "exception": false,
     "start_time": "2020-10-01T05:55:02.665154",
     "status": "completed"
    },
    "tags": []
   },
   "source": [
    "## Modelling"
   ]
  },
  {
   "cell_type": "markdown",
   "metadata": {
    "papermill": {
     "duration": 0.030332,
     "end_time": "2020-10-01T05:55:02.758096",
     "exception": false,
     "start_time": "2020-10-01T05:55:02.727764",
     "status": "completed"
    },
    "tags": []
   },
   "source": [
    "### Hyperparameter Tuning"
   ]
  },
  {
   "cell_type": "markdown",
   "metadata": {
    "papermill": {
     "duration": 0.030312,
     "end_time": "2020-10-01T05:55:02.819274",
     "exception": false,
     "start_time": "2020-10-01T05:55:02.788962",
     "status": "completed"
    },
    "tags": []
   },
   "source": [
    "XGBoost: learning_rate (0.01 - 0.2), max_depth, min_child_weight, colsample_bytree, subsample, n_estimators\n",
    "\n",
    "CatBoost: learning_rate, depth, l2-leaf-reg, rsm, iterations\n",
    "\n",
    "LightGBM: learning_rate, max_depth, num_leaves, min_data_in_leaf(min_data, min_child_samples), feature_fraction, bagging_fraction, num_iterations"
   ]
  },
  {
   "cell_type": "code",
   "execution_count": 12,
   "metadata": {
    "execution": {
     "iopub.execute_input": "2020-10-01T05:55:02.888367Z",
     "iopub.status.busy": "2020-10-01T05:55:02.887459Z",
     "iopub.status.idle": "2020-10-01T05:57:06.467448Z",
     "shell.execute_reply": "2020-10-01T05:57:06.466699Z"
    },
    "papermill": {
     "duration": 123.617372,
     "end_time": "2020-10-01T05:57:06.467588",
     "exception": false,
     "start_time": "2020-10-01T05:55:02.850216",
     "status": "completed"
    },
    "tags": []
   },
   "outputs": [
    {
     "name": "stdout",
     "output_type": "stream",
     "text": [
      "Found existing installation: typing 3.7.4.3\r\n",
      "Uninstalling typing-3.7.4.3:\r\n",
      "  Successfully uninstalled typing-3.7.4.3\r\n",
      "Collecting tune-sklearn\r\n",
      "  Downloading tune_sklearn-0.1.0-py3-none-any.whl (29 kB)\r\n",
      "Requirement already satisfied: scikit-optimize in /opt/conda/lib/python3.7/site-packages (0.8.1)\r\n",
      "Requirement already satisfied: hyperopt in /opt/conda/lib/python3.7/site-packages (0.2.4)\r\n",
      "Collecting hpbandster\r\n",
      "  Downloading hpbandster-0.7.4.tar.gz (51 kB)\r\n",
      "\u001b[K     |████████████████████████████████| 51 kB 53 kB/s \r\n",
      "\u001b[?25hRequirement already satisfied: ray in /opt/conda/lib/python3.7/site-packages (from tune-sklearn) (0.8.7)\r\n",
      "Collecting parameterized\r\n",
      "  Downloading parameterized-0.7.4-py2.py3-none-any.whl (25 kB)\r\n",
      "Requirement already satisfied: pandas in /opt/conda/lib/python3.7/site-packages (from tune-sklearn) (1.1.2)\r\n",
      "Requirement already satisfied: scikit-learn in /opt/conda/lib/python3.7/site-packages (from tune-sklearn) (0.23.2)\r\n",
      "Requirement already satisfied: tabulate in /opt/conda/lib/python3.7/site-packages (from tune-sklearn) (0.8.7)\r\n",
      "Requirement already satisfied: numpy>=1.16 in /opt/conda/lib/python3.7/site-packages (from tune-sklearn) (1.18.5)\r\n",
      "Requirement already satisfied: scipy in /opt/conda/lib/python3.7/site-packages (from tune-sklearn) (1.4.1)\r\n",
      "Requirement already satisfied: joblib>=0.11 in /opt/conda/lib/python3.7/site-packages (from scikit-optimize) (0.14.1)\r\n",
      "Requirement already satisfied: pyaml>=16.9 in /opt/conda/lib/python3.7/site-packages (from scikit-optimize) (20.4.0)\r\n",
      "Requirement already satisfied: six in /opt/conda/lib/python3.7/site-packages (from hyperopt) (1.14.0)\r\n",
      "Requirement already satisfied: cloudpickle in /opt/conda/lib/python3.7/site-packages (from hyperopt) (1.3.0)\r\n",
      "Requirement already satisfied: networkx>=2.2 in /opt/conda/lib/python3.7/site-packages (from hyperopt) (2.4)\r\n",
      "Requirement already satisfied: future in /opt/conda/lib/python3.7/site-packages (from hyperopt) (0.18.2)\r\n",
      "Requirement already satisfied: tqdm in /opt/conda/lib/python3.7/site-packages (from hyperopt) (4.45.0)\r\n",
      "Collecting Pyro4\r\n",
      "  Downloading Pyro4-4.80-py2.py3-none-any.whl (89 kB)\r\n",
      "\u001b[K     |████████████████████████████████| 89 kB 830 kB/s \r\n",
      "\u001b[?25hCollecting serpent\r\n",
      "  Downloading serpent-1.30.2-py3-none-any.whl (9.6 kB)\r\n",
      "Collecting ConfigSpace\r\n",
      "  Downloading ConfigSpace-0.4.15.tar.gz (964 kB)\r\n",
      "\u001b[K     |████████████████████████████████| 964 kB 2.3 MB/s \r\n",
      "\u001b[?25h  Installing build dependencies ... \u001b[?25l-\b \b\\\b \b|\b \b/\b \b-\b \b\\\b \b|\b \bdone\r\n",
      "\u001b[?25h  Getting requirements to build wheel ... \u001b[?25ldone\r\n",
      "\u001b[?25h    Preparing wheel metadata ... \u001b[?25l-\b \b\\\b \bdone\r\n",
      "\u001b[?25hRequirement already satisfied: statsmodels in /opt/conda/lib/python3.7/site-packages (from hpbandster) (0.11.1)\r\n",
      "Collecting netifaces\r\n",
      "  Downloading netifaces-0.10.9.tar.gz (28 kB)\r\n",
      "Requirement already satisfied: aiohttp in /opt/conda/lib/python3.7/site-packages (from ray->tune-sklearn) (3.6.2)\r\n",
      "Requirement already satisfied: protobuf>=3.8.0 in /opt/conda/lib/python3.7/site-packages (from ray->tune-sklearn) (3.13.0)\r\n",
      "Requirement already satisfied: aioredis in /opt/conda/lib/python3.7/site-packages (from ray->tune-sklearn) (1.3.1)\r\n",
      "Requirement already satisfied: redis<3.5.0,>=3.3.2 in /opt/conda/lib/python3.7/site-packages (from ray->tune-sklearn) (3.4.1)\r\n",
      "Requirement already satisfied: py-spy>=0.2.0 in /opt/conda/lib/python3.7/site-packages (from ray->tune-sklearn) (0.3.3)\r\n",
      "Requirement already satisfied: click>=7.0 in /opt/conda/lib/python3.7/site-packages (from ray->tune-sklearn) (7.1.1)\r\n",
      "Requirement already satisfied: msgpack<2.0.0,>=1.0.0 in /opt/conda/lib/python3.7/site-packages (from ray->tune-sklearn) (1.0.0)\r\n",
      "Requirement already satisfied: requests in /opt/conda/lib/python3.7/site-packages (from ray->tune-sklearn) (2.23.0)\r\n",
      "Requirement already satisfied: colorful in /opt/conda/lib/python3.7/site-packages (from ray->tune-sklearn) (0.5.4)\r\n",
      "Requirement already satisfied: jsonschema in /opt/conda/lib/python3.7/site-packages (from ray->tune-sklearn) (3.2.0)\r\n",
      "Requirement already satisfied: grpcio>=1.28.1 in /opt/conda/lib/python3.7/site-packages (from ray->tune-sklearn) (1.32.0)\r\n",
      "Requirement already satisfied: google in /opt/conda/lib/python3.7/site-packages (from ray->tune-sklearn) (3.0.0)\r\n",
      "Requirement already satisfied: gpustat in /opt/conda/lib/python3.7/site-packages (from ray->tune-sklearn) (0.6.0)\r\n",
      "Requirement already satisfied: colorama in /opt/conda/lib/python3.7/site-packages (from ray->tune-sklearn) (0.4.3)\r\n",
      "Requirement already satisfied: filelock in /opt/conda/lib/python3.7/site-packages (from ray->tune-sklearn) (3.0.10)\r\n",
      "Requirement already satisfied: pyyaml in /opt/conda/lib/python3.7/site-packages (from ray->tune-sklearn) (5.3.1)\r\n",
      "Requirement already satisfied: prometheus-client>=0.7.1 in /opt/conda/lib/python3.7/site-packages (from ray->tune-sklearn) (0.7.1)\r\n",
      "Requirement already satisfied: opencensus in /opt/conda/lib/python3.7/site-packages (from ray->tune-sklearn) (0.7.10)\r\n",
      "Requirement already satisfied: python-dateutil>=2.7.3 in /opt/conda/lib/python3.7/site-packages (from pandas->tune-sklearn) (2.8.1)\r\n",
      "Requirement already satisfied: pytz>=2017.2 in /opt/conda/lib/python3.7/site-packages (from pandas->tune-sklearn) (2019.3)\r\n",
      "Requirement already satisfied: threadpoolctl>=2.0.0 in /opt/conda/lib/python3.7/site-packages (from scikit-learn->tune-sklearn) (2.1.0)\r\n",
      "Requirement already satisfied: decorator>=4.3.0 in /opt/conda/lib/python3.7/site-packages (from networkx>=2.2->hyperopt) (4.4.2)\r\n",
      "Requirement already satisfied: cython in /opt/conda/lib/python3.7/site-packages (from ConfigSpace->hpbandster) (0.29.21)\r\n",
      "Requirement already satisfied: pyparsing in /opt/conda/lib/python3.7/site-packages (from ConfigSpace->hpbandster) (2.4.7)\r\n",
      "Requirement already satisfied: patsy>=0.5 in /opt/conda/lib/python3.7/site-packages (from statsmodels->hpbandster) (0.5.1)\r\n",
      "Requirement already satisfied: attrs>=17.3.0 in /opt/conda/lib/python3.7/site-packages (from aiohttp->ray->tune-sklearn) (19.3.0)\r\n",
      "Requirement already satisfied: yarl<2.0,>=1.0 in /opt/conda/lib/python3.7/site-packages (from aiohttp->ray->tune-sklearn) (1.5.1)\r\n",
      "Requirement already satisfied: multidict<5.0,>=4.5 in /opt/conda/lib/python3.7/site-packages (from aiohttp->ray->tune-sklearn) (4.7.6)\r\n",
      "Requirement already satisfied: chardet<4.0,>=2.0 in /opt/conda/lib/python3.7/site-packages (from aiohttp->ray->tune-sklearn) (3.0.4)\r\n",
      "Requirement already satisfied: async-timeout<4.0,>=3.0 in /opt/conda/lib/python3.7/site-packages (from aiohttp->ray->tune-sklearn) (3.0.1)\r\n",
      "Requirement already satisfied: setuptools in /opt/conda/lib/python3.7/site-packages (from protobuf>=3.8.0->ray->tune-sklearn) (46.1.3.post20200325)\r\n",
      "Requirement already satisfied: hiredis in /opt/conda/lib/python3.7/site-packages (from aioredis->ray->tune-sklearn) (1.1.0)\r\n",
      "Requirement already satisfied: idna<3,>=2.5 in /opt/conda/lib/python3.7/site-packages (from requests->ray->tune-sklearn) (2.9)\r\n",
      "Requirement already satisfied: urllib3!=1.25.0,!=1.25.1,<1.26,>=1.21.1 in /opt/conda/lib/python3.7/site-packages (from requests->ray->tune-sklearn) (1.24.3)\r\n",
      "Requirement already satisfied: certifi>=2017.4.17 in /opt/conda/lib/python3.7/site-packages (from requests->ray->tune-sklearn) (2020.6.20)\r\n",
      "Requirement already satisfied: pyrsistent>=0.14.0 in /opt/conda/lib/python3.7/site-packages (from jsonschema->ray->tune-sklearn) (0.16.0)\r\n",
      "Requirement already satisfied: importlib-metadata; python_version < \"3.8\" in /opt/conda/lib/python3.7/site-packages (from jsonschema->ray->tune-sklearn) (1.6.0)\r\n",
      "Requirement already satisfied: beautifulsoup4 in /opt/conda/lib/python3.7/site-packages (from google->ray->tune-sklearn) (4.9.0)\r\n",
      "Requirement already satisfied: blessings>=1.6 in /opt/conda/lib/python3.7/site-packages (from gpustat->ray->tune-sklearn) (1.7)\r\n",
      "Requirement already satisfied: nvidia-ml-py3>=7.352.0 in /opt/conda/lib/python3.7/site-packages (from gpustat->ray->tune-sklearn) (7.352.0)\r\n",
      "Requirement already satisfied: psutil in /opt/conda/lib/python3.7/site-packages (from gpustat->ray->tune-sklearn) (5.7.0)\r\n",
      "Requirement already satisfied: google-api-core<2.0.0,>=1.0.0 in /opt/conda/lib/python3.7/site-packages (from opencensus->ray->tune-sklearn) (1.17.0)\r\n",
      "Requirement already satisfied: opencensus-context==0.1.1 in /opt/conda/lib/python3.7/site-packages (from opencensus->ray->tune-sklearn) (0.1.1)\r\n",
      "Requirement already satisfied: typing-extensions>=3.7.4; python_version < \"3.8\" in /opt/conda/lib/python3.7/site-packages (from yarl<2.0,>=1.0->aiohttp->ray->tune-sklearn) (3.7.4.1)\r\n",
      "Requirement already satisfied: zipp>=0.5 in /opt/conda/lib/python3.7/site-packages (from importlib-metadata; python_version < \"3.8\"->jsonschema->ray->tune-sklearn) (3.1.0)\r\n",
      "Requirement already satisfied: soupsieve>1.2 in /opt/conda/lib/python3.7/site-packages (from beautifulsoup4->google->ray->tune-sklearn) (1.9.4)\r\n",
      "Requirement already satisfied: google-auth<2.0dev,>=1.14.0 in /opt/conda/lib/python3.7/site-packages (from google-api-core<2.0.0,>=1.0.0->opencensus->ray->tune-sklearn) (1.14.0)\r\n",
      "Requirement already satisfied: googleapis-common-protos<2.0dev,>=1.6.0 in /opt/conda/lib/python3.7/site-packages (from google-api-core<2.0.0,>=1.0.0->opencensus->ray->tune-sklearn) (1.52.0)\r\n",
      "Requirement already satisfied: cachetools<5.0,>=2.0.0 in /opt/conda/lib/python3.7/site-packages (from google-auth<2.0dev,>=1.14.0->google-api-core<2.0.0,>=1.0.0->opencensus->ray->tune-sklearn) (3.1.1)\r\n",
      "Requirement already satisfied: pyasn1-modules>=0.2.1 in /opt/conda/lib/python3.7/site-packages (from google-auth<2.0dev,>=1.14.0->google-api-core<2.0.0,>=1.0.0->opencensus->ray->tune-sklearn) (0.2.7)\r\n",
      "Requirement already satisfied: rsa<4.1,>=3.1.4 in /opt/conda/lib/python3.7/site-packages (from google-auth<2.0dev,>=1.14.0->google-api-core<2.0.0,>=1.0.0->opencensus->ray->tune-sklearn) (4.0)\r\n",
      "Requirement already satisfied: pyasn1<0.5.0,>=0.4.6 in /opt/conda/lib/python3.7/site-packages (from pyasn1-modules>=0.2.1->google-auth<2.0dev,>=1.14.0->google-api-core<2.0.0,>=1.0.0->opencensus->ray->tune-sklearn) (0.4.8)\r\n",
      "Building wheels for collected packages: hpbandster, ConfigSpace, netifaces\r\n",
      "  Building wheel for hpbandster (setup.py) ... \u001b[?25l-\b \b\\\b \bdone\r\n",
      "\u001b[?25h  Created wheel for hpbandster: filename=hpbandster-0.7.4-py3-none-any.whl size=80006 sha256=634e1c956aa9a4e68661951f0b21c91d298544dbad145821ee9f9de4defec5ac\r\n",
      "  Stored in directory: /root/.cache/pip/wheels/d9/88/fc/61ab6b9f386a386839668631c39a6dc3c2fb0ec7000d552faa\r\n",
      "  Building wheel for ConfigSpace (PEP 517) ... \u001b[?25l-\b \b\\\b \b|\b \b/\b \b-\b \b\\\b \b|\b \b/\b \b-\b \b\\\b \b|\b \b/\b \b-\b \b\\\b \b|\b \b/\b \b-\b \b\\\b \bdone\r\n",
      "\u001b[?25h  Created wheel for ConfigSpace: filename=ConfigSpace-0.4.15-cp37-cp37m-linux_x86_64.whl size=2890991 sha256=6be0ca5904d21d6e3027ae1e1e073ec81e8fc516ade312be94a0d11318ffda83\r\n",
      "  Stored in directory: /root/.cache/pip/wheels/d2/5b/52/78dc4cbd8f56c71a50b9a19ef34b23147664c3c726233b25e9\r\n",
      "  Building wheel for netifaces (setup.py) ... \u001b[?25l-\b \b\\\b \b|\b \b/\b \b-\b \b\\\b \bdone\r\n",
      "\u001b[?25h  Created wheel for netifaces: filename=netifaces-0.10.9-cp37-cp37m-linux_x86_64.whl size=37298 sha256=70030256aab4a818af8c385660bd7459edec9c3e61ae93e193ad320f1360a7c2\r\n",
      "  Stored in directory: /root/.cache/pip/wheels/5f/09/cf/2b1aa8371c071fa89518ac0bbda1b8cca4e65b6e2538af4192\r\n",
      "Successfully built hpbandster ConfigSpace netifaces\r\n",
      "Installing collected packages: parameterized, tune-sklearn, serpent, Pyro4, ConfigSpace, netifaces, hpbandster\r\n",
      "Successfully installed ConfigSpace-0.4.15 Pyro4-4.80 hpbandster-0.7.4 netifaces-0.10.9 parameterized-0.7.4 serpent-1.30.2 tune-sklearn-0.1.0\r\n"
     ]
    }
   ],
   "source": [
    "!pip uninstall typing -y\n",
    "!pip install tune-sklearn scikit-optimize hyperopt hpbandster"
   ]
  },
  {
   "cell_type": "code",
   "execution_count": 13,
   "metadata": {
    "execution": {
     "iopub.execute_input": "2020-10-01T05:57:06.609428Z",
     "iopub.status.busy": "2020-10-01T05:57:06.608658Z",
     "iopub.status.idle": "2020-10-01T05:57:08.058860Z",
     "shell.execute_reply": "2020-10-01T05:57:08.058048Z"
    },
    "papermill": {
     "duration": 1.523811,
     "end_time": "2020-10-01T05:57:08.058993",
     "exception": false,
     "start_time": "2020-10-01T05:57:06.535182",
     "status": "completed"
    },
    "tags": []
   },
   "outputs": [],
   "source": [
    "from tune_sklearn import TuneSearchCV, TuneGridSearchCV\n",
    "from xgboost import XGBClassifier\n",
    "from lightgbm import LGBMClassifier\n",
    "from catboost import CatBoostClassifier\n",
    "from rgf.sklearn import RGFClassifier, FastRGFClassifier\n",
    "from sklearn.ensemble import RandomForestClassifier"
   ]
  },
  {
   "cell_type": "code",
   "execution_count": 14,
   "metadata": {
    "execution": {
     "iopub.execute_input": "2020-10-01T05:57:08.210644Z",
     "iopub.status.busy": "2020-10-01T05:57:08.209540Z",
     "iopub.status.idle": "2020-10-01T05:57:08.214142Z",
     "shell.execute_reply": "2020-10-01T05:57:08.213415Z"
    },
    "papermill": {
     "duration": 0.087445,
     "end_time": "2020-10-01T05:57:08.214265",
     "exception": false,
     "start_time": "2020-10-01T05:57:08.126820",
     "status": "completed"
    },
    "tags": []
   },
   "outputs": [
    {
     "ename": "SyntaxError",
     "evalue": "unexpected EOF while parsing (<ipython-input-14-c6671f0ee172>, line 22)",
     "output_type": "error",
     "traceback": [
      "\u001b[0;36m  File \u001b[0;32m\"<ipython-input-14-c6671f0ee172>\"\u001b[0;36m, line \u001b[0;32m22\u001b[0m\n\u001b[0;31m    # n_jobs=-1)\u001b[0m\n\u001b[0m                ^\u001b[0m\n\u001b[0;31mSyntaxError\u001b[0m\u001b[0;31m:\u001b[0m unexpected EOF while parsing\n"
     ]
    }
   ],
   "source": [
    "xgb_params = {\n",
    "    'max_depth': [3,4,5,6,7,8,9,10],\n",
    "    'min_child_weight': [1,2,3,5],\n",
    "    'gamma': [0,.1,.2,.3,.4,.5,1,1.5,2,5],\n",
    "    'subsample': [.5,.6,.7,.8,.9],\n",
    "    'colsample_bytree': [.5,.6,.7,.8,.9],\n",
    "    'scale_pos_weight': [1, .5, .8, 1.5],\n",
    "    'learning_rate': [0.03, 0.001, 0.005, 0.01, 0.1, 0.2, 0.3],\n",
    "    'n_estimators': [250, 100, 500, 1000, 1500, 2000, 2500, 3000, 3500, 4000, 4500],\n",
    "    'max_depth': [3, 1, 2, 4, 5, 6, 7, 8, 9, 10],\n",
    "    'min_child_weight': [3,4,5,6,7,8,9,10],\n",
    "    'reg_alpha':[0, 0.001, 0.005, 0.01, 0.05],\n",
    "    'seed': [7, 50, 300, 800, 1200, 1800, 2400, 3000],\n",
    "}\n",
    "\n",
    "xgb_model = XGBClassifier(metrics='auc', nthread=-1)\n",
    "\n",
    "tune_xgb_1 = TuneGridSearchCV(xgb_model, \n",
    "                          xgb_params,\n",
    "                          max_iters=15,\n",
    "                              use_gpu=True,\n",
    "                         # n_jobs=-1)"
   ]
  },
  {
   "cell_type": "code",
   "execution_count": 15,
   "metadata": {
    "execution": {
     "iopub.execute_input": "2020-10-01T05:57:08.356681Z",
     "iopub.status.busy": "2020-10-01T05:57:08.355939Z",
     "iopub.status.idle": "2020-10-01T05:57:08.484764Z",
     "shell.execute_reply": "2020-10-01T05:57:08.484058Z"
    },
    "papermill": {
     "duration": 0.202607,
     "end_time": "2020-10-01T05:57:08.484896",
     "exception": false,
     "start_time": "2020-10-01T05:57:08.282289",
     "status": "completed"
    },
    "tags": []
   },
   "outputs": [
    {
     "ename": "NameError",
     "evalue": "name 'tune_xgb_1' is not defined",
     "output_type": "error",
     "traceback": [
      "\u001b[0;31m---------------------------------------------------------------------------\u001b[0m",
      "\u001b[0;31mNameError\u001b[0m                                 Traceback (most recent call last)",
      "\u001b[0;32m<ipython-input-15-1e380e2f5ff6>\u001b[0m in \u001b[0;36m<module>\u001b[0;34m\u001b[0m\n\u001b[0;32m----> 1\u001b[0;31m \u001b[0mtune_xgb_1\u001b[0m\u001b[0;34m.\u001b[0m\u001b[0mfit\u001b[0m\u001b[0;34m(\u001b[0m\u001b[0mscaled_train\u001b[0m\u001b[0;34m,\u001b[0m \u001b[0my\u001b[0m\u001b[0;34m)\u001b[0m\u001b[0;34m\u001b[0m\u001b[0;34m\u001b[0m\u001b[0m\n\u001b[0m",
      "\u001b[0;31mNameError\u001b[0m: name 'tune_xgb_1' is not defined"
     ]
    }
   ],
   "source": [
    "tune_xgb_1.fit(scaled_train, y)"
   ]
  },
  {
   "cell_type": "code",
   "execution_count": 16,
   "metadata": {
    "execution": {
     "iopub.execute_input": "2020-10-01T05:57:08.640881Z",
     "iopub.status.busy": "2020-10-01T05:57:08.639981Z",
     "iopub.status.idle": "2020-10-01T05:57:08.644323Z",
     "shell.execute_reply": "2020-10-01T05:57:08.644879Z"
    },
    "papermill": {
     "duration": 0.091128,
     "end_time": "2020-10-01T05:57:08.645042",
     "exception": false,
     "start_time": "2020-10-01T05:57:08.553914",
     "status": "completed"
    },
    "tags": []
   },
   "outputs": [
    {
     "ename": "NameError",
     "evalue": "name 'tune_xgb_1' is not defined",
     "output_type": "error",
     "traceback": [
      "\u001b[0;31m---------------------------------------------------------------------------\u001b[0m",
      "\u001b[0;31mNameError\u001b[0m                                 Traceback (most recent call last)",
      "\u001b[0;32m<ipython-input-16-d0fbc4484642>\u001b[0m in \u001b[0;36m<module>\u001b[0;34m\u001b[0m\n\u001b[0;32m----> 1\u001b[0;31m \u001b[0mtune_xgb_1\u001b[0m\u001b[0;34m.\u001b[0m\u001b[0mbest_params_\u001b[0m\u001b[0;34m\u001b[0m\u001b[0;34m\u001b[0m\u001b[0m\n\u001b[0m",
      "\u001b[0;31mNameError\u001b[0m: name 'tune_xgb_1' is not defined"
     ]
    }
   ],
   "source": [
    "tune_xgb_1.best_params_"
   ]
  },
  {
   "cell_type": "code",
   "execution_count": 17,
   "metadata": {
    "execution": {
     "iopub.execute_input": "2020-10-01T05:57:08.802040Z",
     "iopub.status.busy": "2020-10-01T05:57:08.800984Z",
     "iopub.status.idle": "2020-10-01T05:57:08.806297Z",
     "shell.execute_reply": "2020-10-01T05:57:08.805662Z"
    },
    "papermill": {
     "duration": 0.091851,
     "end_time": "2020-10-01T05:57:08.806422",
     "exception": false,
     "start_time": "2020-10-01T05:57:08.714571",
     "status": "completed"
    },
    "tags": []
   },
   "outputs": [
    {
     "ename": "NameError",
     "evalue": "name 'tune_xgb_1' is not defined",
     "output_type": "error",
     "traceback": [
      "\u001b[0;31m---------------------------------------------------------------------------\u001b[0m",
      "\u001b[0;31mNameError\u001b[0m                                 Traceback (most recent call last)",
      "\u001b[0;32m<ipython-input-17-e43b6cd2e223>\u001b[0m in \u001b[0;36m<module>\u001b[0;34m\u001b[0m\n\u001b[0;32m----> 1\u001b[0;31m \u001b[0mtune_xgb_1\u001b[0m\u001b[0;34m.\u001b[0m\u001b[0mcv_results_\u001b[0m\u001b[0;34m\u001b[0m\u001b[0;34m\u001b[0m\u001b[0m\n\u001b[0m",
      "\u001b[0;31mNameError\u001b[0m: name 'tune_xgb_1' is not defined"
     ]
    }
   ],
   "source": [
    "tune_xgb_1.cv_results_"
   ]
  },
  {
   "cell_type": "code",
   "execution_count": 18,
   "metadata": {
    "execution": {
     "iopub.execute_input": "2020-10-01T05:57:08.953213Z",
     "iopub.status.busy": "2020-10-01T05:57:08.952252Z",
     "iopub.status.idle": "2020-10-01T05:57:08.955279Z",
     "shell.execute_reply": "2020-10-01T05:57:08.954513Z"
    },
    "papermill": {
     "duration": 0.078134,
     "end_time": "2020-10-01T05:57:08.955409",
     "exception": false,
     "start_time": "2020-10-01T05:57:08.877275",
     "status": "completed"
    },
    "tags": []
   },
   "outputs": [],
   "source": [
    "# cat_params = {\n",
    "#     'depth': [3, 1, 2, 4, 5, 6, 7, 8, 9, 10],\n",
    "#     'iterations': [250, 100, 500, 1000, 1500, 2000, 2500, 3000, 3500, 4000, 4500],\n",
    "#     'learning_rate': [0.03, 0.001, 0.005, 0.01, 0.1, 0.2, 0.3],\n",
    "#     'l2_leaf_reg': [3, 1, 5, 10, 100],\n",
    "#     'border_count': [32, 5, 10, 20, 50, 100, 200],\n",
    "#     'ctr_border_count': [50, 5, 10, 20, 100, 200],\n",
    "# }\n",
    "\n",
    "# cat_model = CatBoostClassifier()\n",
    "# search_results = cat_model.randomized_search(cat_params, scaled_train, y, cv=5, plot=True)"
   ]
  },
  {
   "cell_type": "markdown",
   "metadata": {
    "papermill": {
     "duration": 0.081185,
     "end_time": "2020-10-01T05:57:09.107044",
     "exception": false,
     "start_time": "2020-10-01T05:57:09.025859",
     "status": "completed"
    },
    "tags": []
   },
   "source": [
    "### Local Validation"
   ]
  },
  {
   "cell_type": "code",
   "execution_count": 19,
   "metadata": {
    "execution": {
     "iopub.execute_input": "2020-10-01T05:57:09.295693Z",
     "iopub.status.busy": "2020-10-01T05:57:09.293658Z",
     "iopub.status.idle": "2020-10-01T05:57:09.301649Z",
     "shell.execute_reply": "2020-10-01T05:57:09.301019Z"
    },
    "papermill": {
     "duration": 0.115909,
     "end_time": "2020-10-01T05:57:09.301794",
     "exception": false,
     "start_time": "2020-10-01T05:57:09.185885",
     "status": "completed"
    },
    "tags": []
   },
   "outputs": [
    {
     "ename": "NameError",
     "evalue": "name 'tune_xgb_1' is not defined",
     "output_type": "error",
     "traceback": [
      "\u001b[0;31m---------------------------------------------------------------------------\u001b[0m",
      "\u001b[0;31mNameError\u001b[0m                                 Traceback (most recent call last)",
      "\u001b[0;32m<ipython-input-19-4088c3190c80>\u001b[0m in \u001b[0;36m<module>\u001b[0;34m\u001b[0m\n\u001b[0;32m----> 1\u001b[0;31m \u001b[0mmodel1\u001b[0m \u001b[0;34m=\u001b[0m \u001b[0mXGBClassifier\u001b[0m\u001b[0;34m(\u001b[0m\u001b[0;34m**\u001b[0m\u001b[0mtune_xgb_1\u001b[0m\u001b[0;34m.\u001b[0m\u001b[0mbest_params_\u001b[0m\u001b[0;34m)\u001b[0m\u001b[0;34m\u001b[0m\u001b[0;34m\u001b[0m\u001b[0m\n\u001b[0m\u001b[1;32m      2\u001b[0m \u001b[0mkf\u001b[0m \u001b[0;34m=\u001b[0m \u001b[0mStratifiedKFold\u001b[0m\u001b[0;34m(\u001b[0m\u001b[0mn_splits\u001b[0m\u001b[0;34m=\u001b[0m\u001b[0;36m10\u001b[0m\u001b[0;34m,\u001b[0m \u001b[0mshuffle\u001b[0m\u001b[0;34m=\u001b[0m\u001b[0;32mTrue\u001b[0m\u001b[0;34m,\u001b[0m \u001b[0mrandom_state\u001b[0m\u001b[0;34m=\u001b[0m\u001b[0;36m99\u001b[0m\u001b[0;34m)\u001b[0m\u001b[0;34m\u001b[0m\u001b[0;34m\u001b[0m\u001b[0m\n",
      "\u001b[0;31mNameError\u001b[0m: name 'tune_xgb_1' is not defined"
     ]
    }
   ],
   "source": [
    "model1 = XGBClassifier(**tune_xgb_1.best_params_)\n",
    "kf = StratifiedKFold(n_splits=10, shuffle=True, random_state=99)"
   ]
  },
  {
   "cell_type": "code",
   "execution_count": 20,
   "metadata": {
    "execution": {
     "iopub.execute_input": "2020-10-01T05:57:09.470617Z",
     "iopub.status.busy": "2020-10-01T05:57:09.469511Z",
     "iopub.status.idle": "2020-10-01T05:57:09.474949Z",
     "shell.execute_reply": "2020-10-01T05:57:09.474353Z"
    },
    "papermill": {
     "duration": 0.101245,
     "end_time": "2020-10-01T05:57:09.475090",
     "exception": false,
     "start_time": "2020-10-01T05:57:09.373845",
     "status": "completed"
    },
    "tags": []
   },
   "outputs": [
    {
     "ename": "NameError",
     "evalue": "name 'kf' is not defined",
     "output_type": "error",
     "traceback": [
      "\u001b[0;31m---------------------------------------------------------------------------\u001b[0m",
      "\u001b[0;31mNameError\u001b[0m                                 Traceback (most recent call last)",
      "\u001b[0;32m<ipython-input-20-a47a16835d41>\u001b[0m in \u001b[0;36m<module>\u001b[0;34m\u001b[0m\n\u001b[1;32m      2\u001b[0m \u001b[0mtest_predictions\u001b[0m \u001b[0;34m=\u001b[0m \u001b[0;34m[\u001b[0m\u001b[0;34m]\u001b[0m\u001b[0;34m\u001b[0m\u001b[0;34m\u001b[0m\u001b[0m\n\u001b[1;32m      3\u001b[0m \u001b[0;34m\u001b[0m\u001b[0m\n\u001b[0;32m----> 4\u001b[0;31m \u001b[0;32mfor\u001b[0m \u001b[0mi\u001b[0m\u001b[0;34m,\u001b[0m \u001b[0;34m(\u001b[0m\u001b[0mtrain_index\u001b[0m\u001b[0;34m,\u001b[0m \u001b[0mval_index\u001b[0m\u001b[0;34m)\u001b[0m \u001b[0;32min\u001b[0m \u001b[0menumerate\u001b[0m\u001b[0;34m(\u001b[0m\u001b[0mkf\u001b[0m\u001b[0;34m.\u001b[0m\u001b[0msplit\u001b[0m\u001b[0;34m(\u001b[0m\u001b[0mscaled_train\u001b[0m\u001b[0;34m,\u001b[0m \u001b[0my\u001b[0m\u001b[0;34m)\u001b[0m\u001b[0;34m)\u001b[0m\u001b[0;34m:\u001b[0m\u001b[0;34m\u001b[0m\u001b[0;34m\u001b[0m\u001b[0m\n\u001b[0m\u001b[1;32m      5\u001b[0m     \u001b[0mprint\u001b[0m\u001b[0;34m(\u001b[0m\u001b[0;34m\"*\"\u001b[0m \u001b[0;34m*\u001b[0m \u001b[0;36m75\u001b[0m \u001b[0;34m+\u001b[0m \u001b[0;34m\"\\nFold\"\u001b[0m \u001b[0;34m+\u001b[0m \u001b[0mstr\u001b[0m\u001b[0;34m(\u001b[0m\u001b[0mi\u001b[0m\u001b[0;34m)\u001b[0m\u001b[0;34m)\u001b[0m\u001b[0;34m\u001b[0m\u001b[0;34m\u001b[0m\u001b[0m\n\u001b[1;32m      6\u001b[0m     \u001b[0mcv_train\u001b[0m\u001b[0;34m,\u001b[0m \u001b[0mcv_val\u001b[0m \u001b[0;34m=\u001b[0m \u001b[0mscaled_train\u001b[0m\u001b[0;34m.\u001b[0m\u001b[0miloc\u001b[0m\u001b[0;34m[\u001b[0m\u001b[0mtrain_index\u001b[0m\u001b[0;34m]\u001b[0m\u001b[0;34m,\u001b[0m \u001b[0mscaled_train\u001b[0m\u001b[0;34m.\u001b[0m\u001b[0miloc\u001b[0m\u001b[0;34m[\u001b[0m\u001b[0mval_index\u001b[0m\u001b[0;34m]\u001b[0m\u001b[0;34m\u001b[0m\u001b[0;34m\u001b[0m\u001b[0m\n",
      "\u001b[0;31mNameError\u001b[0m: name 'kf' is not defined"
     ]
    }
   ],
   "source": [
    "local_validation = []\n",
    "test_predictions = []\n",
    "\n",
    "for i, (train_index, val_index) in enumerate(kf.split(scaled_train, y)):\n",
    "    print(\"*\" * 75 + \"\\nFold\" + str(i))\n",
    "    cv_train, cv_val = scaled_train.iloc[train_index], scaled_train.iloc[val_index]\n",
    "    y_train, y_val = y.iloc[train_index], y.iloc[val_index]\n",
    "    \n",
    "    model1.fit(cv_train, y_train)\n",
    "    y_pred = model1.predict_proba(cv_val)[:, 1]\n",
    "    local_validation.append(roc_auc_score(y_val, y_pred))\n",
    "    \n",
    "    test_pred = model1.predict_proba(scaled_test)[:, 1]\n",
    "    test_predictions.append(test_pred)   "
   ]
  },
  {
   "cell_type": "code",
   "execution_count": 21,
   "metadata": {
    "execution": {
     "iopub.execute_input": "2020-10-01T05:57:09.627039Z",
     "iopub.status.busy": "2020-10-01T05:57:09.626244Z",
     "iopub.status.idle": "2020-10-01T05:57:09.638376Z",
     "shell.execute_reply": "2020-10-01T05:57:09.638989Z"
    },
    "papermill": {
     "duration": 0.090527,
     "end_time": "2020-10-01T05:57:09.639155",
     "exception": false,
     "start_time": "2020-10-01T05:57:09.548628",
     "status": "completed"
    },
    "tags": []
   },
   "outputs": [
    {
     "name": "stdout",
     "output_type": "stream",
     "text": [
      "[]\n"
     ]
    },
    {
     "name": "stderr",
     "output_type": "stream",
     "text": [
      "/opt/conda/lib/python3.7/site-packages/numpy/core/fromnumeric.py:3335: RuntimeWarning: Mean of empty slice.\n",
      "  out=out, **kwargs)\n",
      "/opt/conda/lib/python3.7/site-packages/numpy/core/_methods.py:161: RuntimeWarning: invalid value encountered in double_scalars\n",
      "  ret = ret.dtype.type(ret / rcount)\n"
     ]
    },
    {
     "data": {
      "text/plain": [
       "nan"
      ]
     },
     "execution_count": 21,
     "metadata": {},
     "output_type": "execute_result"
    }
   ],
   "source": [
    "print(local_validation)\n",
    "np.mean(local_validation)"
   ]
  },
  {
   "cell_type": "code",
   "execution_count": 22,
   "metadata": {
    "execution": {
     "iopub.execute_input": "2020-10-01T05:57:09.795512Z",
     "iopub.status.busy": "2020-10-01T05:57:09.794692Z",
     "iopub.status.idle": "2020-10-01T05:57:09.798330Z",
     "shell.execute_reply": "2020-10-01T05:57:09.797523Z"
    },
    "papermill": {
     "duration": 0.083775,
     "end_time": "2020-10-01T05:57:09.798458",
     "exception": false,
     "start_time": "2020-10-01T05:57:09.714683",
     "status": "completed"
    },
    "tags": []
   },
   "outputs": [],
   "source": [
    "test_pred = np.mean(test_predictions, axis=0)"
   ]
  },
  {
   "cell_type": "markdown",
   "metadata": {
    "papermill": {
     "duration": 0.07433,
     "end_time": "2020-10-01T05:57:09.949211",
     "exception": false,
     "start_time": "2020-10-01T05:57:09.874881",
     "status": "completed"
    },
    "tags": []
   },
   "source": [
    "### Final Steps"
   ]
  },
  {
   "cell_type": "code",
   "execution_count": 23,
   "metadata": {
    "execution": {
     "iopub.execute_input": "2020-10-01T05:57:10.105663Z",
     "iopub.status.busy": "2020-10-01T05:57:10.104917Z",
     "iopub.status.idle": "2020-10-01T05:57:10.129565Z",
     "shell.execute_reply": "2020-10-01T05:57:10.128792Z"
    },
    "papermill": {
     "duration": 0.106726,
     "end_time": "2020-10-01T05:57:10.129691",
     "exception": false,
     "start_time": "2020-10-01T05:57:10.022965",
     "status": "completed"
    },
    "tags": []
   },
   "outputs": [],
   "source": [
    "submission = pd.read_csv(\"../input/2020aibootacampqualifiers/SampleSubmission.csv\")"
   ]
  },
  {
   "cell_type": "code",
   "execution_count": 24,
   "metadata": {
    "execution": {
     "iopub.execute_input": "2020-10-01T05:57:10.287472Z",
     "iopub.status.busy": "2020-10-01T05:57:10.286354Z",
     "iopub.status.idle": "2020-10-01T05:57:10.607911Z",
     "shell.execute_reply": "2020-10-01T05:57:10.607037Z"
    },
    "papermill": {
     "duration": 0.401487,
     "end_time": "2020-10-01T05:57:10.608056",
     "exception": false,
     "start_time": "2020-10-01T05:57:10.206569",
     "status": "completed"
    },
    "tags": []
   },
   "outputs": [],
   "source": [
    "submission.default_status = test_pred\n",
    "submission.to_csv(\"sub_xgb\", index=False)"
   ]
  },
  {
   "cell_type": "code",
   "execution_count": 25,
   "metadata": {
    "execution": {
     "iopub.execute_input": "2020-10-01T05:57:10.775675Z",
     "iopub.status.busy": "2020-10-01T05:57:10.767211Z",
     "iopub.status.idle": "2020-10-01T05:57:10.781050Z",
     "shell.execute_reply": "2020-10-01T05:57:10.780238Z"
    },
    "papermill": {
     "duration": 0.097163,
     "end_time": "2020-10-01T05:57:10.781194",
     "exception": false,
     "start_time": "2020-10-01T05:57:10.684031",
     "status": "completed"
    },
    "tags": []
   },
   "outputs": [
    {
     "data": {
      "text/html": [
       "<div>\n",
       "<style scoped>\n",
       "    .dataframe tbody tr th:only-of-type {\n",
       "        vertical-align: middle;\n",
       "    }\n",
       "\n",
       "    .dataframe tbody tr th {\n",
       "        vertical-align: top;\n",
       "    }\n",
       "\n",
       "    .dataframe thead th {\n",
       "        text-align: right;\n",
       "    }\n",
       "</style>\n",
       "<table border=\"1\" class=\"dataframe\">\n",
       "  <thead>\n",
       "    <tr style=\"text-align: right;\">\n",
       "      <th></th>\n",
       "      <th>Applicant_ID</th>\n",
       "      <th>default_status</th>\n",
       "    </tr>\n",
       "  </thead>\n",
       "  <tbody>\n",
       "    <tr>\n",
       "      <th>0</th>\n",
       "      <td>Apcnt_1000032</td>\n",
       "      <td>NaN</td>\n",
       "    </tr>\n",
       "    <tr>\n",
       "      <th>1</th>\n",
       "      <td>Apcnt_1000048</td>\n",
       "      <td>NaN</td>\n",
       "    </tr>\n",
       "  </tbody>\n",
       "</table>\n",
       "</div>"
      ],
      "text/plain": [
       "    Applicant_ID  default_status\n",
       "0  Apcnt_1000032             NaN\n",
       "1  Apcnt_1000048             NaN"
      ]
     },
     "execution_count": 25,
     "metadata": {},
     "output_type": "execute_result"
    }
   ],
   "source": [
    "submission.head(2)"
   ]
  },
  {
   "cell_type": "markdown",
   "metadata": {
    "papermill": {
     "duration": 0.084516,
     "end_time": "2020-10-01T05:57:10.951338",
     "exception": false,
     "start_time": "2020-10-01T05:57:10.866822",
     "status": "completed"
    },
    "tags": []
   },
   "source": [
    "### Next Steps\n",
    "\n",
    "How do we improve our model's accuracy?"
   ]
  },
  {
   "cell_type": "code",
   "execution_count": null,
   "metadata": {
    "papermill": {
     "duration": 0.084144,
     "end_time": "2020-10-01T05:57:11.125214",
     "exception": false,
     "start_time": "2020-10-01T05:57:11.041070",
     "status": "completed"
    },
    "tags": []
   },
   "outputs": [],
   "source": []
  }
 ],
 "metadata": {
  "kernelspec": {
   "display_name": "Python 3",
   "language": "python",
   "name": "python3"
  },
  "language_info": {
   "codemirror_mode": {
    "name": "ipython",
    "version": 3
   },
   "file_extension": ".py",
   "mimetype": "text/x-python",
   "name": "python",
   "nbconvert_exporter": "python",
   "pygments_lexer": "ipython3",
   "version": "3.7.6"
  },
  "papermill": {
   "duration": 137.228669,
   "end_time": "2020-10-01T05:57:11.315977",
   "environment_variables": {},
   "exception": null,
   "input_path": "__notebook__.ipynb",
   "output_path": "__notebook__.ipynb",
   "parameters": {},
   "start_time": "2020-10-01T05:54:54.087308",
   "version": "2.1.0"
  }
 },
 "nbformat": 4,
 "nbformat_minor": 4
}
